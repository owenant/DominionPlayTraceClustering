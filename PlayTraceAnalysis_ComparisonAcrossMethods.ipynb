{
 "cells": [
  {
   "cell_type": "code",
   "execution_count": 1,
   "id": "0e228ab9",
   "metadata": {},
   "outputs": [],
   "source": [
    "import pandas as pd\n",
    "import pdb\n",
    "import math\n",
    "import matplotlib.cm as cm\n",
    "import matplotlib.pyplot as plt\n",
    "import numpy as np\n",
    "#from sklearn.manifold import MDS \n",
    "from sklearn.cluster import KMeans\n",
    "from sklearn.cluster import DBSCAN\n",
    "from sklearn.cluster import SpectralClustering\n",
    "from sklearn.neighbors import NearestNeighbors\n",
    "import itertools\n",
    "from sklearn.metrics import silhouette_samples, silhouette_score\n",
    "import warnings\n",
    "\n",
    "warnings.filterwarnings('ignore')\n",
    "pd.set_option('display.max_rows', 200)"
   ]
  },
  {
   "cell_type": "code",
   "execution_count": 3,
   "id": "20a5eb34",
   "metadata": {},
   "outputs": [
    {
     "name": "stdout",
     "output_type": "stream",
     "text": [
      "       GameID  Player  Round  Turn  CurrentScore  SCORE  SCORE_ADV  ORDINAL  \\\n",
      "0         2.0     0.0    0.0   0.0           4.0   0.08       0.04      0.5   \n",
      "1         2.0     1.0    0.0   0.0           3.0   0.06      -0.04      1.0   \n",
      "2         2.0     0.0    0.0   1.0           4.0   0.08       0.04      0.5   \n",
      "3         2.0     1.0    0.0   1.0           3.0   0.06      -0.04      1.0   \n",
      "4         2.0     0.0    1.0   0.0           4.0   0.08       0.04      0.5   \n",
      "...       ...     ...    ...   ...           ...    ...        ...      ...   \n",
      "19523   201.0     1.0   22.0   0.0          27.0   0.54      -0.68      1.0   \n",
      "19524   201.0     0.0   22.0   1.0          44.0   0.88       0.64      0.5   \n",
      "19525   201.0     1.0   22.0   1.0          28.0   0.56      -0.64      1.0   \n",
      "19526   201.0     0.0   23.0   0.0          50.0   1.00       0.88      0.5   \n",
      "19527   201.0     1.0   23.0   0.0          28.0   0.56      -0.88      1.0   \n",
      "\n",
      "       OUR_TURN  HAS_WON  ...  SENTRY  WITCH  ARTISAN  WOODCUTTER  \\\n",
      "0           1.0      0.0  ...     0.0    0.0      0.0         0.0   \n",
      "1           0.0      0.0  ...     0.0    0.0      0.0         0.0   \n",
      "2           0.0      0.0  ...     0.0    0.0      0.0         0.0   \n",
      "3           1.0      0.0  ...     0.0    0.0      0.0         0.0   \n",
      "4           1.0      0.0  ...     0.0    0.0      0.0         0.0   \n",
      "...         ...      ...  ...     ...    ...      ...         ...   \n",
      "19523       0.0      0.0  ...     0.0    0.0      0.0         1.0   \n",
      "19524       0.0      0.0  ...     0.0    0.0      0.0         0.0   \n",
      "19525       1.0      0.0  ...     0.0    0.0      0.0         1.0   \n",
      "19526       1.0      1.0  ...     0.0    0.0      0.0         0.0   \n",
      "19527       0.0      0.0  ...     0.0    0.0      0.0         1.0   \n",
      "\n",
      "       PlayerCount  TotalRounds  ActionScore  Win  Ordinal  FinalScore  \n",
      "0              2.0         24.0          0.0  0.0      2.0        33.0  \n",
      "1              2.0         24.0          0.0  1.0      1.0        50.0  \n",
      "2              2.0         24.0          0.0  0.0      2.0        33.0  \n",
      "3              2.0         24.0          0.0  1.0      1.0        50.0  \n",
      "4              2.0         24.0          0.0  0.0      2.0        33.0  \n",
      "...            ...          ...          ...  ...      ...         ...  \n",
      "19523          2.0         23.0          0.0  0.0      2.0        28.0  \n",
      "19524          2.0         23.0          0.0  1.0      1.0        50.0  \n",
      "19525          2.0         23.0          0.0  0.0      2.0        28.0  \n",
      "19526          2.0         23.0          0.0  1.0      1.0        50.0  \n",
      "19527          2.0         23.0          0.0  0.0      2.0        28.0  \n",
      "\n",
      "[19528 rows x 52 columns]\n",
      "Index(['GameID', 'Player', 'Round', 'Turn', 'CurrentScore', 'SCORE',\n",
      "       'SCORE_ADV', 'ORDINAL', 'OUR_TURN', 'HAS_WON', 'FINAL_ORD', 'ROUND',\n",
      "       'CURSE', 'ESTATE', 'DUCHY', 'PROVINCE', 'COPPER', 'SILVER', 'GOLD',\n",
      "       'CELLAR', 'CHAPEL', 'MOAT', 'HARBINGER', 'MERCHANT', 'VASSAL',\n",
      "       'VILLAGE', 'WORKSHOP', 'BUREAUCRAT', 'GARDENS', 'MILITIA',\n",
      "       'MONEYLENDER', 'POACHER', 'REMODEL', 'SMITHY', 'THRONE_ROOM', 'BANDIT',\n",
      "       'COUNCIL_ROOM', 'FESTIVAL', 'LABORATORY', 'LIBRARY', 'MARKET', 'MINE',\n",
      "       'SENTRY', 'WITCH', 'ARTISAN', 'WOODCUTTER', 'PlayerCount',\n",
      "       'TotalRounds', 'ActionScore', 'Win', 'Ordinal', 'FinalScore'],\n",
      "      dtype='object')\n"
     ]
    }
   ],
   "source": [
    "data  = pd.read_csv(\"data/featureslogfile_Budget_500_vs_Budget_500_GPM100_FG1E_NoSelfPlay.txt\", sep = '\\t')\n",
    "#data  = pd.read_csv(\"data/2Player_FG1E_Supply_AllYears_Traces.txt\", sep = ' ')\n",
    "print(data)\n",
    "print(data.columns)"
   ]
  },
  {
   "cell_type": "code",
   "execution_count": 3,
   "id": "97c5229d",
   "metadata": {},
   "outputs": [],
   "source": [
    "#data = data[data['GameID']!=1000]"
   ]
  },
  {
   "cell_type": "code",
   "execution_count": 4,
   "id": "d23e480f",
   "metadata": {},
   "outputs": [],
   "source": [
    "#LOGS_FROM_TAG = False #if false, logs are from parsed online player logs\n",
    "LOGS_FROM_TAG = True\n",
    "\n",
    "#choose whether or not to normalise playtraces so that each vector has a length of one\n",
    "USE_UNIT_VECTOR_PLAYTRACES = False\n",
    "\n",
    "#choose whether to make each deck vector entry between zero and one\n",
    "USE_UNIT_CARD_COUNTS = False\n",
    "\n",
    "#decide whether or not to remove outliers\n",
    "REMOVE_OUTLIERS = True\n",
    "\n",
    "NOOFPLAYERS = 2 #note, keep this fixed and dont change it - we always assume there are only two players\n",
    "#agents = ['BMWG', 'DW']\n",
    "#agents = ['MCTS_Medium_A', 'MCTS_Medium_B'] #arbitrary labels for players (whether AI based or not)\n",
    "agents = ['PlayerA', 'PlayerB']\n",
    "\n",
    "#if using TAG, parameters for round robin tournament\n",
    "games_per_matchup = 100\n",
    "self_play = False\n",
    "#NoOfGames = 2 * games_per_matchup\n",
    "NoOfGames = len(data['GameID'].unique())\n",
    "if self_play == True:\n",
    "    NoOfGames = 4 * games_per_matchup\n",
    "    \n",
    "#if not using TAG, determine no of games \n",
    "if LOGS_FROM_TAG == False:\n",
    "    NoOfGames = data['GameID'].max()  + 1 #GameID starts at zero"
   ]
  },
  {
   "cell_type": "code",
   "execution_count": 5,
   "id": "da021e25",
   "metadata": {},
   "outputs": [],
   "source": [
    "#define columns of interest \n",
    "#card_types_BigMoneyWithGardens_vs_DoubleWitch = ['GARDENS', 'WITCH', 'CURSE', 'PROVINCE', 'DUCHY', 'ESTATE', 'GOLD', 'SILVER', 'COPPER']\n",
    "card_types_SD = ['ARTISAN', 'BANDIT', 'BUREAUCRAT', 'CHAPEL', 'FESTIVAL', 'GARDENS', 'SENTRY', 'THRONE_ROOM', 'WITCH',\n",
    "                 'WORKSHOP', 'CURSE', 'PROVINCE', 'DUCHY', 'ESTATE', 'GOLD', 'SILVER', 'COPPER']\n",
    "card_types_FG1E = ['CELLAR','MARKET','MILITIA','MINE','MOAT','REMODEL','SMITHY','VILLAGE',\n",
    "                'WOODCUTTER','WORKSHOP', 'CURSE', 'PROVINCE', 'DUCHY', 'ESTATE', 'GOLD', 'SILVER', 'COPPER']\n",
    "card_types_BigMoneyWithGardens_vs_DoubleWitch = ['GARDENS', 'WITCH', 'CURSE', 'PROVINCE', 'DUCHY', 'ESTATE', 'GOLD', 'SILVER', 'COPPER']\n",
    "#card_types_SD_reduced = ['GARDENS', 'WORKSHOP','PROVINCE', 'DUCHY', 'ESTATE', 'GOLD', 'SILVER', 'COPPER']\n",
    "card_types_SD_reduced = ['CURSE']\n",
    "#card_types = card_types_SD_reduced \n",
    "card_types = card_types_FG1E\n",
    "#card_types = card_types_SD\n",
    "index_cols = ['Player', 'GameID'] #used to group traces\n",
    "non_card_types_round_indep_cols = ['AgentName', 'Win', 'FinalScore', 'TotalRounds'] #additional round indepedent values we want to investigate\n",
    "cols = index_cols + non_card_types_round_indep_cols + ['Round'] + card_types #final set of cols to keep"
   ]
  },
  {
   "cell_type": "code",
   "execution_count": 6,
   "id": "9d70676e",
   "metadata": {},
   "outputs": [],
   "source": [
    "#label all games with corresponding agent names\n",
    "\n",
    "if LOGS_FROM_TAG == True:\n",
    "    #first generate match-ups\n",
    "    matchups = []\n",
    "    if self_play:\n",
    "        for agent1 in agents:\n",
    "            for agent2 in agents:\n",
    "                matchups.append((agent1, agent2))\n",
    "    else:\n",
    "        matchups = list(itertools.permutations(agents, 2))\n",
    "\n",
    "    #function to map gameID to match-up\n",
    "    def gameID_to_matchup(game_id, player_no, matchup_list, no_games_per_matchup, min_game_id):\n",
    "        game_group = int((game_id - min_game_id)/no_games_per_matchup)\n",
    "        matchup = matchup_list[game_group]\n",
    "        agent1, agent2 = matchup\n",
    "        if player_no == 0:\n",
    "            return agent1\n",
    "        else:\n",
    "            return agent2\n",
    "\n",
    "    #add agent names to data set\n",
    "    min_GameID = data['GameID'].min()\n",
    "    data['AgentName'] = data.apply(lambda row: gameID_to_matchup(row['GameID'], row['Player'], matchups, games_per_matchup, min_GameID), axis = 1)                         "
   ]
  },
  {
   "cell_type": "code",
   "execution_count": 7,
   "id": "e24093be",
   "metadata": {},
   "outputs": [
    {
     "name": "stdout",
     "output_type": "stream",
     "text": [
      "[0. 1.]\n"
     ]
    }
   ],
   "source": [
    "#we can only record events each turn so we need to use the final turn in each round for each player to determine their\n",
    "#deck at the end of the round\n",
    "if LOGS_FROM_TAG:\n",
    "    print(data['Turn'].unique())\n",
    "    data = data[data['Turn'] == 1]"
   ]
  },
  {
   "cell_type": "code",
   "execution_count": 8,
   "id": "08b1fa6b",
   "metadata": {},
   "outputs": [
    {
     "name": "stdout",
     "output_type": "stream",
     "text": [
      "       Player  GameID AgentName  Win  FinalScore  TotalRounds  Round  CELLAR  \\\n",
      "2         0.0     2.0   PlayerA  0.0        33.0         24.0    0.0     0.0   \n",
      "3         1.0     2.0   PlayerB  1.0        50.0         24.0    0.0     0.0   \n",
      "6         0.0     2.0   PlayerA  0.0        33.0         24.0    1.0     0.0   \n",
      "7         1.0     2.0   PlayerB  1.0        50.0         24.0    1.0     0.0   \n",
      "10        0.0     2.0   PlayerA  0.0        33.0         24.0    2.0     0.0   \n",
      "...       ...     ...       ...  ...         ...          ...    ...     ...   \n",
      "19517     1.0   201.0   PlayerA  0.0        28.0         23.0   20.0     0.0   \n",
      "19520     0.0   201.0   PlayerB  1.0        50.0         23.0   21.0     0.0   \n",
      "19521     1.0   201.0   PlayerA  0.0        28.0         23.0   21.0     0.0   \n",
      "19524     0.0   201.0   PlayerB  1.0        50.0         23.0   22.0     0.0   \n",
      "19525     1.0   201.0   PlayerA  0.0        28.0         23.0   22.0     0.0   \n",
      "\n",
      "       MARKET  MILITIA  ...  VILLAGE  WOODCUTTER  WORKSHOP  CURSE  PROVINCE  \\\n",
      "2         0.0      0.0  ...      0.0         0.0       0.0    0.0       0.0   \n",
      "3         0.0      0.0  ...      0.0         0.0       1.0    0.0       0.0   \n",
      "6         0.0      0.0  ...      0.0         0.0       0.0    0.0       0.0   \n",
      "7         0.0      0.0  ...      0.0         0.0       1.0    0.0       0.0   \n",
      "10        0.0      0.0  ...      0.0         0.0       0.0    0.0       0.0   \n",
      "...       ...      ...  ...      ...         ...       ...    ...       ...   \n",
      "19517     0.0      0.0  ...      0.0         1.0       0.0    0.0       2.0   \n",
      "19520     0.0      0.0  ...      0.0         0.0       0.0    0.0       5.0   \n",
      "19521     1.0      0.0  ...      0.0         1.0       0.0    0.0       2.0   \n",
      "19524     0.0      0.0  ...      0.0         0.0       0.0    0.0       5.0   \n",
      "19525     1.0      0.0  ...      0.0         1.0       0.0    0.0       2.0   \n",
      "\n",
      "       DUCHY  ESTATE  GOLD  SILVER  COPPER  \n",
      "2        0.0     4.0   0.0     0.0     7.0  \n",
      "3        0.0     3.0   0.0     0.0     7.0  \n",
      "6        0.0     4.0   0.0     1.0     7.0  \n",
      "7        0.0     3.0   0.0     1.0     7.0  \n",
      "10       0.0     4.0   0.0     2.0     7.0  \n",
      "...      ...     ...   ...     ...     ...  \n",
      "19517    3.0     6.0   5.0     5.0     7.0  \n",
      "19520    3.0     5.0   2.0     8.0     7.0  \n",
      "19521    3.0     6.0   5.0     5.0     7.0  \n",
      "19524    3.0     5.0   2.0     9.0     7.0  \n",
      "19525    3.0     7.0   5.0     5.0     7.0  \n",
      "\n",
      "[9656 rows x 24 columns]\n"
     ]
    }
   ],
   "source": [
    "#all play taces in a single data frame\n",
    "traces = data.loc[:, cols]\n",
    "print(traces)"
   ]
  },
  {
   "cell_type": "code",
   "execution_count": 9,
   "id": "2b7b5a04",
   "metadata": {},
   "outputs": [
    {
     "data": {
      "image/png": "[encoded data removed]",
      "text/plain": [
       "<Figure size 640x480 with 2 Axes>"
      ]
     },
     "metadata": {},
     "output_type": "display_data"
    }
   ],
   "source": [
    "#plot score and round distributions\n",
    "fig, axs = plt.subplots(2, 1)\n",
    "grouped_data = traces.groupby('GameID')\n",
    "score_data = grouped_data['FinalScore'].unique().explode()\n",
    "axs[0].hist(score_data, bins=np.arange(score_data.min(), score_data.max()+1))\n",
    "axs[0].set_xlabel('Final score')\n",
    "axs[0].set_ylabel('Number of games')\n",
    "axs[0].set_title('Score distribution')\n",
    "round_data = traces.groupby('GameID')['Round'].max()\n",
    "axs[1].hist(round_data, bins=np.arange(round_data.min(), round_data.max()+1))\n",
    "axs[1].set_xlabel('Number of rounds')\n",
    "axs[1].set_ylabel('Number of games')\n",
    "axs[1].set_title('Round distribution')\n",
    "fig.tight_layout() "
   ]
  },
  {
   "cell_type": "code",
   "execution_count": 10,
   "id": "18e29827",
   "metadata": {},
   "outputs": [
    {
     "name": "stdout",
     "output_type": "stream",
     "text": [
      "No traces before outlier removal: 9656\n",
      "No traces after outlier removal: 9656\n",
      "Percentage remaining of original data set: 1.0\n"
     ]
    },
    {
     "data": {
      "image/png": "[encoded data removed]",
      "text/plain": [
       "<Figure size 640x480 with 2 Axes>"
      ]
     },
     "metadata": {},
     "output_type": "display_data"
    }
   ],
   "source": [
    "#remove outliers based on thresholds for score and length of game\n",
    "#score_threshold = 80\n",
    "#round_threshold = 46\n",
    "score_threshold = 300\n",
    "round_threshold = 300\n",
    "traces_no_outliers = traces[(traces['FinalScore'] <= score_threshold)\n",
    "                                           & (traces['TotalRounds'] <= round_threshold)]\n",
    "#then re-plot score and round distributions\n",
    "fig, axs = plt.subplots(2, 1)\n",
    "grouped_data = traces_no_outliers.groupby('GameID')\n",
    "score_data = grouped_data['FinalScore'].unique().explode()\n",
    "axs[0].hist(score_data, bins=np.arange(score_data.min(), score_data.max()+1))\n",
    "axs[0].set_xlabel('Final score')\n",
    "axs[0].set_ylabel('Number of games')\n",
    "axs[0].set_title('Score distribution')\n",
    "round_data = grouped_data['TotalRounds'].unique().explode()\n",
    "axs[1].hist(round_data, bins=np.arange(round_data.min(), round_data.max()+1))\n",
    "axs[1].set_xlabel('Number of rounds')\n",
    "axs[1].set_ylabel('Number of games')\n",
    "axs[1].set_title('Round distribution')\n",
    "fig.tight_layout() \n",
    "\n",
    "print(\"No traces before outlier removal: \" + str(len(traces)))\n",
    "print(\"No traces after outlier removal: \" + str(len(traces_no_outliers)))\n",
    "print(\"Percentage remaining of original data set: \" + str(len(traces_no_outliers)/(1.0*len(traces)))) "
   ]
  },
  {
   "cell_type": "code",
   "execution_count": 11,
   "id": "4bd5eef1",
   "metadata": {},
   "outputs": [],
   "source": [
    "if REMOVE_OUTLIERS:\n",
    "    traces = traces_no_outliers\n",
    "    NoOfGames = len(traces['GameID'].unique())"
   ]
  },
  {
   "cell_type": "code",
   "execution_count": 12,
   "id": "64712c11",
   "metadata": {},
   "outputs": [
    {
     "name": "stdout",
     "output_type": "stream",
     "text": [
      "40\n"
     ]
    }
   ],
   "source": [
    "#we need to make sure all games have the same number of rounds in them\n",
    "gameLengths = traces.groupby(['GameID'])['Round'].max()\n",
    "maxNoOfRounds = int(gameLengths.max()) + 1 #round counter starts at zero\n",
    "print(maxNoOfRounds)"
   ]
  },
  {
   "cell_type": "code",
   "execution_count": 13,
   "id": "298bbb35",
   "metadata": {},
   "outputs": [],
   "source": [
    "def copy_final_deck_at_game_end(group, roundMax, noPlayers):\n",
    "    #This function repeatedly copies the final decks of two players at the game end, so that the game is extended to \n",
    "    #have roundMax rounds\n",
    "    final_round = int(group['Round'].max())\n",
    "    if (roundMax-1) == final_round:\n",
    "        #in this case we dont need to extend the play trace\n",
    "        return group\n",
    "    else:\n",
    "        final_row_copy = pd.concat([group.iloc[-noPlayers:]] * ((roundMax-1) - final_round), ignore_index=True)\n",
    "        #we need to update the Round counter so that every other row it increments by one\n",
    "        final_row_copy['Round'] = [final_round + 1 + i // 2 for i in range(((roundMax-1) - final_round)*2)]\n",
    "        return pd.concat([group, final_row_copy], ignore_index=True)"
   ]
  },
  {
   "cell_type": "code",
   "execution_count": 14,
   "id": "8aba9051",
   "metadata": {},
   "outputs": [
    {
     "name": "stdout",
     "output_type": "stream",
     "text": [
      "       Player  GameID AgentName  Win  FinalScore  TotalRounds  Round  CELLAR  \\\n",
      "0         0.0     2.0   PlayerA  0.0        33.0         24.0    0.0     0.0   \n",
      "1         1.0     2.0   PlayerB  1.0        50.0         24.0    0.0     0.0   \n",
      "2         0.0     2.0   PlayerA  0.0        33.0         24.0    1.0     0.0   \n",
      "3         1.0     2.0   PlayerB  1.0        50.0         24.0    1.0     0.0   \n",
      "4         0.0     2.0   PlayerA  0.0        33.0         24.0    2.0     0.0   \n",
      "...       ...     ...       ...  ...         ...          ...    ...     ...   \n",
      "15995     1.0   201.0   PlayerA  0.0        28.0         23.0   37.0     0.0   \n",
      "15996     0.0   201.0   PlayerB  1.0        50.0         23.0   38.0     0.0   \n",
      "15997     1.0   201.0   PlayerA  0.0        28.0         23.0   38.0     0.0   \n",
      "15998     0.0   201.0   PlayerB  1.0        50.0         23.0   39.0     0.0   \n",
      "15999     1.0   201.0   PlayerA  0.0        28.0         23.0   39.0     0.0   \n",
      "\n",
      "       MARKET  MILITIA  ...  VILLAGE  WOODCUTTER  WORKSHOP  CURSE  PROVINCE  \\\n",
      "0         0.0      0.0  ...      0.0         0.0       0.0    0.0       0.0   \n",
      "1         0.0      0.0  ...      0.0         0.0       1.0    0.0       0.0   \n",
      "2         0.0      0.0  ...      0.0         0.0       0.0    0.0       0.0   \n",
      "3         0.0      0.0  ...      0.0         0.0       1.0    0.0       0.0   \n",
      "4         0.0      0.0  ...      0.0         0.0       0.0    0.0       0.0   \n",
      "...       ...      ...  ...      ...         ...       ...    ...       ...   \n",
      "15995     1.0      0.0  ...      0.0         1.0       0.0    0.0       2.0   \n",
      "15996     0.0      0.0  ...      0.0         0.0       0.0    0.0       5.0   \n",
      "15997     1.0      0.0  ...      0.0         1.0       0.0    0.0       2.0   \n",
      "15998     0.0      0.0  ...      0.0         0.0       0.0    0.0       5.0   \n",
      "15999     1.0      0.0  ...      0.0         1.0       0.0    0.0       2.0   \n",
      "\n",
      "       DUCHY  ESTATE  GOLD  SILVER  COPPER  \n",
      "0        0.0     4.0   0.0     0.0     7.0  \n",
      "1        0.0     3.0   0.0     0.0     7.0  \n",
      "2        0.0     4.0   0.0     1.0     7.0  \n",
      "3        0.0     3.0   0.0     1.0     7.0  \n",
      "4        0.0     4.0   0.0     2.0     7.0  \n",
      "...      ...     ...   ...     ...     ...  \n",
      "15995    3.0     7.0   5.0     5.0     7.0  \n",
      "15996    3.0     5.0   2.0     9.0     7.0  \n",
      "15997    3.0     7.0   5.0     5.0     7.0  \n",
      "15998    3.0     5.0   2.0     9.0     7.0  \n",
      "15999    3.0     7.0   5.0     5.0     7.0  \n",
      "\n",
      "[16000 rows x 24 columns]\n",
      "Expected no rows: 16000\n",
      "Expected no of cols: 24\n",
      "(16000, 24)\n"
     ]
    }
   ],
   "source": [
    "extended_traces = traces.groupby('GameID').apply(copy_final_deck_at_game_end, maxNoOfRounds, NOOFPLAYERS).reset_index(drop = True)\n",
    "print(extended_traces)\n",
    "print(\"Expected no rows: \" + str(maxNoOfRounds*NOOFPLAYERS*NoOfGames))\n",
    "print(\"Expected no of cols: \" + str(len(card_types)+7))\n",
    "print(extended_traces.shape)"
   ]
  },
  {
   "cell_type": "code",
   "execution_count": 15,
   "id": "935c86fe",
   "metadata": {},
   "outputs": [],
   "source": [
    "#next if required we convert all entries ot values between zero and one\n",
    "#to do this for each round we look at the maximum number of card tyoes for that round\n",
    "#and divide all card amounts for that card type and for that round by the maximum\n",
    "\n",
    "def normalise_card_counts(row, maxCardByType, cardTypes, maxRounds):\n",
    "    for card in cardTypes:\n",
    "        max_val = 1\n",
    "        if maxCardByType[maxRounds-1][card] > 0:\n",
    "            max_val = maxCardByType[maxRounds-1][card]\n",
    "        row[card] = row[card]/max_val\n",
    "    return row\n",
    "\n",
    "max_card_by_type = {}\n",
    "if USE_UNIT_CARD_COUNTS:\n",
    "    for round_no in range(0, maxNoOfRounds):\n",
    "        max_card_by_type[round_no] = {}\n",
    "        for card in card_types:\n",
    "            tmp = extended_traces[extended_traces['Round'] == round_no]\n",
    "            max_card_by_type[round_no][card] = tmp[card].max()\n",
    "            #pdb.set_trace()\n",
    "    \n",
    "    #next divide each card amount by the maximum value\n",
    "    extended_traces = extended_traces.apply(lambda row: normalise_card_counts(row, max_card_by_type, card_types, maxNoOfRounds), axis = 1) "
   ]
  },
  {
   "cell_type": "code",
   "execution_count": 16,
   "id": "0a958569",
   "metadata": {},
   "outputs": [],
   "source": [
    "#next we need to flatten this dataframe so that each trace is a single row.\n",
    "#We also drop the round label as it is redundant\n",
    "#and it will get reintroduced when flattening through the revised column names\n",
    "\n",
    "#given a dictionary whose elements are lists of length two, grab the other element not given by elem, used in code\n",
    "#below\n",
    "def other_dict_element(my_dict, my_key, my_elem):\n",
    "    index_of_given_element = my_dict[my_key].index(my_elem)\n",
    "    index_of_other_element =  1 if (index_of_given_element == 0) else 0\n",
    "    return my_dict[my_key][index_of_other_element]\n",
    "\n",
    "#first create dataframe consisting of only non card type data types that are round \n",
    "#independent\n",
    "non_card_data_round_indep = extended_traces[index_cols + non_card_types_round_indep_cols].drop_duplicates()\n",
    "\n",
    "#next need to Group by Player and GameID and then flatten card data by round\n",
    "traces_tmp = extended_traces[index_cols + card_types]\n",
    "cols = [card_types[i] + \"_R\" + str(r) \n",
    "        for r in range(0, maxNoOfRounds) for i in range(0, len(card_types))] \n",
    "\n",
    "extended_traces_flat = traces_tmp.groupby(index_cols).apply(lambda df: df[card_types].values.flatten())\n",
    "extended_traces_flat = pd.DataFrame(extended_traces_flat, columns = ['Trace']).reset_index()\n",
    "extended_traces_flat = pd.concat([extended_traces_flat[index_cols], extended_traces_flat['Trace'].apply(pd.Series)], axis=1)\n",
    "extended_traces_flat.columns = index_cols + cols\n",
    "\n",
    "#next we add back in the round independent data\n",
    "extended_traces_flat = pd.merge(non_card_data_round_indep, extended_traces_flat, on = index_cols)\n",
    "                                 \n",
    "#finally we also add the name of the agent of the opponent \n",
    "extended_traces_flat['Opponent'] = extended_traces_flat.apply(lambda row: 1.0 if row['Player'] == 0.0 else 0.0, axis = 1)\n",
    "if LOGS_FROM_TAG:\n",
    "    extended_traces_flat['AgentNameOpponent'] = extended_traces_flat.apply(lambda row: gameID_to_matchup(row['GameID'], row['Opponent'], matchups, games_per_matchup, min_GameID), axis = 1)  \n",
    "else:\n",
    "    gameid_to_players_dict = extended_traces_flat.groupby('GameID')['AgentName'].apply(list).to_dict()\n",
    "    extended_traces_flat['AgentNameOpponent'] = extended_traces_flat.apply(lambda row: \n",
    "                            other_dict_element(gameid_to_players_dict, row['GameID'], row['AgentName']), axis = 1)   "
   ]
  },
  {
   "cell_type": "code",
   "execution_count": 17,
   "id": "c09a50a8",
   "metadata": {},
   "outputs": [],
   "source": [
    "#prepare data for clustering approaches\n",
    "tmp =  index_cols + non_card_types_round_indep_cols\n",
    "tmp  = tmp + ['Opponent','AgentNameOpponent']\n",
    "trace_X = extended_traces_flat.drop(tmp, axis = 1)\n",
    "\n",
    "#alos create a normalised set pf playtraces \n",
    "def normalize_row(row):\n",
    "    norm = np.linalg.norm(row)  # Compute the L2 norm of the row\n",
    "    if norm != 0:\n",
    "        return row / norm\n",
    "    else:\n",
    "        return row\n",
    "    \n",
    "trace_X_normalised = trace_X.apply(lambda row: normalize_row(row), axis = 1)\n",
    "\n",
    "#choose whether or not to normalise playtraces\n",
    "if USE_UNIT_VECTOR_PLAYTRACES:\n",
    "    trace_X = trace_X_normalised"
   ]
  },
  {
   "cell_type": "code",
   "execution_count": 31,
   "id": "7553e005",
   "metadata": {},
   "outputs": [],
   "source": [
    "def sa_kmeans(data, num_clusters):\n",
    "    clusterer = KMeans(n_clusters=num_clusters, init='k-means++', n_init= 'warn', max_iter=300, tol=0.0001, verbose=0, random_state=None, copy_x=True, algorithm='lloyd').fit(data)\n",
    "    cluster_labels = clusterer.fit_predict(trace_X)\n",
    "    return silhouette_score(data, cluster_labels)\n",
    "    \n",
    "def sa_dbscan(data, minPts = 5, epsilon = 0.3):\n",
    "    neighbors = NearestNeighbors(n_neighbors= minPts)\n",
    "    neighbors_fit = neighbors.fit(data)\n",
    "    distances, indices = neighbors_fit.kneighbors(data)\n",
    "\n",
    "    #Sort distance values by ascending value and plot\n",
    "    distances = np.sort(distances, axis=0)\n",
    "    distances = distances[:,1]\n",
    "    plt.plot(distances)\n",
    "    plt.xlabel('Playtrace instance')\n",
    "    plt.ylabel('Average distance to minPts neighbours')\n",
    "    plt.title('K-Nearest neighbours')\n",
    "    \n",
    "    dbscan_clustering = DBSCAN(eps= epsilon, min_samples= minPts).fit(data)\n",
    "    \n",
    "    if len(np.unique(dbscan_clustering.labels_)) == 1:\n",
    "        return None\n",
    "    else:\n",
    "        return silhouette_score(data, dbscan_clustering.labels_)\n",
    "    \n",
    "def sa_spectral_clustering_KNN(data, num_clusters, num_nearest_neighbours):\n",
    "    #here the affinity matrix is based on K-NN\n",
    "    spec_clustering_knn = SpectralClustering(n_clusters= num_clusters,\n",
    "                                             random_state=0,\n",
    "                                             affinity = 'nearest_neighbors',\n",
    "                                             n_neighbors = num_nearest_neighbours,\n",
    "                                             assign_labels='kmeans').fit(data)    \n",
    "    return silhouette_score(data, spec_clustering_knn.labels_)\n",
    "\n",
    "def sa_spectral_clustering_RBF(data, num_clusters, gamma_val = 0.4):\n",
    "    spec_clustering_rbf = SpectralClustering(n_clusters= num_clusters,\n",
    "                                         random_state=0,\n",
    "                                         gamma = gamma_val,\n",
    "                                         affinity = 'rbf',\n",
    "                                         assign_labels='kmeans').fit(data)\n",
    "    return silhouette_score(data, spec_clustering_rbf.labels_)\n",
    "    \n",
    "def sa_bigrams():\n",
    "    return None"
   ]
  },
  {
   "cell_type": "code",
   "execution_count": 32,
   "id": "0c58ec5c",
   "metadata": {},
   "outputs": [
    {
     "name": "stdout",
     "output_type": "stream",
     "text": [
      "Kmeans: 0.15301889993988213\n",
      "DBSCAN: None\n",
      "Spectral Clustering - KNN: 0.13833712714456536\n",
      "Spectral Clustering - RBF: 0.4318991872062448\n"
     ]
    },
    {
     "data": {
      "image/png": "[encoded data removed]",
      "text/plain": [
       "<Figure size 640x480 with 1 Axes>"
      ]
     },
     "metadata": {},
     "output_type": "display_data"
    }
   ],
   "source": [
    "#next we consider  different methods and produce a silhouette average for each method\n",
    "\n",
    "#kmeans\n",
    "n_clusters = 2\n",
    "sa_kmeans_result = sa_kmeans(trace_X, n_clusters)\n",
    "\n",
    "#DBSCAN\n",
    "minpts = 5\n",
    "epsilon = 0.3\n",
    "sa_dbscan_result = sa_dbscan(trace_X_normalised, minpts, epsilon)\n",
    "\n",
    "#Spectral Clustering using KNN\n",
    "num_NN = 10\n",
    "sa_spectral_result_knn = sa_spectral_clustering_KNN(trace_X, n_clusters, num_NN)\n",
    "\n",
    "#Spectral Clustering using RBF\n",
    "gamma = 0.4\n",
    "sa_spectral_result_rbf = sa_spectral_clustering_RBF(trace_X, n_clusters, gamma)\n",
    "\n",
    "#Bi-grams\n",
    "\n",
    "print(\"Kmeans: \" + str(sa_kmeans_result))\n",
    "print(\"DBSCAN: \" + str(sa_dbscan_result))\n",
    "print(\"Spectral Clustering - KNN: \" + str(sa_spectral_result_knn))\n",
    "print(\"Spectral Clustering - RBF: \" + str(sa_spectral_result_rbf))"
   ]
  }
 ],
 "metadata": {
  "kernelspec": {
   "display_name": "Python 3 (ipykernel)",
   "language": "python",
   "name": "python3"
  },
  "language_info": {
   "codemirror_mode": {
    "name": "ipython",
    "version": 3
   },
   "file_extension": ".py",
   "mimetype": "text/x-python",
   "name": "python",
   "nbconvert_exporter": "python",
   "pygments_lexer": "ipython3",
   "version": "3.9.18"
  }
 },
 "nbformat": 4,
 "nbformat_minor": 5
}
