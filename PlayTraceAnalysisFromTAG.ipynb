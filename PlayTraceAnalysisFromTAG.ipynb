{
 "cells": [
  {
   "cell_type": "code",
   "execution_count": 1,
   "id": "6ddf0f21",
   "metadata": {},
   "outputs": [],
   "source": [
    "#assumptions that will break if we use MCTS for play traces in this code\n",
    "#1. Turn wont be either 0 or 1\n",
    "#2. Cant just copy the final two rows to extend round number to maxNoOfRounds"
   ]
  },
  {
   "cell_type": "code",
   "execution_count": 2,
   "id": "0e228ab9",
   "metadata": {},
   "outputs": [],
   "source": [
    "import pandas as pd\n",
    "import pdb\n",
    "import math\n",
    "import matplotlib.pyplot as plt\n",
    "#from sklearn.manifold import MDS \n",
    "from sklearn.cluster import KMeans\n",
    "import itertools\n",
    "pd.set_option('display.max_rows', 50)"
   ]
  },
  {
   "cell_type": "code",
   "execution_count": 3,
   "id": "d23e480f",
   "metadata": {},
   "outputs": [],
   "source": [
    "#parameters for round robin tournament\n",
    "NOOFPLAYERS = 2 #note, keep this fixed and dont change it\n",
    "games_per_matchup = 25\n",
    "self_play = False\n",
    "agents = ['BMWG', 'DW']"
   ]
  },
  {
   "cell_type": "code",
   "execution_count": 4,
   "id": "20a5eb34",
   "metadata": {},
   "outputs": [
    {
     "name": "stdout",
     "output_type": "stream",
     "text": [
      "      GameID  Player  Round  Turn  CurrentScore  SCORE  SCORE_ADV  ORDINAL  \\\n",
      "0        2.0     0.0    0.0   0.0           3.0   0.06       0.00      0.5   \n",
      "1        2.0     1.0    0.0   0.0           3.0   0.06       0.00      0.5   \n",
      "2        2.0     0.0    0.0   1.0           3.0   0.06       0.00      0.5   \n",
      "3        2.0     1.0    0.0   1.0           3.0   0.06       0.00      0.5   \n",
      "4        2.0     0.0    1.0   0.0           3.0   0.06       0.00      0.5   \n",
      "...      ...     ...    ...   ...           ...    ...        ...      ...   \n",
      "4351    51.0     1.0   18.0   0.0           9.0   0.18      -0.72      1.0   \n",
      "4352    51.0     0.0   18.0   1.0          27.0   0.54       0.48      0.5   \n",
      "4353    51.0     1.0   18.0   1.0          15.0   0.30      -0.48      1.0   \n",
      "4354    51.0     0.0   19.0   0.0          33.0   0.66       0.76      0.5   \n",
      "4355    51.0     1.0   19.0   0.0          14.0   0.28      -0.76      1.0   \n",
      "\n",
      "      OUR_TURN  HAS_WON  ...  MINE  SENTRY  WITCH  ARTISAN  PlayerCount  \\\n",
      "0          1.0      0.0  ...   0.0     0.0    0.0      0.0          2.0   \n",
      "1          0.0      0.0  ...   0.0     0.0    0.0      0.0          2.0   \n",
      "2          0.0      0.0  ...   0.0     0.0    0.0      0.0          2.0   \n",
      "3          1.0      0.0  ...   0.0     0.0    0.0      0.0          2.0   \n",
      "4          1.0      0.0  ...   0.0     0.0    0.0      0.0          2.0   \n",
      "...        ...      ...  ...   ...     ...    ...      ...          ...   \n",
      "4351       0.0      0.0  ...   0.0     0.0    0.0      0.0          2.0   \n",
      "4352       0.0      0.0  ...   0.0     0.0    2.0      0.0          2.0   \n",
      "4353       1.0      0.0  ...   0.0     0.0    0.0      0.0          2.0   \n",
      "4354       1.0      1.0  ...   0.0     0.0    1.0      0.0          2.0   \n",
      "4355       0.0      0.0  ...   0.0     0.0    0.0      0.0          2.0   \n",
      "\n",
      "      TotalRounds  ActionScore  Win  Ordinal  FinalScore  \n",
      "0            20.0          0.0  0.0      2.0        21.0  \n",
      "1            20.0          0.0  1.0      1.0        34.0  \n",
      "2            20.0          0.0  0.0      2.0        21.0  \n",
      "3            20.0          0.0  1.0      1.0        34.0  \n",
      "4            20.0          0.0  0.0      2.0        21.0  \n",
      "...           ...          ...  ...      ...         ...  \n",
      "4351         19.0          0.0  0.0      2.0        14.0  \n",
      "4352         19.0          0.0  1.0      1.0        33.0  \n",
      "4353         19.0          0.0  0.0      2.0        14.0  \n",
      "4354         19.0          0.0  1.0      1.0        33.0  \n",
      "4355         19.0          0.0  0.0      2.0        14.0  \n",
      "\n",
      "[4356 rows x 51 columns]\n"
     ]
    }
   ],
   "source": [
    "data  = pd.read_csv(\"data/featureslogfile_BMWGvsDW_no_self_play.txt\", sep = '\\t')\n",
    "print(data)"
   ]
  },
  {
   "cell_type": "code",
   "execution_count": 5,
   "id": "da021e25",
   "metadata": {},
   "outputs": [],
   "source": [
    "#define columns of interest \n",
    "card_types_BigMoneyWithGardens_vs_DoubleWitch = ['GARDENS', 'WITCH', 'CURSE', 'PROVINCE', 'DUCHY', 'ESTATE', 'GOLD', 'SILVER', 'COPPER']\n",
    "cols = ['AgentName', 'Player', 'GameID', 'Round', 'CurrentScore']\n",
    "cols = cols + card_types_BigMoneyWithGardens_vs_DoubleWitch"
   ]
  },
  {
   "cell_type": "code",
   "execution_count": 6,
   "id": "989bc706",
   "metadata": {},
   "outputs": [
    {
     "name": "stdout",
     "output_type": "stream",
     "text": [
      "Issue with WITCH in game 9.0 with player 1.0\n",
      "Issue with WITCH in game 12.0 with player 1.0\n",
      "Issue with WITCH in game 25.0 with player 1.0\n",
      "Issue with WITCH in game 26.0 with player 1.0\n"
     ]
    }
   ],
   "source": [
    "#we seem to have an issue with some cards having their number reduced, which shouldn't happen in our set-up\n",
    "for card in card_types_BigMoneyWithGardens_vs_DoubleWitch:\n",
    "    for game in data['GameID'].unique():\n",
    "        for player in data['Player'].unique():\n",
    "            card_evol = data[(data['GameID'] == game) & (data['Player'] == player) & (data['Turn'] == 1)][card]\n",
    "            card_delta = card_evol - card_evol.shift(1)\n",
    "            if card_delta.min() < 0:\n",
    "                print(\"Issue with \" + str(card) + \" in game \" + str(game) + \" with player \" + str(player))\n",
    "                \n",
    "#problem_trace = data[(data['GameID'] == 27) & (data['Player'] == 1)]['WITCH']\n",
    "#print(problem_trace)"
   ]
  },
  {
   "cell_type": "code",
   "execution_count": 7,
   "id": "498ea042",
   "metadata": {},
   "outputs": [],
   "source": [
    "#label all games with corresponding agent names\n",
    "\n",
    "#first generate match-ups\n",
    "matchups = []\n",
    "if self_play:\n",
    "    for agent1 in agents:\n",
    "        for agent2 in agents:\n",
    "            matchups.append((agent1, agent2))\n",
    "else:\n",
    "    matchups = list(itertools.permutations(agents, 2))\n",
    "    \n",
    "#function to map gameID to match-up\n",
    "def gameID_to_matchup(game_id, player_no, matchup_list, no_games_per_matchup, min_game_id):\n",
    "    game_group = int((game_id - min_game_id)/no_games_per_matchup)\n",
    "    matchup = matchup_list[game_group]\n",
    "    agent1, agent2 = matchup\n",
    "    if player_no == 0:\n",
    "        return agent1\n",
    "    else:\n",
    "        return agent2\n",
    "        \n",
    "#add agent names to data set\n",
    "min_GameID = data['GameID'].min()\n",
    "data['AgentName'] = data.apply(lambda row: gameID_to_matchup(row['GameID'], row['Player'], matchups, games_per_matchup, min_GameID), axis = 1)                         "
   ]
  },
  {
   "cell_type": "code",
   "execution_count": 8,
   "id": "e24093be",
   "metadata": {},
   "outputs": [
    {
     "name": "stdout",
     "output_type": "stream",
     "text": [
      "[0. 1.]\n"
     ]
    }
   ],
   "source": [
    "#we can only record events each turn so we need to use the final turn in each round for each player to determine their\n",
    "#deck at the end of the round\n",
    "print(data['Turn'].unique())\n",
    "data = data[data['Turn'] == 1]"
   ]
  },
  {
   "cell_type": "code",
   "execution_count": 9,
   "id": "08b1fa6b",
   "metadata": {},
   "outputs": [
    {
     "name": "stdout",
     "output_type": "stream",
     "text": [
      "     AgentName  Player  GameID  Round  CurrentScore  GARDENS  WITCH  CURSE  \\\n",
      "2         BMWG     0.0     2.0    0.0           3.0      0.0    0.0    0.0   \n",
      "3           DW     1.0     2.0    0.0           3.0      0.0    0.0    0.0   \n",
      "6         BMWG     0.0     2.0    1.0           3.0      0.0    0.0    0.0   \n",
      "7           DW     1.0     2.0    1.0           3.0      0.0    0.0    0.0   \n",
      "10        BMWG     0.0     2.0    2.0           3.0      0.0    0.0    0.0   \n",
      "...        ...     ...     ...    ...           ...      ...    ...    ...   \n",
      "4345      BMWG     1.0    51.0   16.0           4.0      0.0    0.0    5.0   \n",
      "4348        DW     0.0    51.0   17.0          21.0      0.0    2.0    0.0   \n",
      "4349      BMWG     1.0    51.0   17.0          10.0      0.0    0.0    5.0   \n",
      "4352        DW     0.0    51.0   18.0          27.0      0.0    2.0    0.0   \n",
      "4353      BMWG     1.0    51.0   18.0          15.0      0.0    0.0    6.0   \n",
      "\n",
      "      PROVINCE  DUCHY  ESTATE  GOLD  SILVER  COPPER  \n",
      "2          0.0    0.0     3.0   0.0     1.0     7.0  \n",
      "3          0.0    0.0     3.0   0.0     1.0     7.0  \n",
      "6          0.0    0.0     3.0   0.0     2.0     7.0  \n",
      "7          0.0    0.0     3.0   0.0     2.0     7.0  \n",
      "10         0.0    0.0     3.0   0.0     3.0     7.0  \n",
      "...        ...    ...     ...   ...     ...     ...  \n",
      "4345       1.0    0.0     3.0   8.0     8.0     7.0  \n",
      "4348       3.0    0.0     3.0   6.0     7.0     7.0  \n",
      "4349       2.0    0.0     3.0   8.0     8.0     7.0  \n",
      "4352       4.0    0.0     3.0   6.0     7.0     7.0  \n",
      "4353       3.0    0.0     3.0   8.0     8.0     7.0  \n",
      "\n",
      "[2150 rows x 14 columns]\n"
     ]
    }
   ],
   "source": [
    "#all play taces in a single data frame\n",
    "traces = data.loc[:, cols]\n",
    "print(traces)"
   ]
  },
  {
   "cell_type": "code",
   "execution_count": 10,
   "id": "64712c11",
   "metadata": {},
   "outputs": [
    {
     "name": "stdout",
     "output_type": "stream",
     "text": [
      "25\n"
     ]
    }
   ],
   "source": [
    "#we need to make sure all games have the same number of rounds in them\n",
    "gameLengths = traces.groupby(['GameID'])['Round'].max()\n",
    "maxNoOfRounds = int(gameLengths.max()) + 1 #round counter starts at zero\n",
    "print(maxNoOfRounds)"
   ]
  },
  {
   "cell_type": "code",
   "execution_count": 11,
   "id": "298bbb35",
   "metadata": {},
   "outputs": [],
   "source": [
    "def copy_final_deck_at_game_end(group, roundMax, noPlayers):\n",
    "    #This function repeatedly copies the final decks of two players at the game end, so that the game is extended to \n",
    "    #have roundMax rounds\n",
    "    final_round = int(group['Round'].max())\n",
    "    if (roundMax-1) == final_round:\n",
    "        #in this case we dont need to extend the play trace\n",
    "        return group\n",
    "    else:\n",
    "        final_row_copy = pd.concat([group.iloc[-noPlayers:]] * ((roundMax-1) - final_round), ignore_index=True)\n",
    "        #we need to update the Round counter so that every other row it increments by one\n",
    "        final_row_copy['Round'] = [final_round + 1 + i // 2 for i in range(((roundMax-1) - final_round)*2)]\n",
    "        return pd.concat([group, final_row_copy], ignore_index=True)"
   ]
  },
  {
   "cell_type": "code",
   "execution_count": 12,
   "id": "8aba9051",
   "metadata": {},
   "outputs": [
    {
     "name": "stdout",
     "output_type": "stream",
     "text": [
      "     AgentName  Player  GameID  Round  CurrentScore  GARDENS  WITCH  CURSE  \\\n",
      "0         BMWG     0.0     2.0    0.0           3.0      0.0    0.0    0.0   \n",
      "1           DW     1.0     2.0    0.0           3.0      0.0    0.0    0.0   \n",
      "2         BMWG     0.0     2.0    1.0           3.0      0.0    0.0    0.0   \n",
      "3           DW     1.0     2.0    1.0           3.0      0.0    0.0    0.0   \n",
      "4         BMWG     0.0     2.0    2.0           3.0      0.0    0.0    0.0   \n",
      "...        ...     ...     ...    ...           ...      ...    ...    ...   \n",
      "2495      BMWG     1.0    51.0   22.0          15.0      0.0    0.0    6.0   \n",
      "2496        DW     0.0    51.0   23.0          27.0      0.0    2.0    0.0   \n",
      "2497      BMWG     1.0    51.0   23.0          15.0      0.0    0.0    6.0   \n",
      "2498        DW     0.0    51.0   24.0          27.0      0.0    2.0    0.0   \n",
      "2499      BMWG     1.0    51.0   24.0          15.0      0.0    0.0    6.0   \n",
      "\n",
      "      PROVINCE  DUCHY  ESTATE  GOLD  SILVER  COPPER  \n",
      "0          0.0    0.0     3.0   0.0     1.0     7.0  \n",
      "1          0.0    0.0     3.0   0.0     1.0     7.0  \n",
      "2          0.0    0.0     3.0   0.0     2.0     7.0  \n",
      "3          0.0    0.0     3.0   0.0     2.0     7.0  \n",
      "4          0.0    0.0     3.0   0.0     3.0     7.0  \n",
      "...        ...    ...     ...   ...     ...     ...  \n",
      "2495       3.0    0.0     3.0   8.0     8.0     7.0  \n",
      "2496       4.0    0.0     3.0   6.0     7.0     7.0  \n",
      "2497       3.0    0.0     3.0   8.0     8.0     7.0  \n",
      "2498       4.0    0.0     3.0   6.0     7.0     7.0  \n",
      "2499       3.0    0.0     3.0   8.0     8.0     7.0  \n",
      "\n",
      "[2500 rows x 14 columns]\n"
     ]
    }
   ],
   "source": [
    "extended_traces = traces.groupby('GameID').apply(copy_final_deck_at_game_end, maxNoOfRounds, NOOFPLAYERS).reset_index(drop = True)\n",
    "print(extended_traces)"
   ]
  },
  {
   "cell_type": "code",
   "execution_count": 13,
   "id": "0a958569",
   "metadata": {},
   "outputs": [
    {
     "name": "stdout",
     "output_type": "stream",
     "text": [
      "   AgentName  Player  GameID  GARDENS_R0  WITCH_R0  CURSE_R0  PROVINCE_R0  \\\n",
      "0       BMWG     0.0     2.0         0.0       0.0       0.0          0.0   \n",
      "1       BMWG     0.0     3.0         0.0       0.0       0.0          0.0   \n",
      "2       BMWG     0.0     4.0         0.0       0.0       0.0          0.0   \n",
      "3       BMWG     0.0     5.0         0.0       0.0       0.0          0.0   \n",
      "4       BMWG     0.0     6.0         0.0       0.0       0.0          0.0   \n",
      "..       ...     ...     ...         ...       ...       ...          ...   \n",
      "95        DW     1.0    22.0         0.0       0.0       0.0          0.0   \n",
      "96        DW     1.0    23.0         0.0       0.0       0.0          0.0   \n",
      "97        DW     1.0    24.0         0.0       0.0       0.0          0.0   \n",
      "98        DW     1.0    25.0         0.0       0.0       0.0          0.0   \n",
      "99        DW     1.0    26.0         0.0       0.0       0.0          0.0   \n",
      "\n",
      "    DUCHY_R0  ESTATE_R0  GOLD_R0  ...  WITCH_R24  CURSE_R24  PROVINCE_R24  \\\n",
      "0        0.0        3.0      0.0  ...        0.0        6.0           2.0   \n",
      "1        0.0        3.0      0.0  ...        0.0        8.0           2.0   \n",
      "2        0.0        3.0      0.0  ...        0.0        7.0           2.0   \n",
      "3        0.0        3.0      0.0  ...        0.0        5.0           3.0   \n",
      "4        0.0        3.0      0.0  ...        0.0        6.0           2.0   \n",
      "..       ...        ...      ...  ...        ...        ...           ...   \n",
      "95       0.0        3.0      0.0  ...        2.0        0.0           5.0   \n",
      "96       0.0        3.0      0.0  ...        2.0        0.0           5.0   \n",
      "97       0.0        3.0      0.0  ...        2.0        0.0           5.0   \n",
      "98       0.0        3.0      0.0  ...        1.0        0.0           5.0   \n",
      "99       0.0        3.0      0.0  ...        1.0        0.0           5.0   \n",
      "\n",
      "    DUCHY_R24  ESTATE_R24  GOLD_R24  SILVER_R24  COPPER_R24  Opponent  \\\n",
      "0         0.0         3.0       8.0         8.0         7.0       1.0   \n",
      "1         0.0         4.0       8.0         8.0         7.0       1.0   \n",
      "2         0.0         3.0       9.0         7.0         7.0       1.0   \n",
      "3         0.0         3.0      10.0         6.0         7.0       1.0   \n",
      "4         0.0         4.0      10.0         6.0         7.0       1.0   \n",
      "..        ...         ...       ...         ...         ...       ...   \n",
      "95        1.0         3.0       5.0         9.0         7.0       0.0   \n",
      "96        0.0         3.0       6.0         5.0         7.0       0.0   \n",
      "97        5.0         3.0       4.0         6.0         7.0       0.0   \n",
      "98        2.0         3.0       5.0         8.0         7.0       0.0   \n",
      "99        4.0         3.0       5.0         8.0         7.0       0.0   \n",
      "\n",
      "    AgentNameOpponent  \n",
      "0                  DW  \n",
      "1                  DW  \n",
      "2                  DW  \n",
      "3                  DW  \n",
      "4                  DW  \n",
      "..                ...  \n",
      "95               BMWG  \n",
      "96               BMWG  \n",
      "97               BMWG  \n",
      "98               BMWG  \n",
      "99               BMWG  \n",
      "\n",
      "[100 rows x 230 columns]\n"
     ]
    }
   ],
   "source": [
    "#next we need to flatten this dataframe so that each trace is a single row.\n",
    "#Note we drop the current score as we dont need it for now. We also drop the round label as it is redundant\n",
    "#and it will get reintroduced when flattening through the revised column names\n",
    "traces_tmp = extended_traces.drop(['CurrentScore', 'Round'], axis = 1)\n",
    "cols = [card_types_BigMoneyWithGardens_vs_DoubleWitch[i] + \"_R\" + str(r) \n",
    "        for r in range(0, maxNoOfRounds) for i in range(0, len(card_types_BigMoneyWithGardens_vs_DoubleWitch))] \n",
    "\n",
    "extended_traces_flat = traces_tmp.groupby(['AgentName', 'Player', 'GameID']).apply(lambda df: df[card_types_BigMoneyWithGardens_vs_DoubleWitch].values.flatten())\n",
    "extended_traces_flat = pd.DataFrame(extended_traces_flat, columns = ['Trace']).reset_index()\n",
    "extended_traces_flat = pd.concat([extended_traces_flat[['AgentName', 'Player', 'GameID']], extended_traces_flat['Trace'].apply(pd.Series)], axis=1)\n",
    "extended_traces_flat.columns = ['AgentName', 'Player', 'GameID'] + cols\n",
    "\n",
    "#note we also add the name of the agent of the opponent for each trace (this is used later when grouping play traces)\n",
    "extended_traces_flat['Opponent'] = extended_traces_flat.apply(lambda row: 1.0 if row['Player'] == 0.0 else 0.0, axis = 1)\n",
    "extended_traces_flat['AgentNameOpponent'] = extended_traces_flat.apply(lambda row: gameID_to_matchup(row['GameID'], row['Opponent'], matchups, games_per_matchup, min_GameID), axis = 1)                                   \n",
    "\n",
    "print(extended_traces_flat)"
   ]
  },
  {
   "cell_type": "code",
   "execution_count": 14,
   "id": "6cd2c0ed",
   "metadata": {},
   "outputs": [
    {
     "name": "stdout",
     "output_type": "stream",
     "text": [
      "4950\n"
     ]
    }
   ],
   "source": [
    "#comparing two distinct games we have:\n",
    "#1. Game 1 player 1 - denoted by G1_P1\n",
    "#2. Game 1 player 2 - denoted by G1_P2\n",
    "#3. Game 2 player 1 - denoted by G2_P1\n",
    "#4. Game 2 player 2 - denoted by G2_P2\n",
    "\n",
    "#then the possible combinations of play traces to compare between two games are as follows:\n",
    "#1. \"G1_P1 (with opponent G1_P2)\" versus \"G2_P1 (with opponent G2_P2)\"\n",
    "#2. \"G1_P1 (with opponent G1_P2)\" versus \"G2_P2 (with opponent G2_P1)\"\n",
    "#3. \"G1_P2 (with opponent G1_P1)\" versus \"G2_P1 (with opponent G2_P2)\"\n",
    "#3. \"G1_P2 (with opponent G1_P1)\" versus \"G2_P2 (with opponent G2_P1)\"\n",
    "\n",
    "#within a single game we can only compare the traces of player 1 and player 2\n",
    "\n",
    "noOfGames = extended_traces_flat['GameID'].unique().size\n",
    "noOfOffDiagGameCombos = int(noOfGames *(noOfGames -1)/2.0) \n",
    "noOfPairWiseDistances = 4 * noOfOffDiagGameCombos + noOfGames\n",
    "print(noOfPairWiseDistances)"
   ]
  },
  {
   "cell_type": "code",
   "execution_count": 15,
   "id": "84a1fbec",
   "metadata": {},
   "outputs": [],
   "source": [
    "#next we need to collect together all pairwise combinations of traces so that we can compute all distance measure pairs\n",
    "\n",
    "# Step 1: Create a list of DataFrames for each 'off diagonal' combination of games\n",
    "unique_values = extended_traces_flat['GameID'].unique()\n",
    "offdiag_combinations = list(itertools.combinations(unique_values, 2))\n",
    "diag_combos = [(i,i) for i in unique_values]\n",
    "combos = offdiag_combinations + diag_combos\n",
    "\n",
    "list_dfs = []\n",
    "for combination in combos:\n",
    "    #extract traces for each game ID and strategy combination\n",
    "    GameID_1, GameID_2 = combination\n",
    "    keys = []\n",
    "    #label player numbers for clarity\n",
    "    player1_game1 = 0\n",
    "    player2_game1 = 1\n",
    "    player1_game2 = 0\n",
    "    player2_game2 = 1\n",
    "    if GameID_1 != GameID_2:\n",
    "        #define the four combinations of play traces we can compare between two 'off diagonal' games\n",
    "        keys = [((GameID_1, player1_game1), (GameID_2, player1_game2)),\n",
    "                ((GameID_1, player1_game1), (GameID_2, player2_game2)),\n",
    "                ((GameID_1, player2_game1), (GameID_2, player1_game2)),\n",
    "                ((GameID_1, player2_game1), (GameID_2, player2_game2))]\n",
    "    else:\n",
    "        keys = [((GameID_1, player1_game1), (GameID_1, player2_game1))]\n",
    "             \n",
    "    for key in keys:\n",
    "        key1, key2 = key\n",
    "        \n",
    "        count= 0;\n",
    "        df_inter = [];\n",
    "        for game_player in [key1,key2]:\n",
    "            count += 1\n",
    "            tag = \"_P\" + str(count)\n",
    "            game,player = game_player\n",
    "        \n",
    "            df = extended_traces_flat[(extended_traces_flat['GameID'] == game) & (extended_traces_flat['Player'] == player)]\n",
    "            new_col_names = {old_col: old_col + tag for old_col in extended_traces_flat.columns}\n",
    "            df = df.rename(columns=new_col_names)\n",
    "            \n",
    "            #store to prepare for concatenation\n",
    "            df_inter.append(df)\n",
    "            \n",
    "        #next align play traces by concatenating \n",
    "        df_trace = pd.concat([df_inter[0], df_inter[1].set_index(df_inter[0].index)], axis = 1)\n",
    "        \n",
    "        #then add to list of dfs\n",
    "        list_dfs.append(df_trace)\n",
    "        \n",
    "#finally we need to append togther all the datafarmes in our list\n",
    "sym_trace_combos_flat = pd.concat(list_dfs, ignore_index=True)"
   ]
  },
  {
   "cell_type": "code",
   "execution_count": 16,
   "id": "cdf11316",
   "metadata": {},
   "outputs": [
    {
     "name": "stdout",
     "output_type": "stream",
     "text": [
      "Expected no rows: 4950\n",
      "Expected no of cols: 460\n"
     ]
    },
    {
     "data": {
      "text/plain": [
       "(4950, 460)"
      ]
     },
     "execution_count": 16,
     "metadata": {},
     "output_type": "execute_result"
    }
   ],
   "source": [
    "#the no of rows in our symmetric trace combos should be given by noOfPairwiseDistances \n",
    "#and no columns should be given by the card types * no of rounds plus 5 (for player, player name, gameID, opponent and\n",
    "#opponent name) all mulitplied by two, for the two players\n",
    "print(\"Expected no rows: \" + str(noOfPairWiseDistances))\n",
    "print(\"Expected no of cols: \" + str((len(card_types_BigMoneyWithGardens_vs_DoubleWitch)*maxNoOfRounds +5)*2))\n",
    "sym_trace_combos_flat.shape"
   ]
  },
  {
   "cell_type": "code",
   "execution_count": 17,
   "id": "75969b16",
   "metadata": {},
   "outputs": [],
   "source": [
    "#next step is to calculate the distance between each pairwise play trace\n",
    "def dist_measure(playTracePair, cardTypes, maxRounds, tag1, tag2):\n",
    "    dist = 0\n",
    "    for r in range(0, maxRounds):\n",
    "        for card in cardTypes:\n",
    "            col1 = card + \"_R\" + str(r) + tag1\n",
    "            col2 = card + \"_R\" + str(r) + tag2\n",
    "            dist += (playTracePair[col1]-playTracePair[col2])**2\n",
    "    dist = math.sqrt(dist)\n",
    "    return dist"
   ]
  },
  {
   "cell_type": "code",
   "execution_count": 18,
   "id": "54593fb3",
   "metadata": {},
   "outputs": [
    {
     "name": "stdout",
     "output_type": "stream",
     "text": [
      "     AgentName_P1  Player_P1  GameID_P1  GARDENS_R0_P1  WITCH_R0_P1  \\\n",
      "0            BMWG        0.0        2.0            0.0          0.0   \n",
      "1            BMWG        0.0        2.0            0.0          0.0   \n",
      "2              DW        1.0        2.0            0.0          0.0   \n",
      "3              DW        1.0        2.0            0.0          0.0   \n",
      "4            BMWG        0.0        2.0            0.0          0.0   \n",
      "...           ...        ...        ...            ...          ...   \n",
      "4945           DW        0.0       47.0            0.0          0.0   \n",
      "4946           DW        0.0       48.0            0.0          0.0   \n",
      "4947           DW        0.0       49.0            0.0          0.0   \n",
      "4948           DW        0.0       50.0            0.0          1.0   \n",
      "4949           DW        0.0       51.0            0.0          0.0   \n",
      "\n",
      "      CURSE_R0_P1  PROVINCE_R0_P1  DUCHY_R0_P1  ESTATE_R0_P1  GOLD_R0_P1  ...  \\\n",
      "0             0.0             0.0          0.0           3.0         0.0  ...   \n",
      "1             0.0             0.0          0.0           3.0         0.0  ...   \n",
      "2             0.0             0.0          0.0           3.0         0.0  ...   \n",
      "3             0.0             0.0          0.0           3.0         0.0  ...   \n",
      "4             0.0             0.0          0.0           3.0         0.0  ...   \n",
      "...           ...             ...          ...           ...         ...  ...   \n",
      "4945          0.0             0.0          0.0           3.0         0.0  ...   \n",
      "4946          0.0             0.0          0.0           3.0         0.0  ...   \n",
      "4947          0.0             0.0          0.0           3.0         0.0  ...   \n",
      "4948          0.0             0.0          0.0           3.0         0.0  ...   \n",
      "4949          0.0             0.0          0.0           3.0         0.0  ...   \n",
      "\n",
      "      CURSE_R24_P2  PROVINCE_R24_P2  DUCHY_R24_P2  ESTATE_R24_P2  GOLD_R24_P2  \\\n",
      "0              8.0              2.0           0.0            4.0          8.0   \n",
      "1              0.0              5.0           3.0            4.0          4.0   \n",
      "2              8.0              2.0           0.0            4.0          8.0   \n",
      "3              0.0              5.0           3.0            4.0          4.0   \n",
      "4              7.0              2.0           0.0            3.0          9.0   \n",
      "...            ...              ...           ...            ...          ...   \n",
      "4945           8.0              1.0           0.0            4.0          9.0   \n",
      "4946           5.0              3.0           0.0            3.0         10.0   \n",
      "4947           6.0              3.0           0.0            3.0         12.0   \n",
      "4948           9.0              2.0           0.0            4.0          3.0   \n",
      "4949           6.0              3.0           0.0            3.0          8.0   \n",
      "\n",
      "      SILVER_R24_P2  COPPER_R24_P2  Opponent_P2  AgentNameOpponent_P2  \\\n",
      "0               8.0            7.0          1.0                    DW   \n",
      "1               5.0            7.0          0.0                  BMWG   \n",
      "2               8.0            7.0          1.0                    DW   \n",
      "3               5.0            7.0          0.0                  BMWG   \n",
      "4               7.0            7.0          1.0                    DW   \n",
      "...             ...            ...          ...                   ...   \n",
      "4945            7.0            7.0          0.0                    DW   \n",
      "4946            6.0            7.0          0.0                    DW   \n",
      "4947            4.0            7.0          0.0                    DW   \n",
      "4948           12.0            7.0          0.0                    DW   \n",
      "4949            8.0            7.0          0.0                    DW   \n",
      "\n",
      "           dist  \n",
      "0      7.937254  \n",
      "1     32.496154  \n",
      "2     35.185224  \n",
      "3     12.369317  \n",
      "4      7.615773  \n",
      "...         ...  \n",
      "4945  40.286474  \n",
      "4946  29.916551  \n",
      "4947  36.783148  \n",
      "4948  43.220366  \n",
      "4949  24.331050  \n",
      "\n",
      "[4950 rows x 461 columns]\n"
     ]
    }
   ],
   "source": [
    "#now compute all the pairwise trace distances\n",
    "sym_trace_combos_flat['dist'] = sym_trace_combos_flat.apply(lambda row: dist_measure(row, card_types_BigMoneyWithGardens_vs_DoubleWitch,\n",
    "                                                                                    maxNoOfRounds, \"_P1\", \"_P2\"), axis = 1)\n",
    "print(sym_trace_combos_flat)"
   ]
  },
  {
   "cell_type": "code",
   "execution_count": 19,
   "id": "955f8270",
   "metadata": {},
   "outputs": [
    {
     "name": "stdout",
     "output_type": "stream",
     "text": [
      "Original number of groups: 4\n",
      "Revised number of groups: 3\n"
     ]
    }
   ],
   "source": [
    "#create a list groups by AgentName and AgentNameOpponent, where we also concatenate groups which have P1 to P2 symmetry\n",
    "#For instance if we have traces of the form \"BMWG (with opponent DW)\" vs \"DW (with opponent BM)\" and also \"DW (with opponent BM)\" vs \"BMWG (with opponent DW)\"\n",
    "#then group them together as they are equivalent \n",
    "\n",
    "#For some reason adding and deleting groups form a GroupBy object is difficult so instead we use a dictionary of dataframes\n",
    "sym_trace_grouped = sym_trace_combos_flat.groupby(['AgentName_P1', 'AgentNameOpponent_P1', 'AgentName_P2', 'AgentNameOpponent_P2'])\n",
    "sym_trace_grouped = {name: group for name, group in sym_trace_grouped}\n",
    "print(\"Original number of groups: \" + str(len(sym_trace_grouped.keys())))\n",
    "\n",
    "removed_groups = []\n",
    "new_groups = {}\n",
    "for key1 in sym_trace_grouped:\n",
    "    p1_1, p1_opp_1, p2_1, p2_opp_1 = key1\n",
    "    if (key1 not in removed_groups):\n",
    "        for key2 in sym_trace_grouped:\n",
    "            if (key1 != key2):\n",
    "                if (key2 not in removed_groups):\n",
    "                    p1_2, p1_opp_2, p2_2, p2_opp_2 = key2\n",
    "                    #now check for symmetry\n",
    "                    if ((p1_1 == p2_2) & (p2_1 == p1_2) & (p1_opp_1 == p2_opp_2) & (p2_opp_1 == p1_opp_2)):\n",
    "                        #concatenate dataframes to create a new group for a the dictionary\n",
    "                        new_groups[key1] = pd.concat([sym_trace_grouped[key1],sym_trace_grouped[key2]])\n",
    "                        #then add key2 to the list of removed groups\n",
    "                        removed_groups.append(key2)\n",
    "                        \n",
    "#remove groups as needed from dictionary\n",
    "for key in removed_groups:\n",
    "    sym_trace_grouped.pop(key)\n",
    "\n",
    "#add in new combined groups\n",
    "for key in new_groups:\n",
    "    sym_trace_grouped[key] = new_groups[key]\n",
    "                        \n",
    "print(\"Revised number of groups: \" + str(len(sym_trace_grouped.keys())))                   "
   ]
  },
  {
   "cell_type": "code",
   "execution_count": 34,
   "id": "516df534",
   "metadata": {},
   "outputs": [
    {
     "data": {
      "text/plain": [
       "<matplotlib.legend.Legend at 0x7ff9e635caf0>"
      ]
     },
     "execution_count": 34,
     "metadata": {},
     "output_type": "execute_result"
    },
    {
     "data": {
      "image/png": "[encoded data removed]",
      "text/plain": [
       "<Figure size 432x288 with 1 Axes>"
      ]
     },
     "metadata": {
      "needs_background": "light"
     },
     "output_type": "display_data"
    }
   ],
   "source": [
    "#plot distances along the real line and colour code\n",
    "count = 0;\n",
    "for key in sym_trace_grouped:\n",
    "    p1, opp1, p2, opp2 = key\n",
    "    leg_label = p1 + \" (vs \" + opp1 + \") vs \" + p2 + \" (vs \" + opp2 + \")\"\n",
    "    plt.scatter(sym_trace_grouped[key]['dist'], [count * 0.01] * sym_trace_grouped[key]['dist'].shape[0], s = count + 1, label = leg_label)\n",
    "    count += 1\n",
    "    \n",
    "plt.yticks([])\n",
    "plt.xlabel('Pairwise distances')\n",
    "plt.legend(loc = (1.1,0.77))\n"
   ]
  },
  {
   "cell_type": "code",
   "execution_count": 21,
   "id": "45bf0afe",
   "metadata": {},
   "outputs": [
    {
     "name": "stdout",
     "output_type": "stream",
     "text": [
      "  AgentName_P1 AgentNameOpponent_P1 AgentName_P2 AgentNameOpponent_P2  Mean  \\\n",
      "0         BMWG                   DW         BMWG                   DW  16.7   \n",
      "1         BMWG                   DW           DW                 BMWG  35.0   \n",
      "2           DW                 BMWG           DW                 BMWG  12.8   \n",
      "\n",
      "   Std  Count  \n",
      "0  7.3   1225  \n",
      "1  4.8   2500  \n",
      "2  4.4   1225  \n"
     ]
    }
   ],
   "source": [
    "#next we look at the average and standard deviation of distances between play traces grouped by the strategy \n",
    "#of the player and the opponent\n",
    "mean_and_std = pd.DataFrame(columns = ['AgentName_P1','AgentNameOpponent_P1','AgentName_P2','AgentNameOpponent_P2',  \n",
    "                        'Mean', 'Std', 'Count'])\n",
    "for key in sym_trace_grouped:\n",
    "    p1, opp1, p2, opp2 = key\n",
    "    df_group = sym_trace_grouped[key]\n",
    "    mean = df_group['dist'].mean()\n",
    "    std = df_group['dist'].std()\n",
    "    count = df_group['dist'].count()\n",
    "    mean_and_std.loc[len(mean_and_std)] = [p1, opp1, p2, opp2, mean, std, count]\n",
    "\n",
    "print(round(mean_and_std,1))"
   ]
  },
  {
   "cell_type": "code",
   "execution_count": 22,
   "id": "37b2ca30",
   "metadata": {},
   "outputs": [
    {
     "name": "stdout",
     "output_type": "stream",
     "text": [
      "    GameID_P1  GameID_P2 AgentName_P1 AgentNameOpponent_P1 AgentName_P2  \\\n",
      "1         2.0        3.0         BMWG                   DW           DW   \n",
      "5         2.0        4.0         BMWG                   DW           DW   \n",
      "9         2.0        5.0         BMWG                   DW           DW   \n",
      "13        2.0        6.0         BMWG                   DW           DW   \n",
      "17        2.0        7.0         BMWG                   DW           DW   \n",
      "\n",
      "   AgentNameOpponent_P2       dist  \n",
      "1                  BMWG  32.496154  \n",
      "5                  BMWG  28.142495  \n",
      "9                  BMWG  27.073973  \n",
      "13                 BMWG  30.016662  \n",
      "17                 BMWG  29.223278  \n",
      "    GameID_P1  GameID_P2 AgentName_P1 AgentNameOpponent_P1 AgentName_P2  \\\n",
      "2         2.0        3.0           DW                 BMWG         BMWG   \n",
      "6         2.0        4.0           DW                 BMWG         BMWG   \n",
      "10        2.0        5.0           DW                 BMWG         BMWG   \n",
      "14        2.0        6.0           DW                 BMWG         BMWG   \n",
      "18        2.0        7.0           DW                 BMWG         BMWG   \n",
      "\n",
      "   AgentNameOpponent_P2       dist  \n",
      "2                    DW  35.185224  \n",
      "6                    DW  32.388269  \n",
      "10                   DW  27.568098  \n",
      "14                   DW  29.410882  \n",
      "18                   DW  39.509493  \n"
     ]
    }
   ],
   "source": [
    "#why do we have \"BMWG (with opponent DW)\" vs \"DW (with opponent BM)\" and also \"DW (with opponent BM)\" vs \"BMWG (with opponent DW)\"?\n",
    "#this is because we have two games BM1 vs DW1 and BM2 vs DW2, then we have BM1 vs DW2 and also DW1 vs BM2, which looks symmetric\n",
    "#and irrelevant but is actually a valid comparison. We also only have this symmetry when we are comparing two games, \n",
    "#within which each player has different strategies (but the same strategies across the two games), i.e A1 vs B1 and A2 vs B2, hence \n",
    "#why we only see the one extra group in the above results set\n",
    "trace_set1 = sym_trace_combos_flat[(sym_trace_combos_flat['AgentName_P1'] == 'BMWG') & (sym_trace_combos_flat['AgentNameOpponent_P1'] == 'DW') \n",
    "                                  & (sym_trace_combos_flat['AgentName_P2'] == 'DW') & (sym_trace_combos_flat['AgentNameOpponent_P2'] == 'BMWG')]\n",
    "trace_set2 = sym_trace_combos_flat[(sym_trace_combos_flat['AgentName_P1'] == 'DW') & (sym_trace_combos_flat['AgentNameOpponent_P1'] == 'BMWG') \n",
    "                                  & (sym_trace_combos_flat['AgentName_P2'] == 'BMWG') & (sym_trace_combos_flat['AgentNameOpponent_P2'] == 'DW')]\n",
    "\n",
    "#now compare the set of games investigated\n",
    "example1 = trace_set1[['GameID_P1', 'GameID_P2', 'AgentName_P1','AgentNameOpponent_P1', 'AgentName_P2','AgentNameOpponent_P2', 'dist']][0:5]\n",
    "example2 = trace_set2[['GameID_P1', 'GameID_P2', 'AgentName_P1','AgentNameOpponent_P1', 'AgentName_P2','AgentNameOpponent_P2', 'dist']][0:5]\n",
    "\n",
    "#in these examples we see different distance values showing that these are valid trace comparisons and not a double\n",
    "#counting\n",
    "print(example1)\n",
    "print(example2)"
   ]
  },
  {
   "cell_type": "code",
   "execution_count": 23,
   "id": "74568510",
   "metadata": {},
   "outputs": [
    {
     "name": "stdout",
     "output_type": "stream",
     "text": [
      "  AgentName AgentNameOpponent  GARDENS_R0_avg  WITCH_R0_avg  CURSE_R0_avg  \\\n",
      "0      BMWG                DW             0.0           0.0           0.0   \n",
      "1        DW              BMWG             0.0           0.0           0.0   \n",
      "\n",
      "   PROVINCE_R0_avg  DUCHY_R0_avg  ESTATE_R0_avg  GOLD_R0_avg  SILVER_R0_avg  \\\n",
      "0              0.0           0.0            3.0          0.0            1.0   \n",
      "1              0.0           0.0            3.0          0.0            1.0   \n",
      "\n",
      "   ...  COPPER_R23_avg  GARDENS_R24_avg  WITCH_R24_avg  CURSE_R24_avg  \\\n",
      "0  ...             7.0              3.0            0.0            7.0   \n",
      "1  ...             7.0              0.0            2.0            0.0   \n",
      "\n",
      "   PROVINCE_R24_avg  DUCHY_R24_avg  ESTATE_R24_avg  GOLD_R24_avg  \\\n",
      "0               2.0            0.0             3.0           8.0   \n",
      "1               5.0            2.0             3.0           5.0   \n",
      "\n",
      "   SILVER_R24_avg  COPPER_R24_avg  \n",
      "0             7.0             7.0  \n",
      "1             7.0             7.0  \n",
      "\n",
      "[2 rows x 227 columns]\n"
     ]
    },
    {
     "name": "stderr",
     "output_type": "stream",
     "text": [
      "/var/folders/60/sk8yhxb56ld6twrcnr2njl3h0000gn/T/ipykernel_26550/2868026289.py:7: FutureWarning: Dropping of nuisance columns in DataFrame reductions (with 'numeric_only=None') is deprecated; in a future version this will raise TypeError.  Select only valid columns before calling the reduction.\n",
      "  average_traces = flat_trace_tmp.groupby(['AgentName','AgentNameOpponent']).apply(lambda row: round(row.mean())).reset_index()\n"
     ]
    }
   ],
   "source": [
    "#next we compute the average traces for each combination of players and opponents, this \n",
    "#allows us to compare to the centroids computed by k-means clustering (note this is only \n",
    "#useful when we know what strategies are being employed by our AI agents or players, and \n",
    "#is used to sense check K-means in our base case scenarios)\n",
    "\n",
    "flat_trace_tmp = extended_traces_flat.drop(['Player','Opponent','GameID'], axis = 1)\n",
    "average_traces = flat_trace_tmp.groupby(['AgentName','AgentNameOpponent']).apply(lambda row: round(row.mean())).reset_index()\n",
    "new_col_names = {old_col: old_col + '_avg' for old_col in average_traces.columns[2:]}\n",
    "average_traces.rename(columns = new_col_names, inplace = True)\n",
    "print(average_traces)"
   ]
  },
  {
   "cell_type": "code",
   "execution_count": 24,
   "id": "0829250b",
   "metadata": {},
   "outputs": [
    {
     "name": "stdout",
     "output_type": "stream",
     "text": [
      "Average trace: BMWG versus DW\n",
      "                             dist           \n",
      "                             mean  std count\n",
      "AgentName AgentNameOpponent                 \n",
      "BMWG      DW                 12.0  5.2    50\n",
      "DW        BMWG               32.4  2.2    50\n",
      "Average trace: DW versus BMWG\n",
      "                             dist           \n",
      "                             mean  std count\n",
      "AgentName AgentNameOpponent                 \n",
      "BMWG      DW                 33.9  4.1    50\n",
      "DW        BMWG                9.3  3.1    50\n"
     ]
    }
   ],
   "source": [
    "#next calculate the distance between every play trace and the average traces\n",
    "distances_to_avgs_dict = {}\n",
    "mean_and_std_to_avgs_dict = {}\n",
    "for avg_trace_label in matchups:\n",
    "    player, opp = avg_trace_label\n",
    "    avg_trace = average_traces[(average_traces['AgentName'] == player) \n",
    "                               & (average_traces['AgentNameOpponent'] == opp)].drop(['AgentName','AgentNameOpponent'], axis = 1)\n",
    "    avg_trace = pd.concat([avg_trace]*len(extended_traces_flat), ignore_index = True)\n",
    "    avg_trace.reset_index()\n",
    "    extended_traces_flat.reset_index()\n",
    "    trace_pairs_to_avg = pd.concat([extended_traces_flat, avg_trace], axis = 1)\n",
    "    \n",
    "    #now we can compute the distance\n",
    "    trace_pairs_to_avg['dist'] = trace_pairs_to_avg.apply(lambda row: dist_measure(row, card_types_BigMoneyWithGardens_vs_DoubleWitch,\n",
    "                                                                                        maxNoOfRounds, \"\", \"_avg\"), axis = 1)\n",
    "    trace_pairs_to_avg = trace_pairs_to_avg[['AgentName', 'AgentNameOpponent','dist']]\n",
    "    distances_to_avgs_dict[avg_trace_label] = trace_pairs_to_avg\n",
    "    \n",
    "    #calculate averages and standard deviations\n",
    "    mean_and_std_to_avgs_dict[avg_trace_label] = round(trace_pairs_to_avg.groupby(['AgentName', 'AgentNameOpponent']).agg(['mean','std','count']),1)   \n",
    "\n",
    "for avg_trace_label in matchups:\n",
    "    player, opp = avg_trace_label\n",
    "    print(\"Average trace: \" + str(player) + \" versus \" + str(opp))\n",
    "    print(mean_and_std_to_avgs_dict[avg_trace_label])"
   ]
  },
  {
   "cell_type": "code",
   "execution_count": 37,
   "id": "e6581e14",
   "metadata": {},
   "outputs": [
    {
     "data": {
      "text/plain": [
       "<matplotlib.legend.Legend at 0x7ff9c0d42cd0>"
      ]
     },
     "execution_count": 37,
     "metadata": {},
     "output_type": "execute_result"
    },
    {
     "data": {
      "image/png": "[encoded data removed]",
      "text/plain": [
       "<Figure size 432x288 with 1 Axes>"
      ]
     },
     "metadata": {
      "needs_background": "light"
     },
     "output_type": "display_data"
    }
   ],
   "source": [
    "#plot distances to average traces along the real line and colour coded\n",
    "count = 0;\n",
    "for avg_trace_label in distances_to_avgs_dict:\n",
    "    player, opp = avg_trace_label\n",
    "    df = distances_to_avgs_dict[avg_trace_label]\n",
    "    for name, group in df.groupby(['AgentName', 'AgentNameOpponent']):\n",
    "        agent, agentopp = name\n",
    "        leg_label = agent + \" (vs \" + agentopp + \") vs Avg. \" + player + \" (vs \" + opp + \")\"\n",
    "        plt.scatter(group['dist'], [count * 0.01] * group['dist'].shape[0], s = count + 1, label = leg_label)\n",
    "        count += 1\n",
    "    \n",
    "plt.yticks([])\n",
    "plt.xlabel('Pairwise distances to average trace')\n",
    "plt.legend(loc = (1.1,0.71))"
   ]
  },
  {
   "cell_type": "code",
   "execution_count": 26,
   "id": "6bc84362",
   "metadata": {},
   "outputs": [
    {
     "name": "stderr",
     "output_type": "stream",
     "text": [
      "/Users/anthonyowen/opt/anaconda3/lib/python3.9/site-packages/sklearn/cluster/_kmeans.py:1416: FutureWarning: The default value of `n_init` will change from 10 to 'auto' in 1.4. Set the value of `n_init` explicitly to suppress the warning\n",
      "  super()._check_params_vs_input(X, default_n_init=10)\n"
     ]
    }
   ],
   "source": [
    "#next we want to apply k-means clustering with (euclidean distance measure) on our set of traces to see if we can \n",
    "#identify BM and DW strategies without apriori knowledge of their existence. \n",
    "num_clusters = len(matchups)\n",
    "trace_X = extended_traces_flat.drop(['AgentName','AgentNameOpponent','Player','Opponent','GameID'], axis = 1)\n",
    "kmeans = KMeans(n_clusters=num_clusters, init='k-means++', n_init= 'warn', max_iter=300, tol=0.0001, verbose=0, random_state=None, copy_x=True, algorithm='lloyd').fit(trace_X)"
   ]
  },
  {
   "cell_type": "code",
   "execution_count": 27,
   "id": "4d129d09",
   "metadata": {},
   "outputs": [
    {
     "name": "stdout",
     "output_type": "stream",
     "text": [
      "AgentName  AgentNameOpponent  ClusterID\n",
      "BMWG       DW                 0            50\n",
      "DW         BMWG               1            50\n",
      "dtype: int64\n"
     ]
    }
   ],
   "source": [
    "#add kmeans cluster classifications of traces to dataframe and see how that aligns with AI agent strategies\n",
    "extended_traces_flat['ClusterID'] = kmeans.labels_\n",
    "strat_vs_clusterid = extended_traces_flat[['AgentName', 'AgentNameOpponent','ClusterID']]\n",
    "counts = strat_vs_clusterid.groupby(['AgentName', 'AgentNameOpponent','ClusterID']).size()\n",
    "print(counts)"
   ]
  },
  {
   "cell_type": "code",
   "execution_count": 28,
   "id": "5798580d",
   "metadata": {},
   "outputs": [
    {
     "name": "stdout",
     "output_type": "stream",
     "text": [
      "   GARDENS_R0  WITCH_R0  CURSE_R0  PROVINCE_R0  DUCHY_R0  ESTATE_R0  GOLD_R0  \\\n",
      "0         0.0      -0.0       0.0          0.0       0.0        3.0      0.0   \n",
      "1         0.0       0.0       0.0          0.0       0.0        3.0      0.0   \n",
      "\n",
      "   SILVER_R0  COPPER_R0  GARDENS_R1  ...  COPPER_R23  GARDENS_R24  WITCH_R24  \\\n",
      "0        1.0        7.0         0.0  ...         7.0          3.0       -0.0   \n",
      "1        1.0        7.0         0.0  ...         7.0          0.0        2.0   \n",
      "\n",
      "   CURSE_R24  PROVINCE_R24  DUCHY_R24  ESTATE_R24  GOLD_R24  SILVER_R24  \\\n",
      "0        7.0           2.0       -0.0         3.0       8.0         7.0   \n",
      "1       -0.0           5.0        2.0         3.0       5.0         7.0   \n",
      "\n",
      "   COPPER_R24  \n",
      "0         7.0  \n",
      "1         7.0  \n",
      "\n",
      "[2 rows x 225 columns]\n"
     ]
    }
   ],
   "source": [
    "#look at how the cluster centers compare to our average traces\n",
    "df_cluster_centres = pd.DataFrame(kmeans.cluster_centers_)\n",
    "cols = [card_types_BigMoneyWithGardens_vs_DoubleWitch[i] + \"_R\" + str(r) for r in range(0, maxNoOfRounds) \n",
    "        for i in range(0, len(card_types_BigMoneyWithGardens_vs_DoubleWitch))]\n",
    "df_cluster_centres.columns = cols\n",
    "#round entires to nearest integer (inline with how we define our average traces)\n",
    "df_cluster_centres = df_cluster_centres.round(0)\n",
    "print(df_cluster_centres)"
   ]
  },
  {
   "cell_type": "code",
   "execution_count": 29,
   "id": "2c26ea40",
   "metadata": {},
   "outputs": [],
   "source": [
    "def deck_evol_comparison(trace1, trace2, tag1, tag2, cardTypes, maxRounds):\n",
    "    #look at evolution of number of cards of each type per round\n",
    "    noCardTypes = len(cardTypes)\n",
    "    noOfSubplotsInXDirection = 3\n",
    "    noOfSubplotsInYDirection = 3\n",
    "    fig, axs = plt.subplots(noOfSubplotsInXDirection, noOfSubplotsInYDirection)\n",
    "    for i in range(0,3):\n",
    "        for j in range(0,3):\n",
    "            cardIndex = 3*j + i\n",
    "            cardType = cardTypes[cardIndex]\n",
    "            card_col_1 = [cardType + \"_R\" + str(r) + tag1 for r in range(0,maxRounds)]\n",
    "            card_col_2 = [cardType + \"_R\" + str(r) + tag2 for r in range(0,maxRounds)]\n",
    "            axs[i,j].plot(range(0,maxRounds), trace1[card_col_1].iloc[0], label = 'Trace_1')\n",
    "            axs[i,j].plot(range(0,maxRounds), trace2[card_col_2].iloc[0], label = 'Trace_2')\n",
    "            axs[i,j].set_title(cardType)\n",
    "            axs[i,j].set_xlabel('Round')\n",
    "            fig.tight_layout() "
   ]
  },
  {
   "cell_type": "code",
   "execution_count": 38,
   "id": "74edf9c1",
   "metadata": {},
   "outputs": [
    {
     "data": {
      "image/png": "[encoded data removed]",
      "text/plain": [
       "<Figure size 432x288 with 9 Axes>"
      ]
     },
     "metadata": {
      "needs_background": "light"
     },
     "output_type": "display_data"
    }
   ],
   "source": [
    "#compare centre with ClusterID zero to our average traces\n",
    "cluster0centre = pd.DataFrame(df_cluster_centres.iloc[0]).transpose()\n",
    "avg_trace_player = 'BMWG'\n",
    "avg_trace_opp = 'DW'\n",
    "avg_trace = average_traces[(average_traces['AgentName'] == avg_trace_player) \n",
    "                           & (average_traces['AgentNameOpponent'] == avg_trace_opp) ].drop(['AgentName','AgentNameOpponent'], axis =1)\n",
    "deck_evol_comparison(cluster0centre, avg_trace, \"\", \"_avg\", card_types_BigMoneyWithGardens_vs_DoubleWitch\n",
    "                    ,maxNoOfRounds)"
   ]
  },
  {
   "cell_type": "code",
   "execution_count": 39,
   "id": "f4e798a4",
   "metadata": {},
   "outputs": [
    {
     "data": {
      "image/png": "[encoded data removed]",
      "text/plain": [
       "<Figure size 432x288 with 9 Axes>"
      ]
     },
     "metadata": {
      "needs_background": "light"
     },
     "output_type": "display_data"
    }
   ],
   "source": [
    "#compare centre with ClusterID one to our average traces\n",
    "cluster1centre = pd.DataFrame(df_cluster_centres.iloc[1]).transpose()\n",
    "avg_trace_player = 'DW'\n",
    "avg_trace_opp = 'BMWG'\n",
    "avg_trace = average_traces[(average_traces['AgentName'] == avg_trace_player) \n",
    "                           & (average_traces['AgentNameOpponent'] == avg_trace_opp) ].drop(['AgentName','AgentNameOpponent'], axis =1)\n",
    "deck_evol_comparison(cluster1centre, avg_trace, \"\", \"_avg\", card_types_BigMoneyWithGardens_vs_DoubleWitch\n",
    "                    ,maxNoOfRounds)"
   ]
  },
  {
   "cell_type": "code",
   "execution_count": null,
   "id": "d5cfc198",
   "metadata": {},
   "outputs": [],
   "source": [
    "#compare centre with ClusterID two to our average traces\n",
    "cluster2centre = pd.DataFrame(df_cluster_centres.iloc[2]).transpose()\n",
    "avg_trace_player = 'DW'\n",
    "avg_trace_opp = 'BMWG'\n",
    "avg_trace = average_traces[(average_traces['AgentName'] == avg_trace_player) \n",
    "                           & (average_traces['AgentNameOpponent'] == avg_trace_opp) ].drop(['AgentName','AgentNameOpponent'], axis =1)\n",
    "deck_evol_comparison(cluster2centre, avg_trace, \"\", \"_avg\", card_types_BigMoneyWithGardens_vs_DoubleWitch\n",
    "                    ,maxNoOfRounds)"
   ]
  },
  {
   "cell_type": "code",
   "execution_count": null,
   "id": "cfa04503",
   "metadata": {},
   "outputs": [],
   "source": [
    "#compare centre with ClusterID three to our average traces\n",
    "cluster3centre = pd.DataFrame(df_cluster_centres.iloc[3]).transpose()\n",
    "avg_trace_player = 'BMWG'\n",
    "avg_trace_opp = 'DW'\n",
    "avg_trace = average_traces[(average_traces['AgentName'] == avg_trace_player) \n",
    "                           & (average_traces['AgentNameOpponent'] == avg_trace_opp) ].drop(['AgentName','AgentNameOpponent'], axis =1)\n",
    "deck_evol_comparison(cluster3centre, avg_trace, \"\", \"_avg\", card_types_BigMoneyWithGardens_vs_DoubleWitch\n",
    "                    ,maxNoOfRounds)"
   ]
  }
 ],
 "metadata": {
  "kernelspec": {
   "display_name": "Python 3 (ipykernel)",
   "language": "python",
   "name": "python3"
  },
  "language_info": {
   "codemirror_mode": {
    "name": "ipython",
    "version": 3
   },
   "file_extension": ".py",
   "mimetype": "text/x-python",
   "name": "python",
   "nbconvert_exporter": "python",
   "pygments_lexer": "ipython3",
   "version": "3.9.12"
  }
 },
 "nbformat": 4,
 "nbformat_minor": 5
}
