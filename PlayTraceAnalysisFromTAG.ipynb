{
 "cells": [
  {
   "cell_type": "code",
   "execution_count": null,
   "id": "6ddf0f21",
   "metadata": {},
   "outputs": [],
   "source": [
    "#assumptions that will break if we use MCTS for play traces in this code\n",
    "#1. Turn wont be either 0 or 1\n",
    "#2. Cant just copy the final two rows to extend round number to maxNoOfRounds"
   ]
  },
  {
   "cell_type": "code",
   "execution_count": 2,
   "id": "0e228ab9",
   "metadata": {},
   "outputs": [],
   "source": [
    "import pandas as pd\n",
    "import pdb\n",
    "import math\n",
    "import matplotlib.pyplot as plt\n",
    "#from sklearn.manifold import MDS \n",
    "from sklearn.cluster import KMeans\n",
    "import itertools\n",
    "pd.set_option('display.max_rows', 50)"
   ]
  },
  {
   "cell_type": "code",
   "execution_count": 3,
   "id": "d23e480f",
   "metadata": {},
   "outputs": [],
   "source": [
    "#parameters for round robin tournament\n",
    "NOOFPLAYERS = 2 #note, keep this fixed and dont change it\n",
    "games_per_matchup = 25\n",
    "self_play = True\n",
    "agents = ['BMWG', 'DW']"
   ]
  },
  {
   "cell_type": "code",
   "execution_count": 4,
   "id": "20a5eb34",
   "metadata": {},
   "outputs": [
    {
     "name": "stdout",
     "output_type": "stream",
     "text": [
      "      GameID  Player  Round  Turn  CurrentScore  SCORE  SCORE_ADV  ORDINAL  \\\n",
      "0        2.0     0.0    0.0   0.0           3.0   0.06       0.00      0.5   \n",
      "1        2.0     1.0    0.0   0.0           3.0   0.06       0.00      0.5   \n",
      "2        2.0     0.0    0.0   1.0           3.0   0.06       0.00      0.5   \n",
      "3        2.0     1.0    0.0   1.0           3.0   0.06       0.00      0.5   \n",
      "4        2.0     0.0    1.0   0.0           3.0   0.06       0.00      0.5   \n",
      "...      ...     ...    ...   ...           ...    ...        ...      ...   \n",
      "8693   101.0     1.0   20.0   0.0          30.0   0.60       0.20      0.5   \n",
      "8694   101.0     0.0   20.0   1.0          25.0   0.50      -0.32      1.0   \n",
      "8695   101.0     1.0   20.0   1.0          33.0   0.66       0.32      0.5   \n",
      "8696   101.0     0.0   21.0   0.0          31.0   0.62      -0.08      1.0   \n",
      "8697   101.0     1.0   21.0   0.0          33.0   0.66       0.08      0.5   \n",
      "\n",
      "      OUR_TURN  HAS_WON  ...  MINE  SENTRY  WITCH  ARTISAN  PlayerCount  \\\n",
      "0          1.0      0.0  ...   0.0     0.0    0.0      0.0          2.0   \n",
      "1          0.0      0.0  ...   0.0     0.0    0.0      0.0          2.0   \n",
      "2          0.0      0.0  ...   0.0     0.0    0.0      0.0          2.0   \n",
      "3          1.0      0.0  ...   0.0     0.0    0.0      0.0          2.0   \n",
      "4          1.0      0.0  ...   0.0     0.0    0.0      0.0          2.0   \n",
      "...        ...      ...  ...   ...     ...    ...      ...          ...   \n",
      "8693       0.0      0.0  ...   0.0     0.0    2.0      0.0          2.0   \n",
      "8694       0.0      0.0  ...   0.0     0.0    2.0      0.0          2.0   \n",
      "8695       1.0      0.0  ...   0.0     0.0    2.0      0.0          2.0   \n",
      "8696       1.0      0.0  ...   0.0     0.0    1.0      0.0          2.0   \n",
      "8697       0.0      1.0  ...   0.0     0.0    2.0      0.0          2.0   \n",
      "\n",
      "      TotalRounds  ActionScore  Win  Ordinal  FinalScore  \n",
      "0            20.0          0.0  1.0      1.0        33.0  \n",
      "1            20.0          0.0  0.0      2.0        23.0  \n",
      "2            20.0          0.0  1.0      1.0        33.0  \n",
      "3            20.0          0.0  0.0      2.0        23.0  \n",
      "4            20.0          0.0  1.0      1.0        33.0  \n",
      "...           ...          ...  ...      ...         ...  \n",
      "8693         21.0          0.0  1.0      1.0        33.0  \n",
      "8694         21.0          0.0  0.0      2.0        31.0  \n",
      "8695         21.0          0.0  1.0      1.0        33.0  \n",
      "8696         21.0          0.0  0.0      2.0        31.0  \n",
      "8697         21.0          0.0  1.0      1.0        33.0  \n",
      "\n",
      "[8698 rows x 51 columns]\n"
     ]
    }
   ],
   "source": [
    "data  = pd.read_csv(\"data/featureslogfile.txt\", sep = '\\t')\n",
    "print(data)"
   ]
  },
  {
   "cell_type": "code",
   "execution_count": 5,
   "id": "da021e25",
   "metadata": {},
   "outputs": [],
   "source": [
    "#define columns of interest \n",
    "card_types_BigMoneyWithGardens_vs_DoubleWitch = ['GARDENS', 'WITCH', 'CURSE', 'PROVINCE', 'DUCHY', 'ESTATE', 'GOLD', 'SILVER', 'COPPER']\n",
    "cols = ['AgentName', 'Player', 'GameID', 'Round', 'CurrentScore']\n",
    "cols = cols + card_types_BigMoneyWithGardens_vs_DoubleWitch"
   ]
  },
  {
   "cell_type": "code",
   "execution_count": 6,
   "id": "989bc706",
   "metadata": {},
   "outputs": [
    {
     "name": "stdout",
     "output_type": "stream",
     "text": [
      "Issue with WITCH in game 27.0 with player 1.0\n",
      "Issue with WITCH in game 30.0 with player 1.0\n",
      "Issue with WITCH in game 38.0 with player 1.0\n",
      "Issue with WITCH in game 43.0 with player 1.0\n",
      "Issue with WITCH in game 77.0 with player 1.0\n",
      "Issue with WITCH in game 78.0 with player 1.0\n",
      "Issue with WITCH in game 79.0 with player 1.0\n",
      "Issue with WITCH in game 84.0 with player 1.0\n",
      "Issue with WITCH in game 85.0 with player 1.0\n",
      "Issue with WITCH in game 88.0 with player 1.0\n",
      "Issue with WITCH in game 92.0 with player 1.0\n",
      "Issue with WITCH in game 99.0 with player 1.0\n",
      "Issue with WITCH in game 100.0 with player 1.0\n"
     ]
    }
   ],
   "source": [
    "#we seem to have an issue with some cards having their number reduced, which shouldn't happen in our set-up\n",
    "for card in card_types_BigMoneyWithGardens_vs_DoubleWitch:\n",
    "    for game in data['GameID'].unique():\n",
    "        for player in data['Player'].unique():\n",
    "            card_evol = data[(data['GameID'] == game) & (data['Player'] == player) & (data['Turn'] == 1)][card]\n",
    "            card_delta = card_evol - card_evol.shift(1)\n",
    "            if card_delta.min() < 0:\n",
    "                print(\"Issue with \" + str(card) + \" in game \" + str(game) + \" with player \" + str(player))\n",
    "                \n",
    "#problem_trace = data[(data['GameID'] == 27) & (data['Player'] == 1)]['WITCH']\n",
    "#print(problem_trace)"
   ]
  },
  {
   "cell_type": "code",
   "execution_count": 7,
   "id": "498ea042",
   "metadata": {},
   "outputs": [],
   "source": [
    "#label all games with corresponding agent names\n",
    "\n",
    "#first generate match-ups\n",
    "matchups = []\n",
    "if self_play:\n",
    "    for agent1 in agents:\n",
    "        for agent2 in agents:\n",
    "            matchups.append((agent1, agent2))\n",
    "else:\n",
    "    matchups = list(itertools.permutations(agents, 2))\n",
    "    \n",
    "#function to map gameID to match-up\n",
    "def gameID_to_matchup(game_id, player_no, matchup_list, no_games_per_matchup, min_game_id):\n",
    "    game_group = int((game_id - min_game_id)/no_games_per_matchup)\n",
    "    matchup = matchup_list[game_group]\n",
    "    agent1, agent2 = matchup\n",
    "    if player_no == 0:\n",
    "        return agent1\n",
    "    else:\n",
    "        return agent2\n",
    "        \n",
    "#add agent names to data set\n",
    "min_GameID = data['GameID'].min()\n",
    "data['AgentName'] = data.apply(lambda row: gameID_to_matchup(row['GameID'], row['Player'], matchups, games_per_matchup, min_GameID), axis = 1)                         "
   ]
  },
  {
   "cell_type": "code",
   "execution_count": 8,
   "id": "e24093be",
   "metadata": {},
   "outputs": [
    {
     "name": "stdout",
     "output_type": "stream",
     "text": [
      "[0. 1.]\n"
     ]
    }
   ],
   "source": [
    "#we can only record events each turn so we need to use the final turn in each round for each player to determine their\n",
    "#deck at the end of the round\n",
    "print(data['Turn'].unique())\n",
    "data = data[data['Turn'] == 1]"
   ]
  },
  {
   "cell_type": "code",
   "execution_count": 9,
   "id": "08b1fa6b",
   "metadata": {},
   "outputs": [
    {
     "name": "stdout",
     "output_type": "stream",
     "text": [
      "     AgentName  Player  GameID  Round  CurrentScore  GARDENS  WITCH  CURSE  \\\n",
      "2         BMWG     0.0     2.0    0.0           3.0      0.0    0.0    0.0   \n",
      "3         BMWG     1.0     2.0    0.0           3.0      0.0    0.0    0.0   \n",
      "6         BMWG     0.0     2.0    1.0           3.0      0.0    0.0    0.0   \n",
      "7         BMWG     1.0     2.0    1.0           3.0      0.0    0.0    0.0   \n",
      "10        BMWG     0.0     2.0    2.0           3.0      0.0    0.0    0.0   \n",
      "...        ...     ...     ...    ...           ...      ...    ...    ...   \n",
      "8687        DW     1.0   101.0   18.0          29.0      0.0    2.0    4.0   \n",
      "8690        DW     0.0   101.0   19.0          24.0      0.0    2.0    6.0   \n",
      "8691        DW     1.0   101.0   19.0          30.0      0.0    2.0    4.0   \n",
      "8694        DW     0.0   101.0   20.0          25.0      0.0    2.0    6.0   \n",
      "8695        DW     1.0   101.0   20.0          33.0      0.0    2.0    4.0   \n",
      "\n",
      "      PROVINCE  DUCHY  ESTATE  GOLD  SILVER  COPPER  \n",
      "2          0.0    0.0     3.0   0.0     0.0     7.0  \n",
      "3          0.0    0.0     3.0   0.0     1.0     7.0  \n",
      "6          0.0    0.0     3.0   0.0     1.0     7.0  \n",
      "7          0.0    0.0     3.0   0.0     1.0     7.0  \n",
      "10         0.0    0.0     3.0   0.0     2.0     7.0  \n",
      "...        ...    ...     ...   ...     ...     ...  \n",
      "8687       4.0    2.0     3.0   4.0     7.0     7.0  \n",
      "8690       3.0    3.0     3.0   1.0    11.0     7.0  \n",
      "8691       4.0    2.0     4.0   4.0     7.0     7.0  \n",
      "8694       3.0    3.0     4.0   1.0    11.0     7.0  \n",
      "8695       4.0    3.0     4.0   4.0     7.0     7.0  \n",
      "\n",
      "[4298 rows x 14 columns]\n"
     ]
    }
   ],
   "source": [
    "#all play taces in a single data frame\n",
    "traces = data.loc[:, cols]\n",
    "print(traces)"
   ]
  },
  {
   "cell_type": "code",
   "execution_count": 10,
   "id": "64712c11",
   "metadata": {},
   "outputs": [
    {
     "name": "stdout",
     "output_type": "stream",
     "text": [
      "31\n"
     ]
    }
   ],
   "source": [
    "#we need to make sure all games have the same number of rounds in them\n",
    "gameLengths = traces.groupby(['GameID'])['Round'].max()\n",
    "maxNoOfRounds = int(gameLengths.max()) + 1 #round counter starts at zero\n",
    "print(maxNoOfRounds)"
   ]
  },
  {
   "cell_type": "code",
   "execution_count": 11,
   "id": "298bbb35",
   "metadata": {},
   "outputs": [],
   "source": [
    "def copy_final_deck_at_game_end(group, roundMax, noPlayers):\n",
    "    #This function repeatedly copies the final decks of two players at the game end, so that the game is extended to \n",
    "    #have roundMax rounds\n",
    "    final_round = int(group['Round'].max())\n",
    "    if (roundMax-1) == final_round:\n",
    "        #in this case we dont need to extend the play trace\n",
    "        return group\n",
    "    else:\n",
    "        final_row_copy = pd.concat([group.iloc[-noPlayers:]] * ((roundMax-1) - final_round), ignore_index=True)\n",
    "        #we need to update the Round counter so that every other row it increments by one\n",
    "        final_row_copy['Round'] = [final_round + 1 + i // 2 for i in range(((roundMax-1) - final_round)*2)]\n",
    "        return pd.concat([group, final_row_copy], ignore_index=True)"
   ]
  },
  {
   "cell_type": "code",
   "execution_count": 12,
   "id": "8aba9051",
   "metadata": {},
   "outputs": [
    {
     "name": "stdout",
     "output_type": "stream",
     "text": [
      "     AgentName  Player  GameID  Round  CurrentScore  GARDENS  WITCH  CURSE  \\\n",
      "0         BMWG     0.0     2.0    0.0           3.0      0.0    0.0    0.0   \n",
      "1         BMWG     1.0     2.0    0.0           3.0      0.0    0.0    0.0   \n",
      "2         BMWG     0.0     2.0    1.0           3.0      0.0    0.0    0.0   \n",
      "3         BMWG     1.0     2.0    1.0           3.0      0.0    0.0    0.0   \n",
      "4         BMWG     0.0     2.0    2.0           3.0      0.0    0.0    0.0   \n",
      "...        ...     ...     ...    ...           ...      ...    ...    ...   \n",
      "6195        DW     1.0   101.0   28.0          33.0      0.0    2.0    4.0   \n",
      "6196        DW     0.0   101.0   29.0          25.0      0.0    2.0    6.0   \n",
      "6197        DW     1.0   101.0   29.0          33.0      0.0    2.0    4.0   \n",
      "6198        DW     0.0   101.0   30.0          25.0      0.0    2.0    6.0   \n",
      "6199        DW     1.0   101.0   30.0          33.0      0.0    2.0    4.0   \n",
      "\n",
      "      PROVINCE  DUCHY  ESTATE  GOLD  SILVER  COPPER  \n",
      "0          0.0    0.0     3.0   0.0     0.0     7.0  \n",
      "1          0.0    0.0     3.0   0.0     1.0     7.0  \n",
      "2          0.0    0.0     3.0   0.0     1.0     7.0  \n",
      "3          0.0    0.0     3.0   0.0     1.0     7.0  \n",
      "4          0.0    0.0     3.0   0.0     2.0     7.0  \n",
      "...        ...    ...     ...   ...     ...     ...  \n",
      "6195       4.0    3.0     4.0   4.0     7.0     7.0  \n",
      "6196       3.0    3.0     4.0   1.0    11.0     7.0  \n",
      "6197       4.0    3.0     4.0   4.0     7.0     7.0  \n",
      "6198       3.0    3.0     4.0   1.0    11.0     7.0  \n",
      "6199       4.0    3.0     4.0   4.0     7.0     7.0  \n",
      "\n",
      "[6200 rows x 14 columns]\n"
     ]
    }
   ],
   "source": [
    "extended_traces = traces.groupby('GameID').apply(copy_final_deck_at_game_end, maxNoOfRounds, NOOFPLAYERS).reset_index(drop = True)\n",
    "print(extended_traces)"
   ]
  },
  {
   "cell_type": "code",
   "execution_count": 24,
   "id": "0a958569",
   "metadata": {},
   "outputs": [
    {
     "name": "stdout",
     "output_type": "stream",
     "text": [
      "    AgentName  Player  GameID  GARDENS_R0  WITCH_R0  CURSE_R0  PROVINCE_R0  \\\n",
      "0        BMWG     0.0     2.0         0.0       0.0       0.0          0.0   \n",
      "1        BMWG     0.0     3.0         0.0       0.0       0.0          0.0   \n",
      "2        BMWG     0.0     4.0         0.0       0.0       0.0          0.0   \n",
      "3        BMWG     0.0     5.0         0.0       0.0       0.0          0.0   \n",
      "4        BMWG     0.0     6.0         0.0       0.0       0.0          0.0   \n",
      "..        ...     ...     ...         ...       ...       ...          ...   \n",
      "195        DW     1.0    97.0         0.0       0.0       0.0          0.0   \n",
      "196        DW     1.0    98.0         0.0       1.0       0.0          0.0   \n",
      "197        DW     1.0    99.0         0.0       0.0       0.0          0.0   \n",
      "198        DW     1.0   100.0         0.0       0.0       0.0          0.0   \n",
      "199        DW     1.0   101.0         0.0       0.0       0.0          0.0   \n",
      "\n",
      "     DUCHY_R0  ESTATE_R0  GOLD_R0  ...  WITCH_R30  CURSE_R30  PROVINCE_R30  \\\n",
      "0         0.0        3.0      0.0  ...        0.0        0.0           4.0   \n",
      "1         0.0        3.0      0.0  ...        0.0        0.0           4.0   \n",
      "2         0.0        3.0      0.0  ...        0.0        0.0           4.0   \n",
      "3         0.0        3.0      0.0  ...        0.0        0.0           4.0   \n",
      "4         0.0        3.0      0.0  ...        0.0        0.0           4.0   \n",
      "..        ...        ...      ...  ...        ...        ...           ...   \n",
      "195       0.0        3.0      0.0  ...        2.0        6.0           4.0   \n",
      "196       0.0        3.0      0.0  ...        2.0        5.0           4.0   \n",
      "197       0.0        3.0      0.0  ...        1.0        4.0           5.0   \n",
      "198       0.0        3.0      0.0  ...        1.0        4.0           5.0   \n",
      "199       0.0        3.0      0.0  ...        2.0        4.0           4.0   \n",
      "\n",
      "     DUCHY_R30  ESTATE_R30  GOLD_R30  SILVER_R30  COPPER_R30  Opponent  \\\n",
      "0          0.0         3.0       8.0         7.0         7.0       1.0   \n",
      "1          0.0         3.0       9.0         6.0         7.0       1.0   \n",
      "2          0.0         3.0      10.0         6.0         7.0       1.0   \n",
      "3          0.0         3.0       9.0         6.0         7.0       1.0   \n",
      "4          0.0         3.0       9.0         7.0         7.0       1.0   \n",
      "..         ...         ...       ...         ...         ...       ...   \n",
      "195        1.0         3.0       6.0         8.0         7.0       0.0   \n",
      "196        3.0         6.0       6.0        10.0         7.0       0.0   \n",
      "197        2.0         3.0       6.0         7.0         7.0       0.0   \n",
      "198        4.0         4.0       5.0         8.0         7.0       0.0   \n",
      "199        3.0         4.0       4.0         7.0         7.0       0.0   \n",
      "\n",
      "     AgentNameOpponent  \n",
      "0                 BMWG  \n",
      "1                 BMWG  \n",
      "2                 BMWG  \n",
      "3                 BMWG  \n",
      "4                 BMWG  \n",
      "..                 ...  \n",
      "195                 DW  \n",
      "196                 DW  \n",
      "197                 DW  \n",
      "198                 DW  \n",
      "199                 DW  \n",
      "\n",
      "[200 rows x 284 columns]\n"
     ]
    }
   ],
   "source": [
    "#next we need to flatten this dataframe so that each trace is a single row.\n",
    "#Note we drop the current score as we dont need it for now. We also drop the round label as it is redundant\n",
    "#and it will get reintroduced when flattening through the revised column names\n",
    "traces_tmp = extended_traces.drop(['CurrentScore', 'Round'], axis = 1)\n",
    "cols = [card_types_BigMoneyWithGardens_vs_DoubleWitch[i] + \"_R\" + str(r) \n",
    "        for r in range(0, maxNoOfRounds) for i in range(0, len(card_types_BigMoneyWithGardens_vs_DoubleWitch))] \n",
    "\n",
    "extended_traces_flat = traces_tmp.groupby(['AgentName', 'Player', 'GameID']).apply(lambda df: df[card_types_BigMoneyWithGardens_vs_DoubleWitch].values.flatten())\n",
    "extended_traces_flat = pd.DataFrame(extended_traces_flat, columns = ['Trace']).reset_index()\n",
    "extended_traces_flat = pd.concat([extended_traces_flat[['AgentName', 'Player', 'GameID']], extended_traces_flat['Trace'].apply(pd.Series)], axis=1)\n",
    "extended_traces_flat.columns = ['AgentName', 'Player', 'GameID'] + cols\n",
    "\n",
    "#note we also add the name of the agent of the opponent for each trace (this is used later when grouping play traces)\n",
    "extended_traces_flat['Opponent'] = extended_traces_flat.apply(lambda row: 1.0 if row['Player'] == 0.0 else 0.0, axis = 1)\n",
    "extended_traces_flat['AgentNameOpponent'] = extended_traces_flat.apply(lambda row: gameID_to_matchup(row['GameID'], row['Opponent'], matchups, games_per_matchup, min_GameID), axis = 1)                                   \n",
    "\n",
    "print(extended_traces_flat)"
   ]
  },
  {
   "cell_type": "code",
   "execution_count": 25,
   "id": "6cd2c0ed",
   "metadata": {},
   "outputs": [
    {
     "name": "stdout",
     "output_type": "stream",
     "text": [
      "19900\n"
     ]
    }
   ],
   "source": [
    "#comparing two distinct games we have:\n",
    "#1. Game 1 player 1 - denoted by G1_P1\n",
    "#2. Game 1 player 2 - denoted by G1_P2\n",
    "#3. Game 2 player 1 - denoted by G2_P1\n",
    "#4. Game 2 player 2 - denoted by G2_P2\n",
    "\n",
    "#then the possible combinations of play traces to compare between two games are as follows:\n",
    "#1. \"G1_P1 (with opponent G1_P2)\" versus \"G2_P1 (with opponent G2_P2)\"\n",
    "#2. \"G1_P1 (with opponent G1_P2)\" versus \"G2_P2 (with opponent G2_P1)\"\n",
    "#3. \"G1_P2 (with opponent G1_P1)\" versus \"G2_P1 (with opponent G2_P2)\"\n",
    "#3. \"G1_P2 (with opponent G1_P1)\" versus \"G2_P2 (with opponent G2_P1)\"\n",
    "\n",
    "#within a single game we can only compare the traces of player 1 and player 2\n",
    "\n",
    "noOfGames = extended_traces_flat['GameID'].unique().size\n",
    "noOfOffDiagGameCombos = int(noOfGames *(noOfGames -1)/2.0) \n",
    "noOfPairWiseDistances = 4 * noOfOffDiagGameCombos + noOfGames\n",
    "print(noOfPairWiseDistances)"
   ]
  },
  {
   "cell_type": "code",
   "execution_count": 26,
   "id": "84a1fbec",
   "metadata": {},
   "outputs": [],
   "source": [
    "#next we need to collect together all pairwise combinations of traces so that we can compute all distance measure pairs\n",
    "\n",
    "# Step 1: Create a list of DataFrames for each 'off diagonal' combination of games\n",
    "unique_values = extended_traces_flat['GameID'].unique()\n",
    "offdiag_combinations = list(itertools.combinations(unique_values, 2))\n",
    "diag_combos = [(i,i) for i in unique_values]\n",
    "combos = offdiag_combinations + diag_combos\n",
    "\n",
    "list_dfs = []\n",
    "for combination in combos:\n",
    "    #extract traces for each game ID and strategy combination\n",
    "    GameID_1, GameID_2 = combination\n",
    "    keys = []\n",
    "    #label player numbers for clarity\n",
    "    player1_game1 = 0\n",
    "    player2_game1 = 1\n",
    "    player1_game2 = 0\n",
    "    player2_game2 = 1\n",
    "    if GameID_1 != GameID_2:\n",
    "        #define the four combinations of play traces we can compare between two 'off diagonal' games\n",
    "        keys = [((GameID_1, player1_game1), (GameID_2, player1_game2)),\n",
    "                ((GameID_1, player1_game1), (GameID_2, player2_game2)),\n",
    "                ((GameID_1, player2_game1), (GameID_2, player1_game2)),\n",
    "                ((GameID_1, player2_game1), (GameID_2, player2_game2 ))]\n",
    "    else:\n",
    "        keys = [((GameID_1, player1_game1), (GameID_1, player2_game1))]\n",
    "             \n",
    "    for key in keys:\n",
    "        key1, key2 = key\n",
    "        \n",
    "        count= 0;\n",
    "        df_inter = [];\n",
    "        for game_player in [key1,key2]:\n",
    "            count += 1\n",
    "            tag = \"_P\" + str(count)\n",
    "            game,player = game_player\n",
    "        \n",
    "            df = extended_traces_flat[(extended_traces_flat['GameID'] == game) & (extended_traces_flat['Player'] == player)]\n",
    "            new_col_names = {old_col: old_col + tag for old_col in extended_traces_flat.columns}\n",
    "            df = df.rename(columns=new_col_names)\n",
    "            \n",
    "            #store to prepare for concatenation\n",
    "            df_inter.append(df)\n",
    "            \n",
    "        #next align play traces by concatenating \n",
    "        df_trace = pd.concat([df_inter[0], df_inter[1].set_index(df_inter[0].index)], axis = 1)\n",
    "        \n",
    "        #then add to list of dfs\n",
    "        list_dfs.append(df_trace)\n",
    "        \n",
    "#finally we need to append togther all the datafarmes in our list\n",
    "sym_trace_combos_flat = pd.concat(list_dfs, ignore_index=True)"
   ]
  },
  {
   "cell_type": "code",
   "execution_count": 27,
   "id": "cdf11316",
   "metadata": {},
   "outputs": [
    {
     "name": "stdout",
     "output_type": "stream",
     "text": [
      "Expected no rows: 19900\n",
      "Expected no of cols: 568\n"
     ]
    },
    {
     "data": {
      "text/plain": [
       "(19900, 568)"
      ]
     },
     "execution_count": 27,
     "metadata": {},
     "output_type": "execute_result"
    }
   ],
   "source": [
    "#the no of rows in our symmetric trace combos should be given by noOfPairwiseDistances \n",
    "#and no columns should be given by the card types * no of rounds plus 5 (for player, player name, gameID, opponent and\n",
    "#opponent name) all mulitplied by two, for the two players\n",
    "print(\"Expected no rows: \" + str(noOfPairWiseDistances))\n",
    "print(\"Expected no of cols: \" + str((len(card_types_BigMoneyWithGardens_vs_DoubleWitch)*maxNoOfRounds +5)*2))\n",
    "sym_trace_combos_flat.shape"
   ]
  },
  {
   "cell_type": "code",
   "execution_count": 29,
   "id": "75969b16",
   "metadata": {},
   "outputs": [],
   "source": [
    "#next step is to calculate the distance between each pairwise play trace\n",
    "def dist_measure(playTracePair, cardTypes, maxRounds, tag1, tag2):\n",
    "    dist = 0\n",
    "    for r in range(0, maxRounds):\n",
    "        for card in cardTypes:\n",
    "            col1 = card + \"_R\" + str(r) + tag1\n",
    "            col2 = card + \"_R\" + str(r) + tag2\n",
    "            dist += (playTracePair[col1]-playTracePair[col2])**2\n",
    "    dist = math.sqrt(dist)\n",
    "    return dist"
   ]
  },
  {
   "cell_type": "code",
   "execution_count": 30,
   "id": "54593fb3",
   "metadata": {},
   "outputs": [
    {
     "name": "stdout",
     "output_type": "stream",
     "text": [
      "      AgentName_P1  Player_P1  GameID_P1  GARDENS_R0_P1  WITCH_R0_P1  \\\n",
      "0             BMWG        0.0        2.0            0.0          0.0   \n",
      "1             BMWG        0.0        2.0            0.0          0.0   \n",
      "2             BMWG        1.0        2.0            0.0          0.0   \n",
      "3             BMWG        1.0        2.0            0.0          0.0   \n",
      "4             BMWG        0.0        2.0            0.0          0.0   \n",
      "...            ...        ...        ...            ...          ...   \n",
      "19895           DW        0.0       97.0            0.0          0.0   \n",
      "19896           DW        0.0       98.0            0.0          0.0   \n",
      "19897           DW        0.0       99.0            0.0          0.0   \n",
      "19898           DW        0.0      100.0            0.0          0.0   \n",
      "19899           DW        0.0      101.0            0.0          0.0   \n",
      "\n",
      "       CURSE_R0_P1  PROVINCE_R0_P1  DUCHY_R0_P1  ESTATE_R0_P1  GOLD_R0_P1  \\\n",
      "0              0.0             0.0          0.0           3.0         0.0   \n",
      "1              0.0             0.0          0.0           3.0         0.0   \n",
      "2              0.0             0.0          0.0           3.0         0.0   \n",
      "3              0.0             0.0          0.0           3.0         0.0   \n",
      "4              0.0             0.0          0.0           3.0         0.0   \n",
      "...            ...             ...          ...           ...         ...   \n",
      "19895          0.0             0.0          0.0           3.0         0.0   \n",
      "19896          0.0             0.0          0.0           3.0         0.0   \n",
      "19897          0.0             0.0          0.0           3.0         0.0   \n",
      "19898          0.0             0.0          0.0           3.0         0.0   \n",
      "19899          0.0             0.0          0.0           3.0         0.0   \n",
      "\n",
      "       ...  CURSE_R30_P2  PROVINCE_R30_P2  DUCHY_R30_P2  ESTATE_R30_P2  \\\n",
      "0      ...           0.0              4.0           0.0            3.0   \n",
      "1      ...           0.0              3.0           0.0            3.0   \n",
      "2      ...           0.0              4.0           0.0            3.0   \n",
      "3      ...           0.0              3.0           0.0            3.0   \n",
      "4      ...           0.0              4.0           0.0            3.0   \n",
      "...    ...           ...              ...           ...            ...   \n",
      "19895  ...           6.0              4.0           1.0            3.0   \n",
      "19896  ...           5.0              4.0           3.0            6.0   \n",
      "19897  ...           4.0              5.0           2.0            3.0   \n",
      "19898  ...           4.0              5.0           4.0            4.0   \n",
      "19899  ...           4.0              4.0           3.0            4.0   \n",
      "\n",
      "       GOLD_R30_P2  SILVER_R30_P2  COPPER_R30_P2  Opponent_P2  \\\n",
      "0              9.0            6.0            7.0          1.0   \n",
      "1             11.0            5.0            7.0          0.0   \n",
      "2              9.0            6.0            7.0          1.0   \n",
      "3             11.0            5.0            7.0          0.0   \n",
      "4             10.0            6.0            7.0          1.0   \n",
      "...            ...            ...            ...          ...   \n",
      "19895          6.0            8.0            7.0          0.0   \n",
      "19896          6.0           10.0            7.0          0.0   \n",
      "19897          6.0            7.0            7.0          0.0   \n",
      "19898          5.0            8.0            7.0          0.0   \n",
      "19899          4.0            7.0            7.0          0.0   \n",
      "\n",
      "       AgentNameOpponent_P2       dist  \n",
      "0                      BMWG   9.219544  \n",
      "1                      BMWG  18.734994  \n",
      "2                      BMWG   6.324555  \n",
      "3                      BMWG  11.135529  \n",
      "4                      BMWG  11.789826  \n",
      "...                     ...        ...  \n",
      "19895                    DW  16.970563  \n",
      "19896                    DW  21.540659  \n",
      "19897                    DW  26.851443  \n",
      "19898                    DW  16.124515  \n",
      "19899                    DW  23.643181  \n",
      "\n",
      "[19900 rows x 569 columns]\n"
     ]
    }
   ],
   "source": [
    "#now compute all the pairwise trace distances\n",
    "sym_trace_combos_flat['dist'] = sym_trace_combos_flat.apply(lambda row: dist_measure(row, card_types_BigMoneyWithGardens_vs_DoubleWitch,\n",
    "                                                                                    maxNoOfRounds, \"_P1\", \"_P2\"), axis = 1)\n",
    "print(sym_trace_combos_flat)"
   ]
  },
  {
   "cell_type": "code",
   "execution_count": 49,
   "id": "4bdcc42d",
   "metadata": {},
   "outputs": [
    {
     "data": {
      "text/plain": [
       "<matplotlib.legend.Legend at 0x7fe952c875b0>"
      ]
     },
     "execution_count": 49,
     "metadata": {},
     "output_type": "execute_result"
    },
    {
     "data": {
      "image/png": "[encoded data removed]",
      "text/plain": [
       "<Figure size 432x288 with 1 Axes>"
      ]
     },
     "metadata": {
      "needs_background": "light"
     },
     "output_type": "display_data"
    }
   ],
   "source": [
    "#TODO: how do I deal with symmetric case again?\n",
    "\n",
    "#plot distances along the real line and colour code\n",
    "count = 0;\n",
    "for name, group in sym_trace_combos_flat.groupby(['AgentName_P1', 'AgentNameOpponent_P1', 'AgentName_P2', 'AgentNameOpponent_P2']):\n",
    "    p1, opp1, p2, opp2 = name\n",
    "    leg_label = p1 + \" opp \" + opp1 + \" vs \" + p2 + \" opp \" + opp2\n",
    "    plt.scatter(group['dist'], [count * 0.01] * group['dist'].shape[0], s = count + 1, label = leg_label)\n",
    "    count += 1\n",
    "    \n",
    "plt.yticks([])\n",
    "plt.xlabel('Pairwise distances')\n",
    "plt.legend(loc = (1.1,0.23))\n"
   ]
  },
  {
   "cell_type": "code",
   "execution_count": 32,
   "id": "d67d896d",
   "metadata": {},
   "outputs": [
    {
     "name": "stdout",
     "output_type": "stream",
     "text": [
      "   AgentName_P1 AgentNameOpponent_P1 AgentName_P2 AgentNameOpponent_P2  \\\n",
      "0          BMWG                 BMWG         BMWG                 BMWG   \n",
      "1          BMWG                 BMWG         BMWG                   DW   \n",
      "2          BMWG                 BMWG           DW                 BMWG   \n",
      "3          BMWG                 BMWG           DW                   DW   \n",
      "4          BMWG                   DW         BMWG                   DW   \n",
      "5          BMWG                   DW           DW                 BMWG   \n",
      "6          BMWG                   DW           DW                   DW   \n",
      "7            DW                 BMWG         BMWG                   DW   \n",
      "8            DW                 BMWG           DW                 BMWG   \n",
      "9            DW                 BMWG           DW                   DW   \n",
      "10           DW                   DW           DW                   DW   \n",
      "\n",
      "         mean       std  count  \n",
      "0   12.690875  6.081592   1225  \n",
      "1   35.383917  7.551876   2500  \n",
      "2   28.710909  6.941454   2500  \n",
      "3   39.493401  8.364789   2500  \n",
      "4   18.832497  6.867258   1225  \n",
      "5   42.936327  6.587207   1250  \n",
      "6   32.833420  7.780046   2500  \n",
      "7   43.115845  6.162195   1250  \n",
      "8   15.276275  5.600492   1225  \n",
      "9   30.917774  6.419447   2500  \n",
      "10  20.664912  6.887681   1225  \n"
     ]
    }
   ],
   "source": [
    "#next we look at the average and standard deviation of distances between play traces grouped by the strategy \n",
    "#of the player and the opponent\n",
    "mean_and_std = sym_trace_combos_flat.groupby(['AgentName_P1','AgentNameOpponent_P1',\n",
    "                                                  'AgentName_P2','AgentNameOpponent_P2'])['dist'].agg(['mean', 'std','count']).reset_index()\n",
    "print(mean_and_std)"
   ]
  },
  {
   "cell_type": "code",
   "execution_count": 33,
   "id": "37b2ca30",
   "metadata": {},
   "outputs": [
    {
     "name": "stdout",
     "output_type": "stream",
     "text": [
      "      GameID_P1  GameID_P2 AgentName_P1 AgentNameOpponent_P1 AgentName_P2  \\\n",
      "8701       27.0       28.0         BMWG                   DW           DW   \n",
      "8705       27.0       29.0         BMWG                   DW           DW   \n",
      "8709       27.0       30.0         BMWG                   DW           DW   \n",
      "8713       27.0       31.0         BMWG                   DW           DW   \n",
      "8717       27.0       32.0         BMWG                   DW           DW   \n",
      "\n",
      "     AgentNameOpponent_P2       dist  \n",
      "8701                 BMWG  39.051248  \n",
      "8705                 BMWG  39.420807  \n",
      "8709                 BMWG  40.496913  \n",
      "8713                 BMWG  45.475268  \n",
      "8717                 BMWG  41.496988  \n",
      "      GameID_P1  GameID_P2 AgentName_P1 AgentNameOpponent_P1 AgentName_P2  \\\n",
      "8702       27.0       28.0           DW                 BMWG         BMWG   \n",
      "8706       27.0       29.0           DW                 BMWG         BMWG   \n",
      "8710       27.0       30.0           DW                 BMWG         BMWG   \n",
      "8714       27.0       31.0           DW                 BMWG         BMWG   \n",
      "8718       27.0       32.0           DW                 BMWG         BMWG   \n",
      "\n",
      "     AgentNameOpponent_P2       dist  \n",
      "8702                   DW  34.741906  \n",
      "8706                   DW  39.382737  \n",
      "8710                   DW  52.297227  \n",
      "8714                   DW  38.768544  \n",
      "8718                   DW  38.509739  \n"
     ]
    }
   ],
   "source": [
    "#why do we have \"BMWG (with opponent DW)\" vs \"DW (with opponent BM)\" and also \"DW (with opponent BM)\" vs \"BMWG (with opponent DW)\"?\n",
    "#this is because we have two games BM1 vs DW1 and BM2 vs DW2, then we have BM1 vs DW2 and also DW1 vs BM2, which looks symmetric\n",
    "#and irrelevant but is actually a valid comparison. We also only have this symmetry when we are comparing two games, \n",
    "#within which each player has different strategies (but the same strategies across the two games), i.e A1 vs B1 and A2 vs B2, hence \n",
    "#why we only see the one extra group in the above results set\n",
    "trace_set1 = sym_trace_combos_flat[(sym_trace_combos_flat['AgentName_P1'] == 'BMWG') & (sym_trace_combos_flat['AgentNameOpponent_P1'] == 'DW') \n",
    "                                  & (sym_trace_combos_flat['AgentName_P2'] == 'DW') & (sym_trace_combos_flat['AgentNameOpponent_P2'] == 'BMWG')]\n",
    "trace_set2 = sym_trace_combos_flat[(sym_trace_combos_flat['AgentName_P1'] == 'DW') & (sym_trace_combos_flat['AgentNameOpponent_P1'] == 'BMWG') \n",
    "                                  & (sym_trace_combos_flat['AgentName_P2'] == 'BMWG') & (sym_trace_combos_flat['AgentNameOpponent_P2'] == 'DW')]\n",
    "\n",
    "#now compare the set of games investigated\n",
    "example1 = trace_set1[['GameID_P1', 'GameID_P2', 'AgentName_P1','AgentNameOpponent_P1', 'AgentName_P2','AgentNameOpponent_P2', 'dist']][0:5]\n",
    "example2 = trace_set2[['GameID_P1', 'GameID_P2', 'AgentName_P1','AgentNameOpponent_P1', 'AgentName_P2','AgentNameOpponent_P2', 'dist']][0:5]\n",
    "\n",
    "#in these examples we see different distance values showing that these are valid trace comparisons and not a double\n",
    "#counting\n",
    "print(example1)\n",
    "print(example2)"
   ]
  },
  {
   "cell_type": "code",
   "execution_count": 34,
   "id": "12301347",
   "metadata": {},
   "outputs": [
    {
     "name": "stdout",
     "output_type": "stream",
     "text": [
      "   AgentName_P1 AgentNameOpponent_P1 AgentName_P2 AgentNameOpponent_P2  \\\n",
      "0          BMWG                 BMWG         BMWG                 BMWG   \n",
      "1          BMWG                 BMWG         BMWG                   DW   \n",
      "2          BMWG                 BMWG           DW                 BMWG   \n",
      "3          BMWG                 BMWG           DW                   DW   \n",
      "4          BMWG                   DW         BMWG                   DW   \n",
      "5          BMWG                   DW           DW                 BMWG   \n",
      "6          BMWG                   DW           DW                   DW   \n",
      "8            DW                 BMWG           DW                 BMWG   \n",
      "9            DW                 BMWG           DW                   DW   \n",
      "10           DW                   DW           DW                   DW   \n",
      "\n",
      "         mean       std  count  \n",
      "0   12.690875  6.081592   1225  \n",
      "1   35.383917  7.551876   2500  \n",
      "2   28.710909  6.941454   2500  \n",
      "3   39.493401  8.364789   2500  \n",
      "4   18.832497  6.867258   1225  \n",
      "5   43.026086  6.378242   2500  \n",
      "6   32.833420  7.780046   2500  \n",
      "8   15.276275  5.600492   1225  \n",
      "9   30.917774  6.419447   2500  \n",
      "10  20.664912  6.887681   1225  \n"
     ]
    },
    {
     "name": "stderr",
     "output_type": "stream",
     "text": [
      "/var/folders/60/sk8yhxb56ld6twrcnr2njl3h0000gn/T/ipykernel_94040/4029290965.py:32: SettingWithCopyWarning: \n",
      "A value is trying to be set on a copy of a slice from a DataFrame\n",
      "\n",
      "See the caveats in the documentation: https://pandas.pydata.org/pandas-docs/stable/user_guide/indexing.html#returning-a-view-versus-a-copy\n",
      "  mean_and_std_agg['mean'].loc[index1] = (mean1 * count1 + mean2*count2)/(count1 + count2)\n",
      "/var/folders/60/sk8yhxb56ld6twrcnr2njl3h0000gn/T/ipykernel_94040/4029290965.py:33: SettingWithCopyWarning: \n",
      "A value is trying to be set on a copy of a slice from a DataFrame\n",
      "\n",
      "See the caveats in the documentation: https://pandas.pydata.org/pandas-docs/stable/user_guide/indexing.html#returning-a-view-versus-a-copy\n",
      "  mean_and_std_agg['std'].loc[index1] = math.sqrt((math.pow(std1,2) * count1 + math.pow(std2,2)*count2)/(count1 + count2))\n",
      "/var/folders/60/sk8yhxb56ld6twrcnr2njl3h0000gn/T/ipykernel_94040/4029290965.py:34: SettingWithCopyWarning: \n",
      "A value is trying to be set on a copy of a slice from a DataFrame\n",
      "\n",
      "See the caveats in the documentation: https://pandas.pydata.org/pandas-docs/stable/user_guide/indexing.html#returning-a-view-versus-a-copy\n",
      "  mean_and_std_agg['count'].loc[index1] = count1 + count2\n"
     ]
    }
   ],
   "source": [
    "#next we aggregate those cases play traces comparisons that are identical under interchange \n",
    "#of the P1 and P2 tags (nothing special about player 1 vs player 2 and hence keeping those \n",
    "#groups split out)\n",
    "mean_and_std_agg = mean_and_std.copy()\n",
    "removed_rows = []\n",
    "for index1 in mean_and_std_agg.index:\n",
    "    if (index1 not in removed_rows):\n",
    "        agent_p1_index1 = mean_and_std_agg['AgentName_P1'].loc[index1]\n",
    "        agentopp_p1_index1 = mean_and_std_agg['AgentNameOpponent_P1'].loc[index1]\n",
    "        agent_p2_index1 = mean_and_std_agg['AgentName_P2'].loc[index1]\n",
    "        agentopp_p2_index1 = mean_and_std_agg['AgentNameOpponent_P2'].loc[index1]\n",
    "        for index2 in mean_and_std_agg.index:\n",
    "            #print(\"Index1 :\" + str(index1) + \" Index2: \" + str(index2))\n",
    "            if (index2 != index1):\n",
    "                if (index2 not in removed_rows):\n",
    "                    agent_p1_index2 = mean_and_std_agg['AgentName_P1'].loc[index2]\n",
    "                    agentopp_p1_index2 = mean_and_std_agg['AgentNameOpponent_P1'].loc[index2]\n",
    "                    agent_p2_index2 = mean_and_std_agg['AgentName_P2'].loc[index2]\n",
    "                    agentopp_p2_index2 = mean_and_std_agg['AgentNameOpponent_P2'].loc[index2]\n",
    "                    #now check for symmetry\n",
    "                    if ((agent_p1_index1 == agent_p2_index2) \n",
    "                        & (agent_p2_index1 == agent_p1_index2)\n",
    "                        & (agentopp_p1_index1 == agentopp_p2_index2) \n",
    "                        & (agentopp_p2_index1 == agentopp_p1_index2)):\n",
    "                        #then combine the rows\n",
    "                        mean1 = mean_and_std_agg['mean'].loc[index1]\n",
    "                        count1 = mean_and_std_agg['count'].loc[index1]\n",
    "                        mean2 = mean_and_std_agg['mean'].loc[index2]\n",
    "                        count2 = mean_and_std_agg['count'].loc[index2]\n",
    "                        std1 = mean_and_std_agg['std'].loc[index1]\n",
    "                        std2 = mean_and_std_agg['std'].loc[index2]\n",
    "                        mean_and_std_agg['mean'].loc[index1] = (mean1 * count1 + mean2*count2)/(count1 + count2)\n",
    "                        mean_and_std_agg['std'].loc[index1] = math.sqrt((math.pow(std1,2) * count1 + math.pow(std2,2)*count2)/(count1 + count2))\n",
    "                        mean_and_std_agg['count'].loc[index1] = count1 + count2\n",
    "                        mean_and_std_agg = mean_and_std_agg.drop(index2, axis = 0)\n",
    "                        removed_rows.append(index2)\n",
    "            \n",
    "print(mean_and_std_agg)"
   ]
  },
  {
   "cell_type": "code",
   "execution_count": 38,
   "id": "74568510",
   "metadata": {},
   "outputs": [
    {
     "name": "stdout",
     "output_type": "stream",
     "text": [
      "  AgentName AgentNameOpponent  GARDENS_R0_avg  WITCH_R0_avg  CURSE_R0_avg  \\\n",
      "0      BMWG              BMWG             0.0           0.0           0.0   \n",
      "1      BMWG                DW             0.0           0.0           0.0   \n",
      "2        DW              BMWG             0.0           0.0           0.0   \n",
      "3        DW                DW             0.0           0.0           0.0   \n",
      "\n",
      "   PROVINCE_R0_avg  DUCHY_R0_avg  ESTATE_R0_avg  GOLD_R0_avg  SILVER_R0_avg  \\\n",
      "0              0.0           0.0            3.0          0.0            1.0   \n",
      "1              0.0           0.0            3.0          0.0            1.0   \n",
      "2              0.0           0.0            3.0          0.0            1.0   \n",
      "3              0.0           0.0            3.0          0.0            1.0   \n",
      "\n",
      "   ...  GARDENS_R30_avg  WITCH_R30_avg  CURSE_R30_avg  PROVINCE_R30_avg  \\\n",
      "0  ...              1.0            0.0            0.0               4.0   \n",
      "1  ...              3.0            0.0            7.0               2.0   \n",
      "2  ...              0.0            2.0            0.0               5.0   \n",
      "3  ...              0.0            2.0            5.0               4.0   \n",
      "\n",
      "   DUCHY_R30_avg  ESTATE_R30_avg  GOLD_R30_avg  SILVER_R30_avg  \\\n",
      "0            0.0             3.0           9.0             6.0   \n",
      "1            0.0             3.0           8.0             7.0   \n",
      "2            2.0             3.0           5.0             7.0   \n",
      "3            2.0             4.0           4.0             9.0   \n",
      "\n",
      "   COPPER_R30_avg  Opponent_avg  \n",
      "0             7.0           0.0  \n",
      "1             7.0           0.0  \n",
      "2             7.0           0.0  \n",
      "3             7.0           0.0  \n",
      "\n",
      "[4 rows x 282 columns]\n"
     ]
    },
    {
     "name": "stderr",
     "output_type": "stream",
     "text": [
      "/var/folders/60/sk8yhxb56ld6twrcnr2njl3h0000gn/T/ipykernel_94040/2224071149.py:7: FutureWarning: Dropping of nuisance columns in DataFrame reductions (with 'numeric_only=None') is deprecated; in a future version this will raise TypeError.  Select only valid columns before calling the reduction.\n",
      "  average_traces = flat_trace_tmp.groupby(['AgentName','AgentNameOpponent']).apply(lambda row: round(row.mean())).reset_index()\n"
     ]
    }
   ],
   "source": [
    "#next we compute the average traces for each combination of players and opponents, this \n",
    "#allows us to compare to the centroids computed by k-means clustering (note this is only \n",
    "#useful when we know what strategies are being employed by our AI agents or players, and \n",
    "#is used to sense check K-means in our base case scenarios)\n",
    "\n",
    "flat_trace_tmp = extended_traces_flat.drop(['Player', 'GameID'], axis = 1)\n",
    "average_traces = flat_trace_tmp.groupby(['AgentName','AgentNameOpponent']).apply(lambda row: round(row.mean())).reset_index()\n",
    "new_col_names = {old_col: old_col + '_avg' for old_col in average_traces.columns[2:]}\n",
    "average_traces.rename(columns = new_col_names, inplace = True)\n",
    "print(average_traces)"
   ]
  },
  {
   "cell_type": "code",
   "execution_count": null,
   "id": "0829250b",
   "metadata": {},
   "outputs": [],
   "source": [
    "#next calculate the distance between every play trace and the average traces\n",
    "dist_to_averages = {}\n",
    "for player in ['BigMoneyWithGardens','DoubleWitch']:\n",
    "    avg_trace = average_traces[average_traces['AverageTraceForStrategy'] == player].drop('AverageTraceForStrategy', axis = 1)\n",
    "    avg_trace = pd.concat([avg_trace]*len(extended_traces_flat), ignore_index = True)\n",
    "    avg_trace.reset_index()\n",
    "    extended_traces_flat.reset_index()\n",
    "    trace_pairs_to_avg = pd.concat([extended_traces_flat, avg_trace], axis = 1)\n",
    "\n",
    "    #now we can compute the distance\n",
    "    trace_pairs_to_avg['dist'] = trace_pairs_to_avg.apply(lambda row: dist_measure(row, card_types_BigMoneyWithGardens_vs_DoubleWitch,\n",
    "                                                                                        maxNoOfRounds, \"\", \"_avg\"), axis = 1)\n",
    "    #calculate averages and standard deviations\n",
    "    trace_pairs_to_avg = trace_pairs_to_avg[['PlayerName','dist']]\n",
    "    averages = trace_pairs_to_avg.groupby('PlayerName').mean()\n",
    "    stds = trace_pairs_to_avg.groupby('PlayerName').std()\n",
    "    \n",
    "    print(\"Results when average trace is from \" + player + \":\")\n",
    "    print(averages)\n",
    "    print(stds)\n",
    "    \n",
    "    dist_to_averages[player] = trace_pairs_to_avg"
   ]
  },
  {
   "cell_type": "code",
   "execution_count": null,
   "id": "ef17ee93",
   "metadata": {},
   "outputs": [],
   "source": [
    "#plot distances to average traces along the real line and colour coded\n",
    "dists_BMWG_AvgBMWG = dist_to_averages['BigMoneyWithGardens'][dist_to_averages['BigMoneyWithGardens']['PlayerName'] == 'BigMoneyWithGardens']\n",
    "dists_DW_AvgBMWG = dist_to_averages['BigMoneyWithGardens'][dist_to_averages['BigMoneyWithGardens']['PlayerName'] == 'DoubleWitch']\n",
    "dists_BMWG_AvgDW = dist_to_averages['DoubleWitch'][dist_to_averages['BigMoneyWithGardens']['PlayerName'] == 'BigMoneyWithGardens']\n",
    "dists_DW_AvgDW = dist_to_averages['DoubleWitch'][dist_to_averages['BigMoneyWithGardens']['PlayerName'] == 'DoubleWitch']\n",
    "plt.scatter(dists_BMWG_AvgBMWG['dist'], [0] * dists_BMWG_AvgBMWG.shape[0], s = 2, label = 'BMWG - Avg. BMWG')\n",
    "plt.scatter(dists_DW_AvgBMWG['dist'], [0.01] * dists_DW_AvgBMWG.shape[0], s = 2, label = 'DW - Avg. BMWG')\n",
    "plt.scatter(dists_BMWG_AvgDW['dist'], [0.02] * dists_BMWG_AvgDW.shape[0], s = 2, label = 'BMWG - Avg. DW')\n",
    "plt.scatter(dists_DW_AvgDW['dist'], [0.03] * dists_DW_AvgDW.shape[0], s = 2, label = 'DW - Avg. DW')\n",
    "plt.yticks([])\n",
    "plt.xlabel('Pairwise distances')\n",
    "plt.legend(loc = (1.1,0.77))"
   ]
  },
  {
   "cell_type": "code",
   "execution_count": null,
   "id": "6bc84362",
   "metadata": {},
   "outputs": [],
   "source": [
    "#next we want to apply k-means clustering with (euclidean distance measure) on our set of traces to see if we can \n",
    "#identify BM and DW strategies without apriori knowledge of their existence. \n",
    "trace_X = extended_traces_flat.drop(['PlayerName','Player','GameID'], axis = 1)\n",
    "kmeans = KMeans(n_clusters=2, init='k-means++', n_init= 'warn', max_iter=300, tol=0.0001, verbose=0, random_state=None, copy_x=True, algorithm='lloyd').fit(trace_X)"
   ]
  },
  {
   "cell_type": "code",
   "execution_count": null,
   "id": "4d129d09",
   "metadata": {},
   "outputs": [],
   "source": [
    "#add kmeans cluster classifications of traces to dataframe and see how that aligns with AI agent strategies\n",
    "extended_traces_flat['ClusterID'] = kmeans.labels_\n",
    "strat_vs_clusterid = extended_traces_flat[['PlayerName','ClusterID']].drop_duplicates()\n",
    "print(strat_vs_clusterid)"
   ]
  },
  {
   "cell_type": "code",
   "execution_count": null,
   "id": "5798580d",
   "metadata": {},
   "outputs": [],
   "source": [
    "#look at how the cluster centers compare to our average traces\n",
    "df_cluster_centres = pd.DataFrame(kmeans.cluster_centers_)\n",
    "cols = [card_types_BigMoneyWithGardens_vs_DoubleWitch[i] + \"_R\" + str(r) for r in range(0, maxNoOfRounds) \n",
    "        for i in range(0, len(card_types_BigMoneyWithGardens_vs_DoubleWitch))]\n",
    "df_cluster_centres.columns = cols\n",
    "#round entires to nearest integer (inline with how we define our average traces)\n",
    "df_cluster_centres = df_cluster_centres.round(0)\n",
    "print(df_cluster_centres)"
   ]
  },
  {
   "cell_type": "code",
   "execution_count": null,
   "id": "2c26ea40",
   "metadata": {},
   "outputs": [],
   "source": [
    "def deck_evol_comparison(trace1, trace2, tag1, tag2, cardTypes, maxRounds):\n",
    "    #look at evolution of number of cards of each type per round\n",
    "    noCardTypes = len(cardTypes)\n",
    "    noOfSubplotsInXDirection = 3\n",
    "    noOfSubplotsInYDirection = 3\n",
    "    fig, axs = plt.subplots(noOfSubplotsInXDirection, noOfSubplotsInYDirection)\n",
    "    for i in range(0,3):\n",
    "        for j in range(0,3):\n",
    "            cardIndex = 3*j + i\n",
    "            cardType = cardTypes[cardIndex]\n",
    "            card_col_1 = [cardType + \"_R\" + str(r) + tag1 for r in range(0,maxRounds)]\n",
    "            card_col_2 = [cardType + \"_R\" + str(r) + tag2 for r in range(0,maxRounds)]\n",
    "            axs[i,j].plot(range(0,maxRounds), trace1[card_col_1].iloc[0], label = 'Trace_1')\n",
    "            axs[i,j].plot(range(0,maxRounds), trace2[card_col_2].iloc[0], label = 'Trace_2')\n",
    "            axs[i,j].set_title(cardType)\n",
    "            axs[i,j].set_xlabel('Round')\n",
    "            fig.tight_layout() "
   ]
  },
  {
   "cell_type": "code",
   "execution_count": null,
   "id": "74edf9c1",
   "metadata": {},
   "outputs": [],
   "source": [
    "#compare centre with ClusterID zero which I am assuming corresponds to first row in outputted cluster centres\n",
    "#with double witch average trace\n",
    "cluster0centre = pd.DataFrame(df_cluster_centres.iloc[0]).transpose()\n",
    "DW_avg_trace = average_traces[average_traces['AverageTraceForStrategy'] == 'DoubleWitch'].drop('AverageTraceForStrategy', axis =1)\n",
    "\n",
    "deck_evol_comparison(cluster0centre, DW_avg_trace, \"\", \"_avg\", card_types_BigMoneyWithGardens_vs_DoubleWitch\n",
    "                    ,maxNoOfRounds)"
   ]
  },
  {
   "cell_type": "code",
   "execution_count": null,
   "id": "b80974f8",
   "metadata": {},
   "outputs": [],
   "source": [
    "#compare centre with ClusterID one which I am assuming corresponds to the second row in outputted cluster centres\n",
    "#with BM average trace\n",
    "cluster1centre = pd.DataFrame(df_cluster_centres.iloc[1]).transpose()\n",
    "BMWG_avg_trace = average_traces[average_traces['AverageTraceForStrategy'] == 'BigMoneyWithGardens'].drop('AverageTraceForStrategy', axis =1)\n",
    "\n",
    "deck_evol_comparison(cluster1centre, BMWG_avg_trace, \"\", \"_avg\", card_types_BigMoneyWithGardens_vs_DoubleWitch\n",
    "                    ,maxNoOfRounds)"
   ]
  },
  {
   "cell_type": "code",
   "execution_count": null,
   "id": "07586343",
   "metadata": {},
   "outputs": [],
   "source": [
    "#TODO:code not updated below this point"
   ]
  },
  {
   "cell_type": "code",
   "execution_count": null,
   "id": "0772a516",
   "metadata": {},
   "outputs": [],
   "source": [
    "#compute again our pairwise traces but this time also breakdown by opponent type\n",
    "#pairTraceDistsGranular = sym_trace_combos[['GameID_1','GameID_2','PlayerName_1', 'OpponentName_1', 'PlayerName_2', 'OpponentName_2','dist']]\n",
    "#pairTraceDistsGranular = sym_trace_combos.groupby(['GameID_1','GameID_2','PlayerName_1', 'OpponentName_1', 'PlayerName_2', 'OpponentName_2'])['dist'].sum()\n",
    "#df_pairTraceDistsGranular = pairTraceDistsGranular.reset_index()\n",
    "#print(df_pairTraceDistsGranular)"
   ]
  },
  {
   "cell_type": "code",
   "execution_count": null,
   "id": "c5c58ad4",
   "metadata": {},
   "outputs": [],
   "source": [
    "#esults_means = pairTraceDistsGranular.groupby(['PlayerName_1', 'OpponentName_1', 'PlayerName_2', 'OpponentName_2']).mean()\n",
    "#print(results_means)\n",
    "#results_std = pairTraceDistsGranular.groupby(['PlayerName_1', 'OpponentName_1', 'PlayerName_2', 'OpponentName_2']).std()\n",
    "#print(results_std)"
   ]
  },
  {
   "cell_type": "code",
   "execution_count": null,
   "id": "d74bcfd9",
   "metadata": {},
   "outputs": [],
   "source": [
    "#what is happening with the large distance value for BM vs BM? i.e. why the large amount of variance?\n",
    "#look at piarwise traces for smallest and largest distance values\n",
    "#BMBM_data = df_pairwiseTraceDistances[(df_pairwiseTraceDistances['PlayerName_1'] == 'BigMoneyWithGardens') &\n",
    "#                                        (df_pairwiseTraceDistances['PlayerName_2'] == 'BigMoneyWithGardens')]\n",
    "\n",
    "#smallest_pairwise = BMBM_data.loc[BMBM_data['dist'].idxmin()]\n",
    "#largest_pairwise = BMBM_data.loc[BMBM_data['dist'].idxmax()]\n",
    "#print(smallest_pairwise)\n",
    "#print(largest_pairwise)"
   ]
  },
  {
   "cell_type": "code",
   "execution_count": null,
   "id": "e8884b41",
   "metadata": {},
   "outputs": [],
   "source": [
    "#def deck_evol_comparison(pairwise_deck_evols, cardTypes):\n",
    "#    #look at evolution of number of cards of each type per round\n",
    "#    noCardTypes = len(cardTypes)\n",
    "#    noOfSubplotsInXDirection = 3\n",
    "#    noOfSubplotsInYDirection = 3\n",
    "#    fig, axs = plt.subplots(noOfSubplotsInXDirection, noOfSubplotsInYDirection)\n",
    "#    for i in range(0,3):\n",
    "#        for j in range(0,3):\n",
    "#            cardIndex = 3*j + i\n",
    "#            cardType = cardTypes[cardIndex]\n",
    "#            card_col_1 = cardType + \"_1\"\n",
    "#            card_col_2 = cardType + \"_2\"\n",
    "#            axs[i,j].plot(pairwise_deck_evols['Round'], pairwise_deck_evols[card_col_1], label = 'Player_1')\n",
    "#            axs[i,j].plot(pairwise_deck_evols['Round'], pairwise_deck_evols[card_col_2], label = 'Player_2')\n",
    "#            axs[i,j].set_title(cardType)\n",
    "#            axs[i,j].set_xlabel('Round')\n",
    "#            fig.tight_layout() "
   ]
  },
  {
   "cell_type": "code",
   "execution_count": null,
   "id": "9974f113",
   "metadata": {},
   "outputs": [],
   "source": [
    "#need to look at deck evolutions for each of these cases\n",
    "#largest_pairwise_decks =  sym_trace_combos[(sym_trace_combos['GameID_1'] == largest_pairwise['GameID_1']) \n",
    "#                                           & (sym_trace_combos['GameID_2'] == largest_pairwise['GameID_2']) \n",
    "#                                           & (sym_trace_combos['PlayerName_1'] == largest_pairwise['PlayerName_1']) \n",
    "#                                           & (sym_trace_combos['PlayerName_2'] == largest_pairwise['PlayerName_2'])]\n",
    "#smallest_pairwise_decks =  sym_trace_combos[(sym_trace_combos['GameID_1'] == smallest_pairwise['GameID_1']) \n",
    "#                                           & (sym_trace_combos['GameID_2'] == smallest_pairwise['GameID_2']) \n",
    "#                                           & (sym_trace_combos['PlayerName_1'] == smallest_pairwise['PlayerName_1']) \n",
    "#                                           & (sym_trace_combos['PlayerName_2'] == smallest_pairwise['PlayerName_2'])]\n",
    "#print(largest_pairwise_decks['dist'].sum())\n",
    "#print(smallest_pairwise_decks['dist'].sum())"
   ]
  }
 ],
 "metadata": {
  "kernelspec": {
   "display_name": "Python 3 (ipykernel)",
   "language": "python",
   "name": "python3"
  },
  "language_info": {
   "codemirror_mode": {
    "name": "ipython",
    "version": 3
   },
   "file_extension": ".py",
   "mimetype": "text/x-python",
   "name": "python",
   "nbconvert_exporter": "python",
   "pygments_lexer": "ipython3",
   "version": "3.9.12"
  }
 },
 "nbformat": 4,
 "nbformat_minor": 5
}
