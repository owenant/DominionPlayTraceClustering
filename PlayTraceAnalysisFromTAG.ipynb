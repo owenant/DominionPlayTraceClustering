{
 "cells": [
  {
   "cell_type": "code",
   "execution_count": 1,
   "id": "ff6d7f22",
   "metadata": {},
   "outputs": [],
   "source": [
    "#assumptions that will break if we use MCTS for play traces in this code\n",
    "#1. Turn wont be either 0 or 1\n",
    "#2. Cant just copy the final two rows to extend round number to maxNoOfRounds\n",
    "\n",
    "#comments: So play traces for a given strategy will change dependent on the opponent's strategy, e.g. evolution of \n",
    "#bigmoney deck is different if it is played vs another bigmoney startegy as opposed to say a witch strategy which will \n",
    "#introduce curse cards into the bigmoney trace"
   ]
  },
  {
   "cell_type": "code",
   "execution_count": 46,
   "id": "203d1a10",
   "metadata": {},
   "outputs": [],
   "source": [
    "import pandas as pd\n",
    "import pdb\n",
    "import math\n",
    "import matplotlib.pyplot as plt\n",
    "from sklearn.manifold import MDS \n",
    "import itertools\n",
    "pd.set_option('display.max_rows', 100)\n",
    "noPlayers = 2"
   ]
  },
  {
   "cell_type": "code",
   "execution_count": 3,
   "id": "f6a2cc71",
   "metadata": {},
   "outputs": [],
   "source": [
    "data  = pd.read_csv(\"data/featureslogfile.txt\", sep = '\\t')"
   ]
  },
  {
   "cell_type": "code",
   "execution_count": 4,
   "id": "5d7d052a",
   "metadata": {},
   "outputs": [
    {
     "name": "stdout",
     "output_type": "stream",
     "text": [
      "Index(['GameID', 'Player', 'Round', 'Turn', 'CurrentScore', 'SCORE',\n",
      "       'SCORE_ADV', 'ORDINAL', 'OUR_TURN', 'HAS_WON', 'FINAL_ORD', 'ROUND',\n",
      "       'CURSE', 'ESTATE', 'DUCHY', 'PROVINCE', 'COPPER', 'SILVER', 'GOLD',\n",
      "       'CELLAR', 'CHAPEL', 'MOAT', 'HARBINGER', 'MERCHANT', 'VASSAL',\n",
      "       'VILLAGE', 'WORKSHOP', 'BUREAUCRAT', 'GARDENS', 'MILITIA',\n",
      "       'MONEYLENDER', 'POACHER', 'REMODEL', 'SMITHY', 'THRONE_ROOM', 'BANDIT',\n",
      "       'COUNCIL_ROOM', 'FESTIVAL', 'LABORATORY', 'LIBRARY', 'MARKET', 'MINE',\n",
      "       'SENTRY', 'WITCH', 'ARTISAN', 'PlayerCount', 'TotalRounds',\n",
      "       'ActionScore', 'Win', 'Ordinal', 'FinalScore'],\n",
      "      dtype='object')\n"
     ]
    }
   ],
   "source": [
    "print(data.columns)"
   ]
  },
  {
   "cell_type": "code",
   "execution_count": 5,
   "id": "9c2113b1",
   "metadata": {},
   "outputs": [
    {
     "name": "stdout",
     "output_type": "stream",
     "text": [
      "[ 2.  3.  4.  5.  6.  7.  8.  9. 10. 11. 12. 13. 14. 15. 16. 17. 18. 19.\n",
      " 20. 21. 22. 23. 24. 25. 26. 27. 28. 29. 30. 31. 32. 33. 34. 35. 36. 37.\n",
      " 38. 39. 40. 41. 42. 43. 44. 45. 46. 47. 48. 49. 50. 51.]\n"
     ]
    }
   ],
   "source": [
    "#check number of games\n",
    "print(data['GameID'].unique())"
   ]
  },
  {
   "cell_type": "code",
   "execution_count": 6,
   "id": "4c7d5352",
   "metadata": {},
   "outputs": [],
   "source": [
    "#note that Player field swaps round half way through the tournament when there are two players. Also the GameID starts\n",
    "#at 2 for some reason\n",
    "noGamesPerMatchUp = 25\n",
    "def assignName(gameID, player, noGamesPerMatchUp):\n",
    "    name = \"\"\n",
    "    if gameID < (noGamesPerMatchUp + 2):\n",
    "        if player == 0:\n",
    "            name = 'BigMoneyWithGardens'\n",
    "        else:\n",
    "            name = 'DoubleWitch'\n",
    "    else:\n",
    "        if player == 1:\n",
    "            name = 'BigMoneyWithGardens'\n",
    "        else:\n",
    "            name = 'DoubleWitch'\n",
    "    return name"
   ]
  },
  {
   "cell_type": "code",
   "execution_count": 7,
   "id": "464622c2",
   "metadata": {},
   "outputs": [],
   "source": [
    "#add label for player types\n",
    "data['PlayerName'] = data.apply(lambda df: assignName(df['GameID'], df['Player'], noGamesPerMatchUp), axis = 1)"
   ]
  },
  {
   "cell_type": "code",
   "execution_count": 8,
   "id": "fdf0e209",
   "metadata": {},
   "outputs": [
    {
     "name": "stdout",
     "output_type": "stream",
     "text": [
      "[ 2.  3.  4.  5.  6.  7.  8.  9. 10. 11. 12. 13. 14. 15. 16. 17. 18. 19.\n",
      " 20. 21. 22. 23. 24. 25. 26. 27. 28. 29. 30. 31. 32. 33. 34. 35. 36. 37.\n",
      " 38. 39. 40. 41. 42. 43. 44. 45. 46. 47. 48. 49. 50. 51.]\n"
     ]
    }
   ],
   "source": [
    "print(data['GameID'].unique())"
   ]
  },
  {
   "cell_type": "code",
   "execution_count": 9,
   "id": "3eb0a198",
   "metadata": {},
   "outputs": [
    {
     "name": "stdout",
     "output_type": "stream",
     "text": [
      "[0. 1.]\n",
      "[1.]\n"
     ]
    }
   ],
   "source": [
    "#we can only record events each turn so we need to use the final turn in each round for each player to determine their\n",
    "#deck at the end of the round\n",
    "print(data['Turn'].unique())\n",
    "data = data[data['Turn'] == 1]\n",
    "print(data['Turn'].unique())"
   ]
  },
  {
   "cell_type": "code",
   "execution_count": 10,
   "id": "d2741035",
   "metadata": {},
   "outputs": [],
   "source": [
    "#extract columns of interest \n",
    "card_types_in_supply = ['ARTISAN', 'BANDIT', 'BUREAUCRAT', 'CHAPEL', 'FESTIVAL', 'GARDENS', 'SENTRY',\n",
    "                        'THRONE ROOM', 'WITCH', 'CURSE','WORKSHOP','PROVINCE', 'DUCHY', 'ESTATE', 'GOLD', 'SILVER', 'COPPER']\n",
    "card_types_BigMoneyWithGardens_vs_DoubleWitch = ['GARDENS', 'WITCH', 'CURSE', 'PROVINCE', 'DUCHY', 'ESTATE', 'GOLD', 'SILVER', 'COPPER']"
   ]
  },
  {
   "cell_type": "code",
   "execution_count": 11,
   "id": "ad8bd154",
   "metadata": {},
   "outputs": [],
   "source": [
    "#define columns of interest\n",
    "cols = ['PlayerName', 'GameID', 'Round', 'CurrentScore']\n",
    "cols = cols + card_types_BigMoneyWithGardens_vs_DoubleWitch"
   ]
  },
  {
   "cell_type": "code",
   "execution_count": 12,
   "id": "cb59c5fa",
   "metadata": {},
   "outputs": [
    {
     "name": "stdout",
     "output_type": "stream",
     "text": [
      "               PlayerName  GameID  Round  CurrentScore  GARDENS  WITCH  CURSE  \\\n",
      "2     BigMoneyWithGardens     2.0    0.0           3.0      0.0    0.0    0.0   \n",
      "6     BigMoneyWithGardens     2.0    1.0           3.0      0.0    0.0    0.0   \n",
      "10    BigMoneyWithGardens     2.0    2.0           3.0      0.0    0.0    0.0   \n",
      "14    BigMoneyWithGardens     2.0    3.0           3.0      0.0    0.0    0.0   \n",
      "18    BigMoneyWithGardens     2.0    4.0           3.0      0.0    0.0    0.0   \n",
      "...                   ...     ...    ...           ...      ...    ...    ...   \n",
      "4337  BigMoneyWithGardens    51.0   14.0          -1.0      0.0    0.0    4.0   \n",
      "4341  BigMoneyWithGardens    51.0   15.0          -1.0      0.0    0.0    4.0   \n",
      "4345  BigMoneyWithGardens    51.0   16.0           4.0      0.0    0.0    5.0   \n",
      "4349  BigMoneyWithGardens    51.0   17.0          10.0      0.0    0.0    5.0   \n",
      "4353  BigMoneyWithGardens    51.0   18.0          15.0      0.0    0.0    6.0   \n",
      "\n",
      "      PROVINCE  DUCHY  ESTATE  GOLD  SILVER  COPPER  \n",
      "2          0.0    0.0     3.0   0.0     1.0     7.0  \n",
      "6          0.0    0.0     3.0   0.0     2.0     7.0  \n",
      "10         0.0    0.0     3.0   0.0     3.0     7.0  \n",
      "14         0.0    0.0     3.0   0.0     4.0     7.0  \n",
      "18         0.0    0.0     3.0   0.0     5.0     7.0  \n",
      "...        ...    ...     ...   ...     ...     ...  \n",
      "4337       0.0    0.0     3.0   8.0     7.0     7.0  \n",
      "4341       0.0    0.0     3.0   8.0     8.0     7.0  \n",
      "4345       1.0    0.0     3.0   8.0     8.0     7.0  \n",
      "4349       2.0    0.0     3.0   8.0     8.0     7.0  \n",
      "4353       3.0    0.0     3.0   8.0     8.0     7.0  \n",
      "\n",
      "[1075 rows x 13 columns]\n"
     ]
    }
   ],
   "source": [
    "#extract all BigMoneyWithGardens play-traces\n",
    "Traces_BigMoneyWithGardens = data[data['PlayerName'] == 'BigMoneyWithGardens'].loc[:, cols]\n",
    "print(Traces_BigMoneyWithGardens)"
   ]
  },
  {
   "cell_type": "code",
   "execution_count": 13,
   "id": "9b8ffe8f",
   "metadata": {},
   "outputs": [
    {
     "name": "stdout",
     "output_type": "stream",
     "text": [
      "[0.]\n",
      "[ 2.  3.  4.  5.  6.  7.  8.  9. 10. 11. 12. 13. 14. 15. 16. 17. 18. 19.\n",
      " 20. 21. 22. 23. 24. 25. 26. 27. 28. 29. 30. 31. 32. 33. 34. 35. 36. 37.\n",
      " 38. 39. 40. 41. 42. 43. 44. 45. 46. 47. 48. 49. 50. 51.]\n"
     ]
    }
   ],
   "source": [
    "#some sense checks\n",
    "print(Traces_BigMoneyWithGardens['WITCH'].unique())\n",
    "print(Traces_BigMoneyWithGardens['GameID'].unique())"
   ]
  },
  {
   "cell_type": "code",
   "execution_count": 14,
   "id": "724fc25a",
   "metadata": {},
   "outputs": [
    {
     "name": "stdout",
     "output_type": "stream",
     "text": [
      "       PlayerName  GameID  Round  CurrentScore  GARDENS  WITCH  CURSE  \\\n",
      "3     DoubleWitch     2.0    0.0           3.0      0.0    0.0    0.0   \n",
      "7     DoubleWitch     2.0    1.0           3.0      0.0    0.0    0.0   \n",
      "11    DoubleWitch     2.0    2.0           3.0      0.0    1.0    0.0   \n",
      "15    DoubleWitch     2.0    3.0           3.0      0.0    2.0    0.0   \n",
      "19    DoubleWitch     2.0    4.0           3.0      0.0    2.0    0.0   \n",
      "...           ...     ...    ...           ...      ...    ...    ...   \n",
      "4336  DoubleWitch    51.0   14.0          15.0      0.0    2.0    0.0   \n",
      "4340  DoubleWitch    51.0   15.0          15.0      0.0    2.0    0.0   \n",
      "4344  DoubleWitch    51.0   16.0          21.0      0.0    2.0    0.0   \n",
      "4348  DoubleWitch    51.0   17.0          21.0      0.0    2.0    0.0   \n",
      "4352  DoubleWitch    51.0   18.0          27.0      0.0    2.0    0.0   \n",
      "\n",
      "      PROVINCE  DUCHY  ESTATE  GOLD  SILVER  COPPER  \n",
      "3          0.0    0.0     3.0   0.0     1.0     7.0  \n",
      "7          0.0    0.0     3.0   0.0     2.0     7.0  \n",
      "11         0.0    0.0     3.0   0.0     2.0     7.0  \n",
      "15         0.0    0.0     3.0   0.0     2.0     7.0  \n",
      "19         0.0    0.0     3.0   0.0     2.0     7.0  \n",
      "...        ...    ...     ...   ...     ...     ...  \n",
      "4336       2.0    0.0     3.0   4.0     7.0     7.0  \n",
      "4340       2.0    0.0     3.0   5.0     7.0     7.0  \n",
      "4344       3.0    0.0     3.0   5.0     7.0     7.0  \n",
      "4348       3.0    0.0     3.0   6.0     7.0     7.0  \n",
      "4352       4.0    0.0     3.0   6.0     7.0     7.0  \n",
      "\n",
      "[1075 rows x 13 columns]\n"
     ]
    }
   ],
   "source": [
    "#extract all DoubleWitch play-traces\n",
    "Traces_DoubleWitch = data[data['PlayerName'] == 'DoubleWitch'].loc[:, cols]\n",
    "print(Traces_DoubleWitch)"
   ]
  },
  {
   "cell_type": "code",
   "execution_count": 15,
   "id": "d371c54f",
   "metadata": {},
   "outputs": [
    {
     "name": "stdout",
     "output_type": "stream",
     "text": [
      "               PlayerName  GameID  Round  CurrentScore  GARDENS  WITCH  CURSE  \\\n",
      "2     BigMoneyWithGardens     2.0    0.0           3.0      0.0    0.0    0.0   \n",
      "3             DoubleWitch     2.0    0.0           3.0      0.0    0.0    0.0   \n",
      "6     BigMoneyWithGardens     2.0    1.0           3.0      0.0    0.0    0.0   \n",
      "7             DoubleWitch     2.0    1.0           3.0      0.0    0.0    0.0   \n",
      "10    BigMoneyWithGardens     2.0    2.0           3.0      0.0    0.0    0.0   \n",
      "...                   ...     ...    ...           ...      ...    ...    ...   \n",
      "4345  BigMoneyWithGardens    51.0   16.0           4.0      0.0    0.0    5.0   \n",
      "4348          DoubleWitch    51.0   17.0          21.0      0.0    2.0    0.0   \n",
      "4349  BigMoneyWithGardens    51.0   17.0          10.0      0.0    0.0    5.0   \n",
      "4352          DoubleWitch    51.0   18.0          27.0      0.0    2.0    0.0   \n",
      "4353  BigMoneyWithGardens    51.0   18.0          15.0      0.0    0.0    6.0   \n",
      "\n",
      "      PROVINCE  DUCHY  ESTATE  GOLD  SILVER  COPPER  \n",
      "2          0.0    0.0     3.0   0.0     1.0     7.0  \n",
      "3          0.0    0.0     3.0   0.0     1.0     7.0  \n",
      "6          0.0    0.0     3.0   0.0     2.0     7.0  \n",
      "7          0.0    0.0     3.0   0.0     2.0     7.0  \n",
      "10         0.0    0.0     3.0   0.0     3.0     7.0  \n",
      "...        ...    ...     ...   ...     ...     ...  \n",
      "4345       1.0    0.0     3.0   8.0     8.0     7.0  \n",
      "4348       3.0    0.0     3.0   6.0     7.0     7.0  \n",
      "4349       2.0    0.0     3.0   8.0     8.0     7.0  \n",
      "4352       4.0    0.0     3.0   6.0     7.0     7.0  \n",
      "4353       3.0    0.0     3.0   8.0     8.0     7.0  \n",
      "\n",
      "[2150 rows x 13 columns]\n"
     ]
    }
   ],
   "source": [
    "#all play taces in a single data frame\n",
    "traces = data.loc[:, cols]\n",
    "print(traces)"
   ]
  },
  {
   "cell_type": "code",
   "execution_count": 16,
   "id": "a231b1a8",
   "metadata": {},
   "outputs": [
    {
     "name": "stdout",
     "output_type": "stream",
     "text": [
      "25\n"
     ]
    }
   ],
   "source": [
    "#we need to make sure all games have the same number of rounds in them\n",
    "gameLengths = traces.groupby(['GameID'])['Round'].max()\n",
    "maxNoOfRounds = int(gameLengths.max()) + 1 #round counter starts at zero\n",
    "print(maxNoOfRounds)"
   ]
  },
  {
   "cell_type": "code",
   "execution_count": 17,
   "id": "deb04024",
   "metadata": {},
   "outputs": [],
   "source": [
    "def copy_final_deck_at_game_end(group, roundMax, noPlayers):\n",
    "    #This function repeatedly copies the final decks of two players at the game end, so that the game is extended to \n",
    "    #have roundMax rounds\n",
    "    final_round = int(group['Round'].max())\n",
    "    if (roundMax-1) == final_round:\n",
    "        #in this case we dont need to extend the play trace\n",
    "        return group\n",
    "    else:\n",
    "        final_row_copy = pd.concat([group.iloc[-noPlayers:]] * ((roundMax-1) - final_round), ignore_index=True)\n",
    "        #we need to update the Round counter so that every other row it increments by one\n",
    "        final_row_copy['Round'] = [final_round + 1 + i // 2 for i in range(((roundMax-1) - final_round)*2)]\n",
    "        return pd.concat([group, final_row_copy], ignore_index=True)"
   ]
  },
  {
   "cell_type": "code",
   "execution_count": 18,
   "id": "dccf006f",
   "metadata": {},
   "outputs": [
    {
     "name": "stdout",
     "output_type": "stream",
     "text": [
      "               PlayerName  GameID  Round  CurrentScore  GARDENS  WITCH  CURSE  \\\n",
      "0     BigMoneyWithGardens     2.0    0.0           3.0      0.0    0.0    0.0   \n",
      "1             DoubleWitch     2.0    0.0           3.0      0.0    0.0    0.0   \n",
      "2     BigMoneyWithGardens     2.0    1.0           3.0      0.0    0.0    0.0   \n",
      "3             DoubleWitch     2.0    1.0           3.0      0.0    0.0    0.0   \n",
      "4     BigMoneyWithGardens     2.0    2.0           3.0      0.0    0.0    0.0   \n",
      "...                   ...     ...    ...           ...      ...    ...    ...   \n",
      "2495  BigMoneyWithGardens    51.0   22.0          15.0      0.0    0.0    6.0   \n",
      "2496          DoubleWitch    51.0   23.0          27.0      0.0    2.0    0.0   \n",
      "2497  BigMoneyWithGardens    51.0   23.0          15.0      0.0    0.0    6.0   \n",
      "2498          DoubleWitch    51.0   24.0          27.0      0.0    2.0    0.0   \n",
      "2499  BigMoneyWithGardens    51.0   24.0          15.0      0.0    0.0    6.0   \n",
      "\n",
      "      PROVINCE  DUCHY  ESTATE  GOLD  SILVER  COPPER  \n",
      "0          0.0    0.0     3.0   0.0     1.0     7.0  \n",
      "1          0.0    0.0     3.0   0.0     1.0     7.0  \n",
      "2          0.0    0.0     3.0   0.0     2.0     7.0  \n",
      "3          0.0    0.0     3.0   0.0     2.0     7.0  \n",
      "4          0.0    0.0     3.0   0.0     3.0     7.0  \n",
      "...        ...    ...     ...   ...     ...     ...  \n",
      "2495       3.0    0.0     3.0   8.0     8.0     7.0  \n",
      "2496       4.0    0.0     3.0   6.0     7.0     7.0  \n",
      "2497       3.0    0.0     3.0   8.0     8.0     7.0  \n",
      "2498       4.0    0.0     3.0   6.0     7.0     7.0  \n",
      "2499       3.0    0.0     3.0   8.0     8.0     7.0  \n",
      "\n",
      "[2500 rows x 13 columns]\n"
     ]
    }
   ],
   "source": [
    "extended_traces = traces.groupby('GameID').apply(copy_final_deck_at_game_end, maxNoOfRounds, noPlayers = 2).reset_index(drop = True)\n",
    "print(extended_traces)"
   ]
  },
  {
   "cell_type": "code",
   "execution_count": 19,
   "id": "bb3be1bf",
   "metadata": {},
   "outputs": [
    {
     "name": "stdout",
     "output_type": "stream",
     "text": [
      "4950\n"
     ]
    }
   ],
   "source": [
    "noOfGames = extended_traces['GameID'].unique().size\n",
    "noOfOffDiagGameCombos = int(noOfGames *(noOfGames -1)/2.0) #for each off diag set of games there are 4 combinations of\n",
    "#player strategies (e.g. for games 2 and 3, we can compare bigmoney vs bigmoney, bigmoney vs singlewitch etc)\n",
    "#for 'diagonal' set of games there is just the one trace comparison available\n",
    "noOfPairWiseDistances = noOfOffDiagGameCombos * 4 + noOfGames\n",
    "print(noOfPairWiseDistances)"
   ]
  },
  {
   "cell_type": "code",
   "execution_count": 20,
   "id": "7be561d3",
   "metadata": {},
   "outputs": [],
   "source": [
    "#next we need to collect together all pairwise combinations of traces so that we can compute a distance measure\n",
    "\n",
    "# Step 1: Create a list of DataFrames for each 'off diagonal' combination of games\n",
    "unique_values = extended_traces['GameID'].unique()\n",
    "offdiag_combinations = list(itertools.combinations(unique_values, 2))\n",
    "diag_combos = [(i,i) for i in unique_values]\n",
    "combos = offdiag_combinations + diag_combos\n",
    "\n",
    "list_dfs = []\n",
    "for combination in combos:\n",
    "    #extract traces for each game ID and strategy combination\n",
    "    GameID_1, GameID_2 = combination\n",
    "    keys = []\n",
    "    if GameID_1 != GameID_2:\n",
    "        keys = [((GameID_1, 'BigMoneyWithGardens'), (GameID_2, 'BigMoneyWithGardens')),\n",
    "                ((GameID_1, 'BigMoneyWithGardens'), (GameID_2, 'DoubleWitch')),\n",
    "                ((GameID_1, 'DoubleWitch'), (GameID_2, 'BigMoneyWithGardens')),\n",
    "                ((GameID_1, 'DoubleWitch'), (GameID_2, 'DoubleWitch'))]\n",
    "    else:\n",
    "        keys = [((GameID_1, 'BigMoneyWithGardens'), (GameID_1, 'DoubleWitch'))]\n",
    "             \n",
    "    for key in keys:\n",
    "        key1, key2 = key\n",
    "        game1,player1 = key1\n",
    "        game2,player2 = key2\n",
    "        df_A = extended_traces[(extended_traces['GameID'] == game1) & (extended_traces['PlayerName'] == player1)]\n",
    "        df_B = extended_traces[(extended_traces['GameID'] == game2) & (extended_traces['PlayerName'] == player2)]\n",
    "        df_1 = df_A.rename(columns={'PlayerName' : 'PlayerName_1', 'GameID': 'GameID_1', \n",
    "                                                     'CurrentScore': 'CurrentScore_1', 'GARDENS': 'GARDENS_1',\n",
    "                                                     'WITCH': 'WITCH_1', 'CURSE': 'CURSE_1','PROVINCE': 'PROVINCE_1',\n",
    "                                                     'DUCHY':'DUCHY_1', 'ESTATE': 'ESTATE_1', 'GOLD': 'GOLD_1', \n",
    "                                                     'SILVER':'SILVER_1', 'COPPER':'COPPER_1'})\n",
    "        df_2 = df_B.rename(columns={'PlayerName' : 'PlayerName_2', 'GameID': 'GameID_2', \n",
    "                                                     'CurrentScore': 'CurrentScore_2', 'GARDENS': 'GARDENS_2',\n",
    "                                                     'WITCH': 'WITCH_2', 'CURSE': 'CURSE_2','PROVINCE': 'PROVINCE_2',\n",
    "                                                     'DUCHY':'DUCHY_2', 'ESTATE': 'ESTATE_2', 'GOLD': 'GOLD_2', \n",
    "                                                     'SILVER':'SILVER_2', 'COPPER':'COPPER_2'})\n",
    "        #next align play traces by linking the common round column\n",
    "        df_3 = pd.merge(df_1, df_2, on = 'Round')\n",
    "        list_dfs.append(df_3)\n",
    "        \n",
    "#finally we need to append togther all the datafarmes in our list\n",
    "sym_trace_combos = pd.concat(list_dfs, ignore_index=True)"
   ]
  },
  {
   "cell_type": "code",
   "execution_count": 21,
   "id": "19b6b054",
   "metadata": {},
   "outputs": [
    {
     "name": "stdout",
     "output_type": "stream",
     "text": [
      "123750\n"
     ]
    },
    {
     "data": {
      "text/plain": [
       "(123750, 25)"
      ]
     },
     "execution_count": 21,
     "metadata": {},
     "output_type": "execute_result"
    }
   ],
   "source": [
    "#the no of rows in our symmetric trace combos should be given by noOfPairwiseDistances * maxNoRounds\n",
    "print(noOfPairWiseDistances * maxNoOfRounds)\n",
    "sym_trace_combos.shape"
   ]
  },
  {
   "cell_type": "code",
   "execution_count": 22,
   "id": "772a23df",
   "metadata": {},
   "outputs": [],
   "source": [
    "#next step is to calculate the distance between the decks at each round for each given pair of play traces\n",
    "def deck_dist_measure(playTracePairForSingleRound, cardTypes):\n",
    "    dist = 0\n",
    "    for card in cardTypes:\n",
    "        col1 = card + \"_1\"\n",
    "        col2 = card + \"_2\"\n",
    "        dist += (playTracePairForSingleRound[col1]-playTracePairForSingleRound[col2])**2\n",
    "    dist = math.sqrt(dist)/math.sqrt(len(cardTypes))\n",
    "    return dist"
   ]
  },
  {
   "cell_type": "code",
   "execution_count": 23,
   "id": "b34b879c",
   "metadata": {},
   "outputs": [],
   "source": [
    "sym_trace_combos['dist'] = sym_trace_combos.apply(lambda row: deck_dist_measure(row, card_types_BigMoneyWithGardens_vs_DoubleWitch), axis = 1)"
   ]
  },
  {
   "cell_type": "code",
   "execution_count": 24,
   "id": "911595cb",
   "metadata": {},
   "outputs": [
    {
     "name": "stdout",
     "output_type": "stream",
     "text": [
      "           PlayerName_1  GameID_1  Round  CurrentScore_1  GARDENS_1  WITCH_1  \\\n",
      "25  BigMoneyWithGardens       2.0    0.0             3.0        0.0      0.0   \n",
      "26  BigMoneyWithGardens       2.0    1.0             3.0        0.0      0.0   \n",
      "27  BigMoneyWithGardens       2.0    2.0             3.0        0.0      0.0   \n",
      "28  BigMoneyWithGardens       2.0    3.0             3.0        0.0      0.0   \n",
      "29  BigMoneyWithGardens       2.0    4.0             3.0        0.0      0.0   \n",
      "30  BigMoneyWithGardens       2.0    5.0             2.0        0.0      0.0   \n",
      "31  BigMoneyWithGardens       2.0    6.0             1.0        0.0      0.0   \n",
      "32  BigMoneyWithGardens       2.0    7.0             1.0        0.0      0.0   \n",
      "33  BigMoneyWithGardens       2.0    8.0             0.0        0.0      0.0   \n",
      "34  BigMoneyWithGardens       2.0    9.0             0.0        0.0      0.0   \n",
      "35  BigMoneyWithGardens       2.0   10.0             0.0        0.0      0.0   \n",
      "36  BigMoneyWithGardens       2.0   11.0             0.0        0.0      0.0   \n",
      "37  BigMoneyWithGardens       2.0   12.0            -1.0        0.0      0.0   \n",
      "38  BigMoneyWithGardens       2.0   13.0            -1.0        0.0      0.0   \n",
      "39  BigMoneyWithGardens       2.0   14.0            -1.0        0.0      0.0   \n",
      "40  BigMoneyWithGardens       2.0   15.0            -2.0        0.0      0.0   \n",
      "41  BigMoneyWithGardens       2.0   16.0             1.0        1.0      0.0   \n",
      "42  BigMoneyWithGardens       2.0   17.0             7.0        1.0      0.0   \n",
      "43  BigMoneyWithGardens       2.0   18.0            12.0        1.0      0.0   \n",
      "44  BigMoneyWithGardens       2.0   19.0            15.0        2.0      0.0   \n",
      "45  BigMoneyWithGardens       2.0   20.0            15.0        2.0      0.0   \n",
      "46  BigMoneyWithGardens       2.0   21.0            15.0        2.0      0.0   \n",
      "47  BigMoneyWithGardens       2.0   22.0            15.0        2.0      0.0   \n",
      "48  BigMoneyWithGardens       2.0   23.0            15.0        2.0      0.0   \n",
      "49  BigMoneyWithGardens       2.0   24.0            15.0        2.0      0.0   \n",
      "\n",
      "    CURSE_1  PROVINCE_1  DUCHY_1  ESTATE_1  ...  GARDENS_2  WITCH_2  CURSE_2  \\\n",
      "25      0.0         0.0      0.0       3.0  ...        0.0      0.0      0.0   \n",
      "26      0.0         0.0      0.0       3.0  ...        0.0      0.0      0.0   \n",
      "27      0.0         0.0      0.0       3.0  ...        0.0      0.0      0.0   \n",
      "28      0.0         0.0      0.0       3.0  ...        0.0      1.0      0.0   \n",
      "29      0.0         0.0      0.0       3.0  ...        0.0      2.0      0.0   \n",
      "30      1.0         0.0      0.0       3.0  ...        0.0      2.0      0.0   \n",
      "31      2.0         0.0      0.0       3.0  ...        0.0      2.0      0.0   \n",
      "32      2.0         0.0      0.0       3.0  ...        0.0      2.0      0.0   \n",
      "33      3.0         0.0      0.0       3.0  ...        0.0      2.0      0.0   \n",
      "34      3.0         0.0      0.0       3.0  ...        0.0      2.0      0.0   \n",
      "35      3.0         0.0      0.0       3.0  ...        0.0      2.0      0.0   \n",
      "36      3.0         0.0      0.0       3.0  ...        0.0      2.0      0.0   \n",
      "37      4.0         0.0      0.0       3.0  ...        0.0      2.0      0.0   \n",
      "38      4.0         0.0      0.0       3.0  ...        0.0      2.0      0.0   \n",
      "39      4.0         0.0      0.0       3.0  ...        0.0      2.0      0.0   \n",
      "40      5.0         0.0      0.0       3.0  ...        0.0      2.0      0.0   \n",
      "41      5.0         0.0      0.0       3.0  ...        0.0      2.0      0.0   \n",
      "42      5.0         1.0      0.0       3.0  ...        0.0      2.0      0.0   \n",
      "43      6.0         2.0      0.0       3.0  ...        0.0      2.0      0.0   \n",
      "44      6.0         2.0      0.0       3.0  ...        0.0      2.0      0.0   \n",
      "45      6.0         2.0      0.0       3.0  ...        0.0      2.0      0.0   \n",
      "46      6.0         2.0      0.0       3.0  ...        0.0      2.0      0.0   \n",
      "47      6.0         2.0      0.0       3.0  ...        0.0      2.0      0.0   \n",
      "48      6.0         2.0      0.0       3.0  ...        0.0      2.0      0.0   \n",
      "49      6.0         2.0      0.0       3.0  ...        0.0      2.0      0.0   \n",
      "\n",
      "   PROVINCE_2  DUCHY_2  ESTATE_2  GOLD_2  SILVER_2  COPPER_2      dist  \n",
      "25        0.0      0.0       3.0     0.0       1.0       7.0  0.000000  \n",
      "26        0.0      0.0       3.0     0.0       2.0       7.0  0.000000  \n",
      "27        0.0      0.0       3.0     0.0       2.0       7.0  0.333333  \n",
      "28        0.0      0.0       3.0     0.0       2.0       7.0  0.745356  \n",
      "29        0.0      0.0       3.0     0.0       2.0       7.0  1.201850  \n",
      "30        0.0      0.0       3.0     0.0       2.0       7.0  1.290994  \n",
      "31        0.0      0.0       3.0     0.0       3.0       7.0  1.333333  \n",
      "32        0.0      0.0       3.0     0.0       4.0       7.0  1.414214  \n",
      "33        0.0      0.0       3.0     1.0       4.0       7.0  1.527525  \n",
      "34        0.0      0.0       3.0     2.0       4.0       7.0  1.527525  \n",
      "35        0.0      0.0       3.0     3.0       4.0       7.0  1.527525  \n",
      "36        0.0      0.0       3.0     4.0       4.0       7.0  1.527525  \n",
      "37        1.0      0.0       3.0     4.0       4.0       7.0  1.943651  \n",
      "38        1.0      0.0       3.0     4.0       5.0       7.0  1.943651  \n",
      "39        2.0      0.0       3.0     4.0       5.0       7.0  2.160247  \n",
      "40        3.0      0.0       3.0     4.0       5.0       7.0  2.645751  \n",
      "41        4.0      0.0       3.0     4.0       5.0       7.0  2.808717  \n",
      "42        4.0      1.0       3.0     4.0       5.0       7.0  2.687419  \n",
      "43        4.0      2.0       3.0     4.0       5.0       7.0  2.867442  \n",
      "44        5.0      2.0       3.0     4.0       5.0       7.0  3.018462  \n",
      "45        5.0      3.0       3.0     4.0       5.0       7.0  3.109126  \n",
      "46        5.0      3.0       4.0     4.0       5.0       7.0  3.126944  \n",
      "47        5.0      3.0       4.0     4.0       5.0       7.0  3.126944  \n",
      "48        5.0      3.0       4.0     4.0       5.0       7.0  3.126944  \n",
      "49        5.0      3.0       4.0     4.0       5.0       7.0  3.126944  \n",
      "\n",
      "[25 rows x 26 columns]\n"
     ]
    }
   ],
   "source": [
    "#examine evolution of deck distance in a few examples\n",
    "game1 = 2\n",
    "game2 = 3\n",
    "player1 = 'BigMoneyWithGardens'\n",
    "player2 = 'DoubleWitch'\n",
    "#player2 = 'DoubleWitch'\n",
    "example = sym_trace_combos[(sym_trace_combos['GameID_1'] == game1) & (sym_trace_combos['GameID_2'] == game2) &\n",
    "                           (sym_trace_combos['PlayerName_1'] == player1) & (sym_trace_combos['PlayerName_2'] == player2)]\n",
    "print(example)"
   ]
  },
  {
   "cell_type": "code",
   "execution_count": 25,
   "id": "03b2d766",
   "metadata": {},
   "outputs": [],
   "source": [
    "#next we need to define the distance between play traces based on the distance between decks at each round\n",
    "def trace_dist_measure(playTracePairForAllRounds, maxRounds):\n",
    "    return playTracePairForAllRounds['dist'].sum()/maxRounds"
   ]
  },
  {
   "cell_type": "code",
   "execution_count": 30,
   "id": "ef609606",
   "metadata": {},
   "outputs": [],
   "source": [
    "#now compute all the pairwise trace distances\n",
    "pairwiseTraceDistances = sym_trace_combos[['GameID_1','GameID_2','PlayerName_1','PlayerName_2','dist']]\n",
    "pairwiseTraceDistances = pairwiseTraceDistances.groupby(['GameID_1','GameID_2','PlayerName_1','PlayerName_2'])['dist'].sum()\n",
    "df_pairwiseTraceDistances = pairwiseTraceDistances.reset_index()"
   ]
  },
  {
   "cell_type": "code",
   "execution_count": 31,
   "id": "771fe821",
   "metadata": {},
   "outputs": [
    {
     "name": "stdout",
     "output_type": "stream",
     "text": [
      "      GameID_1  GameID_2         PlayerName_1         PlayerName_2       dist\n",
      "0          2.0       2.0  BigMoneyWithGardens          DoubleWitch  45.932217\n",
      "1          2.0       3.0  BigMoneyWithGardens  BigMoneyWithGardens  10.408512\n",
      "2          2.0       3.0  BigMoneyWithGardens          DoubleWitch  48.121423\n",
      "3          2.0       3.0          DoubleWitch  BigMoneyWithGardens  52.445052\n",
      "4          2.0       3.0          DoubleWitch          DoubleWitch  18.206014\n",
      "...        ...       ...                  ...                  ...        ...\n",
      "4945      50.0      51.0  BigMoneyWithGardens  BigMoneyWithGardens  42.291493\n",
      "4946      50.0      51.0  BigMoneyWithGardens          DoubleWitch  58.899209\n",
      "4947      50.0      51.0          DoubleWitch  BigMoneyWithGardens  43.492235\n",
      "4948      50.0      51.0          DoubleWitch          DoubleWitch  15.680529\n",
      "4949      51.0      51.0  BigMoneyWithGardens          DoubleWitch  34.579398\n",
      "\n",
      "[4950 rows x 5 columns]\n"
     ]
    }
   ],
   "source": [
    "print(df_pairwiseTraceDistances)"
   ]
  },
  {
   "cell_type": "code",
   "execution_count": 59,
   "id": "2e47317a",
   "metadata": {},
   "outputs": [
    {
     "name": "stdout",
     "output_type": "stream",
     "text": [
      "4950\n",
      "Mean BMBM: 24.43\n",
      "Mean DWDW: 18.07\n",
      "Mean BMDW: 50.81\n",
      "Std BMBM: 10.88\n",
      "Std DWDW: 6.35\n",
      "Std BMDW: 6.7\n"
     ]
    }
   ],
   "source": [
    "#next look at average distances between similar and different strategies as an initial sense check\n",
    "BMBM = df_pairwiseTraceDistances['dist'][(df_pairwiseTraceDistances['PlayerName_1'] == 'BigMoneyWithGardens') &\n",
    "                                        (df_pairwiseTraceDistances['PlayerName_2'] == 'BigMoneyWithGardens')]\n",
    "BMDW = df_pairwiseTraceDistances['dist'][(df_pairwiseTraceDistances['PlayerName_1'] == 'BigMoneyWithGardens') &\n",
    "                                        (df_pairwiseTraceDistances['PlayerName_2'] == 'DoubleWitch') |\n",
    "                                        (df_pairwiseTraceDistances['PlayerName_1'] == 'DoubleWitch') &\n",
    "                                        (df_pairwiseTraceDistances['PlayerName_2'] == 'BigMoneyWithGardens')]\n",
    "DWDW = df_pairwiseTraceDistances['dist'][(df_pairwiseTraceDistances['PlayerName_1'] == 'DoubleWitch') &\n",
    "                                        (df_pairwiseTraceDistances['PlayerName_2'] == 'DoubleWitch')]\n",
    "print(len(BMBM) + len(BMDW) + len(DWDW))\n",
    "print(\"Mean BMBM: \" + str(round(BMBM.mean(),2)))\n",
    "print(\"Mean DWDW: \" + str(round(DWDW.mean(),2)))\n",
    "print(\"Mean BMDW: \" + str(round(BMDW.mean(),2)))\n",
    "print(\"Std BMBM: \" + str(round(BMBM.std(),2)))\n",
    "print(\"Std DWDW: \" + str(round(DWDW.std(),2)))\n",
    "print(\"Std BMDW: \" + str(round(BMDW.std(),2)))"
   ]
  },
  {
   "cell_type": "code",
   "execution_count": 78,
   "id": "3bc268ad",
   "metadata": {},
   "outputs": [
    {
     "data": {
      "text/plain": [
       "<matplotlib.legend.Legend at 0x7fb02c7d63d0>"
      ]
     },
     "execution_count": 78,
     "metadata": {},
     "output_type": "execute_result"
    },
    {
     "data": {
      "image/png": "[encoded data removed]",
      "text/plain": [
       "<Figure size 432x288 with 1 Axes>"
      ]
     },
     "metadata": {
      "needs_background": "light"
     },
     "output_type": "display_data"
    }
   ],
   "source": [
    "#plot distances along the real line and colour coded\n",
    "plt.scatter(BMBM, [0] * BMBM.shape[0], label = 'Big Money With Gardens - Big Money With Gardens')\n",
    "plt.scatter(DWDW, [1] * DWDW.shape[0], label = 'Double Witch - Double Witch')\n",
    "plt.scatter(BMDW, [2] * BMDW.shape[0], label = 'Big Money With Gardens - Double Witch')\n",
    "plt.yticks([])\n",
    "plt.xlabel('Pairwise distances')\n",
    "plt.legend(loc = (1.1,0.77))"
   ]
  },
  {
   "cell_type": "code",
   "execution_count": null,
   "id": "f9687f58",
   "metadata": {},
   "outputs": [],
   "source": []
  }
 ],
 "metadata": {
  "kernelspec": {
   "display_name": "Python 3 (ipykernel)",
   "language": "python",
   "name": "python3"
  },
  "language_info": {
   "codemirror_mode": {
    "name": "ipython",
    "version": 3
   },
   "file_extension": ".py",
   "mimetype": "text/x-python",
   "name": "python",
   "nbconvert_exporter": "python",
   "pygments_lexer": "ipython3",
   "version": "3.9.12"
  }
 },
 "nbformat": 4,
 "nbformat_minor": 5
}
