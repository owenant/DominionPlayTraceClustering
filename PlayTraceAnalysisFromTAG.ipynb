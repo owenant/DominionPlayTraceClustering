{
 "cells": [
  {
   "cell_type": "code",
   "execution_count": 58,
   "id": "203d1a10",
   "metadata": {},
   "outputs": [],
   "source": [
    "import pandas as pd\n",
    "pd.set_option('display.max_rows', 100)"
   ]
  },
  {
   "cell_type": "code",
   "execution_count": 59,
   "id": "f6a2cc71",
   "metadata": {},
   "outputs": [],
   "source": [
    "data  = pd.read_csv(\"data/featureslogfile.txt\", sep = '\\t')"
   ]
  },
  {
   "cell_type": "code",
   "execution_count": 60,
   "id": "5d7d052a",
   "metadata": {},
   "outputs": [
    {
     "name": "stdout",
     "output_type": "stream",
     "text": [
      "Index(['GameID', 'Player', 'Round', 'Turn', 'CurrentScore', 'SCORE',\n",
      "       'SCORE_ADV', 'ORDINAL', 'OUR_TURN', 'HAS_WON', 'FINAL_ORD', 'ROUND',\n",
      "       'CURSE', 'ESTATE', 'DUCHY', 'PROVINCE', 'COPPER', 'SILVER', 'GOLD',\n",
      "       'CELLAR', 'CHAPEL', 'MOAT', 'HARBINGER', 'MERCHANT', 'VASSAL',\n",
      "       'VILLAGE', 'WORKSHOP', 'BUREAUCRAT', 'GARDENS', 'MILITIA',\n",
      "       'MONEYLENDER', 'POACHER', 'REMODEL', 'SMITHY', 'THRONE_ROOM', 'BANDIT',\n",
      "       'COUNCIL_ROOM', 'FESTIVAL', 'LABORATORY', 'LIBRARY', 'MARKET', 'MINE',\n",
      "       'SENTRY', 'WITCH', 'ARTISAN', 'PlayerCount', 'TotalRounds',\n",
      "       'ActionScore', 'Win', 'Ordinal', 'FinalScore'],\n",
      "      dtype='object')\n"
     ]
    }
   ],
   "source": [
    "print(data.columns)"
   ]
  },
  {
   "cell_type": "code",
   "execution_count": 61,
   "id": "87953d2b",
   "metadata": {},
   "outputs": [
    {
     "name": "stdout",
     "output_type": "stream",
     "text": [
      "[ 2.  3.  4.  5.  6.  7.  8.  9. 10. 11. 12. 13. 14. 15. 16. 17. 18. 19.\n",
      " 20. 21. 22. 23. 24. 25. 26. 27. 28. 29. 30. 31. 32. 33. 34. 35. 36. 37.\n",
      " 38. 39. 40. 41. 42. 43. 44. 45. 46. 47. 48. 49. 50. 51.]\n"
     ]
    }
   ],
   "source": [
    "#check number of games\n",
    "print(data['GameID'].unique())"
   ]
  },
  {
   "cell_type": "code",
   "execution_count": 62,
   "id": "3f1428fe",
   "metadata": {},
   "outputs": [],
   "source": [
    "#note that Player field swaps round half way through the tournament when there are two players. Also the GameID starts\n",
    "#at 2 for some reason\n",
    "noGamesPerMatchUp = 25\n",
    "def assignName(gameID, player, noGamesPerMatchUp):\n",
    "    name = \"\"\n",
    "    if gameID < (noGamesPerMatchUp + 2):\n",
    "        if player == 0:\n",
    "            name = 'BigMoneyWithGardens'\n",
    "        else:\n",
    "            name = 'DoubleWitch'\n",
    "    else:\n",
    "        if player == 1:\n",
    "            name = 'BigMoneyWithGardens'\n",
    "        else:\n",
    "            name = 'DoubleWitch'\n",
    "    return name"
   ]
  },
  {
   "cell_type": "code",
   "execution_count": 63,
   "id": "f043fef2",
   "metadata": {},
   "outputs": [],
   "source": [
    "#add label for player types\n",
    "data['PlayerName'] = data.apply(lambda df: assignName(df['GameID'], df['Player'], noGamesPerMatchUp), axis = 1)"
   ]
  },
  {
   "cell_type": "code",
   "execution_count": 66,
   "id": "635ec062",
   "metadata": {},
   "outputs": [
    {
     "name": "stdout",
     "output_type": "stream",
     "text": [
      "[ 2.  3.  4.  5.  6.  7.  8.  9. 10. 11. 12. 13. 14. 15. 16. 17. 18. 19.\n",
      " 20. 21. 22. 23. 24. 25. 26. 27. 28. 29. 30. 31. 32. 33. 34. 35. 36. 37.\n",
      " 38. 39. 40. 41. 42. 43. 44. 45. 46. 47. 48. 49. 50. 51.]\n"
     ]
    }
   ],
   "source": [
    "print(data['GameID'].unique())"
   ]
  },
  {
   "cell_type": "code",
   "execution_count": 65,
   "id": "231bef17",
   "metadata": {},
   "outputs": [
    {
     "name": "stdout",
     "output_type": "stream",
     "text": [
      "[0. 1.]\n",
      "[1.]\n"
     ]
    }
   ],
   "source": [
    "#we can only record events each turn so we need to use the final turn in each round for each player to determine their\n",
    "#deck at the end of the round\n",
    "print(data['Turn'].unique())\n",
    "data = data[data['Turn'] == 1]\n",
    "print(data['Turn'].unique())"
   ]
  },
  {
   "cell_type": "code",
   "execution_count": 70,
   "id": "215dfc42",
   "metadata": {},
   "outputs": [],
   "source": [
    "#extract columns of interest \n",
    "card_types_in_supply = ['ARTISAN', 'BANDIT', 'BUREAUCRAT', 'CHAPEL', 'FESTIVAL', 'GARDENS', 'SENTRY',\n",
    "                        'THRONE ROOM', 'WITCH', 'CURSE','WORKSHOP','PROVINCE', 'DUCHY', 'ESTATE', 'GOLD', 'SILVER', 'COPPER']\n",
    "card_types_BigMoneyWithGardens_vs_DoubleWitch = ['GARDENS', 'WITCH', 'CURSE', 'PROVINCE', 'DUCHY', 'ESTATE', 'GOLD', 'SILVER', 'COPPER']"
   ]
  },
  {
   "cell_type": "code",
   "execution_count": 71,
   "id": "fb7d3a08",
   "metadata": {},
   "outputs": [
    {
     "name": "stdout",
     "output_type": "stream",
     "text": [
      "               PlayerName  GameID  Round  CurrentScore  GARDENS  WITCH  CURSE  \\\n",
      "2     BigMoneyWithGardens     2.0    0.0           3.0      0.0    0.0    0.0   \n",
      "6     BigMoneyWithGardens     2.0    1.0           3.0      0.0    0.0    0.0   \n",
      "10    BigMoneyWithGardens     2.0    2.0           3.0      0.0    0.0    0.0   \n",
      "14    BigMoneyWithGardens     2.0    3.0           3.0      0.0    0.0    0.0   \n",
      "18    BigMoneyWithGardens     2.0    4.0           3.0      0.0    0.0    0.0   \n",
      "...                   ...     ...    ...           ...      ...    ...    ...   \n",
      "4337  BigMoneyWithGardens    51.0   14.0          -1.0      0.0    0.0    4.0   \n",
      "4341  BigMoneyWithGardens    51.0   15.0          -1.0      0.0    0.0    4.0   \n",
      "4345  BigMoneyWithGardens    51.0   16.0           4.0      0.0    0.0    5.0   \n",
      "4349  BigMoneyWithGardens    51.0   17.0          10.0      0.0    0.0    5.0   \n",
      "4353  BigMoneyWithGardens    51.0   18.0          15.0      0.0    0.0    6.0   \n",
      "\n",
      "      PROVINCE  DUCHY  ESTATE  GOLD  SILVER  COPPER  \n",
      "2          0.0    0.0     3.0   0.0     1.0     7.0  \n",
      "6          0.0    0.0     3.0   0.0     2.0     7.0  \n",
      "10         0.0    0.0     3.0   0.0     3.0     7.0  \n",
      "14         0.0    0.0     3.0   0.0     4.0     7.0  \n",
      "18         0.0    0.0     3.0   0.0     5.0     7.0  \n",
      "...        ...    ...     ...   ...     ...     ...  \n",
      "4337       0.0    0.0     3.0   8.0     7.0     7.0  \n",
      "4341       0.0    0.0     3.0   8.0     8.0     7.0  \n",
      "4345       1.0    0.0     3.0   8.0     8.0     7.0  \n",
      "4349       2.0    0.0     3.0   8.0     8.0     7.0  \n",
      "4353       3.0    0.0     3.0   8.0     8.0     7.0  \n",
      "\n",
      "[1075 rows x 13 columns]\n"
     ]
    }
   ],
   "source": [
    "#extract all BigMoneyWithGardens play-traces\n",
    "cols = ['PlayerName', 'GameID', 'Round', 'CurrentScore']\n",
    "cols = cols + card_types_BigMoneyWithGardens_vs_DoubleWitch\n",
    "Traces_BigMoneyWithGardens = data[data['PlayerName'] == 'BigMoneyWithGardens'].loc[:, cols]\n",
    "print(Traces_BigMoneyWithGardens)"
   ]
  },
  {
   "cell_type": "code",
   "execution_count": 72,
   "id": "0747c5bc",
   "metadata": {},
   "outputs": [
    {
     "name": "stdout",
     "output_type": "stream",
     "text": [
      "[0.]\n",
      "[ 2.  3.  4.  5.  6.  7.  8.  9. 10. 11. 12. 13. 14. 15. 16. 17. 18. 19.\n",
      " 20. 21. 22. 23. 24. 25. 26. 27. 28. 29. 30. 31. 32. 33. 34. 35. 36. 37.\n",
      " 38. 39. 40. 41. 42. 43. 44. 45. 46. 47. 48. 49. 50. 51.]\n"
     ]
    }
   ],
   "source": [
    "#some sense checks\n",
    "print(Traces_BigMoneyWithGardens['WITCH'].unique())\n",
    "print(Traces_BigMoneyWithGardens['GameID'].unique())"
   ]
  },
  {
   "cell_type": "code",
   "execution_count": 73,
   "id": "724fc25a",
   "metadata": {},
   "outputs": [
    {
     "name": "stdout",
     "output_type": "stream",
     "text": [
      "       PlayerName  GameID  Round  CurrentScore  GARDENS  WITCH  CURSE  \\\n",
      "3     DoubleWitch     2.0    0.0           3.0      0.0    0.0    0.0   \n",
      "7     DoubleWitch     2.0    1.0           3.0      0.0    0.0    0.0   \n",
      "11    DoubleWitch     2.0    2.0           3.0      0.0    1.0    0.0   \n",
      "15    DoubleWitch     2.0    3.0           3.0      0.0    2.0    0.0   \n",
      "19    DoubleWitch     2.0    4.0           3.0      0.0    2.0    0.0   \n",
      "...           ...     ...    ...           ...      ...    ...    ...   \n",
      "4336  DoubleWitch    51.0   14.0          15.0      0.0    2.0    0.0   \n",
      "4340  DoubleWitch    51.0   15.0          15.0      0.0    2.0    0.0   \n",
      "4344  DoubleWitch    51.0   16.0          21.0      0.0    2.0    0.0   \n",
      "4348  DoubleWitch    51.0   17.0          21.0      0.0    2.0    0.0   \n",
      "4352  DoubleWitch    51.0   18.0          27.0      0.0    2.0    0.0   \n",
      "\n",
      "      PROVINCE  DUCHY  ESTATE  GOLD  SILVER  COPPER  \n",
      "3          0.0    0.0     3.0   0.0     1.0     7.0  \n",
      "7          0.0    0.0     3.0   0.0     2.0     7.0  \n",
      "11         0.0    0.0     3.0   0.0     2.0     7.0  \n",
      "15         0.0    0.0     3.0   0.0     2.0     7.0  \n",
      "19         0.0    0.0     3.0   0.0     2.0     7.0  \n",
      "...        ...    ...     ...   ...     ...     ...  \n",
      "4336       2.0    0.0     3.0   4.0     7.0     7.0  \n",
      "4340       2.0    0.0     3.0   5.0     7.0     7.0  \n",
      "4344       3.0    0.0     3.0   5.0     7.0     7.0  \n",
      "4348       3.0    0.0     3.0   6.0     7.0     7.0  \n",
      "4352       4.0    0.0     3.0   6.0     7.0     7.0  \n",
      "\n",
      "[1075 rows x 13 columns]\n"
     ]
    }
   ],
   "source": [
    "#extract all DoubleWitch play-traces\n",
    "cols = ['PlayerName', 'GameID', 'Round', 'CurrentScore']\n",
    "cols = cols + card_types_BigMoneyWithGardens_vs_DoubleWitch\n",
    "Traces_DoubleWitch = data[data['PlayerName'] == 'DoubleWitch'].loc[:, cols]\n",
    "print(Traces_DoubleWitch)"
   ]
  }
 ],
 "metadata": {
  "kernelspec": {
   "display_name": "Python 3 (ipykernel)",
   "language": "python",
   "name": "python3"
  },
  "language_info": {
   "codemirror_mode": {
    "name": "ipython",
    "version": 3
   },
   "file_extension": ".py",
   "mimetype": "text/x-python",
   "name": "python",
   "nbconvert_exporter": "python",
   "pygments_lexer": "ipython3",
   "version": "3.9.12"
  }
 },
 "nbformat": 4,
 "nbformat_minor": 5
}
