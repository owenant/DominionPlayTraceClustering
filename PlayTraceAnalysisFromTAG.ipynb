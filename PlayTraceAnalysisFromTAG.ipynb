{
 "cells": [
  {
   "cell_type": "code",
   "execution_count": 1,
   "id": "05d8aa06",
   "metadata": {},
   "outputs": [],
   "source": [
    "#assumptions that will break if we use MCTS for play traces in this code\n",
    "#1. Turn wont be either 0 or 1\n",
    "#2. Cant just copy the final two rows to extend round number to maxNoOfRounds\n",
    "\n",
    "#comments: So play traces for a given strategy will change dependent on the opponent's strategy, e.g. evolution of \n",
    "#bigmoney deck is different if it is played vs another bigmoney startegy as opposed to say a witch strategy which will \n",
    "#introduce curse cards into the bigmoney trace"
   ]
  },
  {
   "cell_type": "code",
   "execution_count": 2,
   "id": "203d1a10",
   "metadata": {},
   "outputs": [],
   "source": [
    "import pandas as pd\n",
    "import pdb\n",
    "import math\n",
    "import matplotlib.pyplot as plt\n",
    "from sklearn.manifold import MDS \n",
    "import itertools\n",
    "pd.set_option('display.max_rows', 100)\n",
    "noPlayers = 2"
   ]
  },
  {
   "cell_type": "code",
   "execution_count": 3,
   "id": "f6a2cc71",
   "metadata": {},
   "outputs": [],
   "source": [
    "data  = pd.read_csv(\"data/featureslogfile.txt\", sep = '\\t')"
   ]
  },
  {
   "cell_type": "code",
   "execution_count": 4,
   "id": "5d7d052a",
   "metadata": {},
   "outputs": [
    {
     "name": "stdout",
     "output_type": "stream",
     "text": [
      "Index(['GameID', 'Player', 'Round', 'Turn', 'CurrentScore', 'SCORE',\n",
      "       'SCORE_ADV', 'ORDINAL', 'OUR_TURN', 'HAS_WON', 'FINAL_ORD', 'ROUND',\n",
      "       'CURSE', 'ESTATE', 'DUCHY', 'PROVINCE', 'COPPER', 'SILVER', 'GOLD',\n",
      "       'CELLAR', 'CHAPEL', 'MOAT', 'HARBINGER', 'MERCHANT', 'VASSAL',\n",
      "       'VILLAGE', 'WORKSHOP', 'BUREAUCRAT', 'GARDENS', 'MILITIA',\n",
      "       'MONEYLENDER', 'POACHER', 'REMODEL', 'SMITHY', 'THRONE_ROOM', 'BANDIT',\n",
      "       'COUNCIL_ROOM', 'FESTIVAL', 'LABORATORY', 'LIBRARY', 'MARKET', 'MINE',\n",
      "       'SENTRY', 'WITCH', 'ARTISAN', 'PlayerCount', 'TotalRounds',\n",
      "       'ActionScore', 'Win', 'Ordinal', 'FinalScore'],\n",
      "      dtype='object')\n"
     ]
    }
   ],
   "source": [
    "print(data.columns)"
   ]
  },
  {
   "cell_type": "code",
   "execution_count": 5,
   "id": "9a284dbb",
   "metadata": {},
   "outputs": [
    {
     "name": "stdout",
     "output_type": "stream",
     "text": [
      "[ 2.  3.  4.  5.  6.  7.  8.  9. 10. 11. 12. 13. 14. 15. 16. 17. 18. 19.\n",
      " 20. 21. 22. 23. 24. 25. 26. 27. 28. 29. 30. 31. 32. 33. 34. 35. 36. 37.\n",
      " 38. 39. 40. 41. 42. 43. 44. 45. 46. 47. 48. 49. 50. 51.]\n"
     ]
    }
   ],
   "source": [
    "#check number of games\n",
    "print(data['GameID'].unique())"
   ]
  },
  {
   "cell_type": "code",
   "execution_count": 6,
   "id": "16c9daa1",
   "metadata": {},
   "outputs": [],
   "source": [
    "#note that Player field swaps round half way through the tournament when there are two players. Also the GameID starts\n",
    "#at 2 for some reason\n",
    "noGamesPerMatchUp = 25\n",
    "def assignName(gameID, player, noGamesPerMatchUp):\n",
    "    name = \"\"\n",
    "    if gameID < (noGamesPerMatchUp + 2):\n",
    "        if player == 0:\n",
    "            name = 'BigMoneyWithGardens'\n",
    "        else:\n",
    "            name = 'DoubleWitch'\n",
    "    else:\n",
    "        if player == 1:\n",
    "            name = 'BigMoneyWithGardens'\n",
    "        else:\n",
    "            name = 'DoubleWitch'\n",
    "    return name"
   ]
  },
  {
   "cell_type": "code",
   "execution_count": 7,
   "id": "9dc4c1d6",
   "metadata": {},
   "outputs": [],
   "source": [
    "#add label for player types\n",
    "data['PlayerName'] = data.apply(lambda df: assignName(df['GameID'], df['Player'], noGamesPerMatchUp), axis = 1)"
   ]
  },
  {
   "cell_type": "code",
   "execution_count": 8,
   "id": "838e8b25",
   "metadata": {},
   "outputs": [
    {
     "name": "stdout",
     "output_type": "stream",
     "text": [
      "[ 2.  3.  4.  5.  6.  7.  8.  9. 10. 11. 12. 13. 14. 15. 16. 17. 18. 19.\n",
      " 20. 21. 22. 23. 24. 25. 26. 27. 28. 29. 30. 31. 32. 33. 34. 35. 36. 37.\n",
      " 38. 39. 40. 41. 42. 43. 44. 45. 46. 47. 48. 49. 50. 51.]\n"
     ]
    }
   ],
   "source": [
    "print(data['GameID'].unique())"
   ]
  },
  {
   "cell_type": "code",
   "execution_count": 9,
   "id": "881a818c",
   "metadata": {},
   "outputs": [
    {
     "name": "stdout",
     "output_type": "stream",
     "text": [
      "[0. 1.]\n",
      "[1.]\n"
     ]
    }
   ],
   "source": [
    "#we can only record events each turn so we need to use the final turn in each round for each player to determine their\n",
    "#deck at the end of the round\n",
    "print(data['Turn'].unique())\n",
    "data = data[data['Turn'] == 1]\n",
    "print(data['Turn'].unique())"
   ]
  },
  {
   "cell_type": "code",
   "execution_count": 10,
   "id": "caafe17d",
   "metadata": {},
   "outputs": [],
   "source": [
    "#extract columns of interest \n",
    "card_types_in_supply = ['ARTISAN', 'BANDIT', 'BUREAUCRAT', 'CHAPEL', 'FESTIVAL', 'GARDENS', 'SENTRY',\n",
    "                        'THRONE ROOM', 'WITCH', 'CURSE','WORKSHOP','PROVINCE', 'DUCHY', 'ESTATE', 'GOLD', 'SILVER', 'COPPER']\n",
    "card_types_BigMoneyWithGardens_vs_DoubleWitch = ['GARDENS', 'WITCH', 'CURSE', 'PROVINCE', 'DUCHY', 'ESTATE', 'GOLD', 'SILVER', 'COPPER']"
   ]
  },
  {
   "cell_type": "code",
   "execution_count": 11,
   "id": "bf543783",
   "metadata": {},
   "outputs": [],
   "source": [
    "#define columns of interest\n",
    "cols = ['PlayerName', 'Player', 'GameID', 'Round', 'CurrentScore']\n",
    "cols = cols + card_types_BigMoneyWithGardens_vs_DoubleWitch"
   ]
  },
  {
   "cell_type": "code",
   "execution_count": 12,
   "id": "64cda1a0",
   "metadata": {},
   "outputs": [
    {
     "name": "stdout",
     "output_type": "stream",
     "text": [
      "               PlayerName  Player  GameID  Round  CurrentScore  GARDENS  \\\n",
      "2     BigMoneyWithGardens     0.0     2.0    0.0           3.0      0.0   \n",
      "6     BigMoneyWithGardens     0.0     2.0    1.0           3.0      0.0   \n",
      "10    BigMoneyWithGardens     0.0     2.0    2.0           3.0      0.0   \n",
      "14    BigMoneyWithGardens     0.0     2.0    3.0           3.0      0.0   \n",
      "18    BigMoneyWithGardens     0.0     2.0    4.0           3.0      0.0   \n",
      "...                   ...     ...     ...    ...           ...      ...   \n",
      "4337  BigMoneyWithGardens     1.0    51.0   14.0          -1.0      0.0   \n",
      "4341  BigMoneyWithGardens     1.0    51.0   15.0          -1.0      0.0   \n",
      "4345  BigMoneyWithGardens     1.0    51.0   16.0           4.0      0.0   \n",
      "4349  BigMoneyWithGardens     1.0    51.0   17.0          10.0      0.0   \n",
      "4353  BigMoneyWithGardens     1.0    51.0   18.0          15.0      0.0   \n",
      "\n",
      "      WITCH  CURSE  PROVINCE  DUCHY  ESTATE  GOLD  SILVER  COPPER  \n",
      "2       0.0    0.0       0.0    0.0     3.0   0.0     1.0     7.0  \n",
      "6       0.0    0.0       0.0    0.0     3.0   0.0     2.0     7.0  \n",
      "10      0.0    0.0       0.0    0.0     3.0   0.0     3.0     7.0  \n",
      "14      0.0    0.0       0.0    0.0     3.0   0.0     4.0     7.0  \n",
      "18      0.0    0.0       0.0    0.0     3.0   0.0     5.0     7.0  \n",
      "...     ...    ...       ...    ...     ...   ...     ...     ...  \n",
      "4337    0.0    4.0       0.0    0.0     3.0   8.0     7.0     7.0  \n",
      "4341    0.0    4.0       0.0    0.0     3.0   8.0     8.0     7.0  \n",
      "4345    0.0    5.0       1.0    0.0     3.0   8.0     8.0     7.0  \n",
      "4349    0.0    5.0       2.0    0.0     3.0   8.0     8.0     7.0  \n",
      "4353    0.0    6.0       3.0    0.0     3.0   8.0     8.0     7.0  \n",
      "\n",
      "[1075 rows x 14 columns]\n"
     ]
    }
   ],
   "source": [
    "#extract all BigMoneyWithGardens play-traces\n",
    "Traces_BigMoneyWithGardens = data[data['PlayerName'] == 'BigMoneyWithGardens'].loc[:, cols]\n",
    "print(Traces_BigMoneyWithGardens)"
   ]
  },
  {
   "cell_type": "code",
   "execution_count": 13,
   "id": "6ba2460b",
   "metadata": {},
   "outputs": [
    {
     "name": "stdout",
     "output_type": "stream",
     "text": [
      "[0.]\n",
      "[ 2.  3.  4.  5.  6.  7.  8.  9. 10. 11. 12. 13. 14. 15. 16. 17. 18. 19.\n",
      " 20. 21. 22. 23. 24. 25. 26. 27. 28. 29. 30. 31. 32. 33. 34. 35. 36. 37.\n",
      " 38. 39. 40. 41. 42. 43. 44. 45. 46. 47. 48. 49. 50. 51.]\n"
     ]
    }
   ],
   "source": [
    "#some sense checks\n",
    "print(Traces_BigMoneyWithGardens['WITCH'].unique())\n",
    "print(Traces_BigMoneyWithGardens['GameID'].unique())"
   ]
  },
  {
   "cell_type": "code",
   "execution_count": 14,
   "id": "724fc25a",
   "metadata": {},
   "outputs": [
    {
     "name": "stdout",
     "output_type": "stream",
     "text": [
      "       PlayerName  Player  GameID  Round  CurrentScore  GARDENS  WITCH  CURSE  \\\n",
      "3     DoubleWitch     1.0     2.0    0.0           3.0      0.0    0.0    0.0   \n",
      "7     DoubleWitch     1.0     2.0    1.0           3.0      0.0    0.0    0.0   \n",
      "11    DoubleWitch     1.0     2.0    2.0           3.0      0.0    1.0    0.0   \n",
      "15    DoubleWitch     1.0     2.0    3.0           3.0      0.0    2.0    0.0   \n",
      "19    DoubleWitch     1.0     2.0    4.0           3.0      0.0    2.0    0.0   \n",
      "...           ...     ...     ...    ...           ...      ...    ...    ...   \n",
      "4336  DoubleWitch     0.0    51.0   14.0          15.0      0.0    2.0    0.0   \n",
      "4340  DoubleWitch     0.0    51.0   15.0          15.0      0.0    2.0    0.0   \n",
      "4344  DoubleWitch     0.0    51.0   16.0          21.0      0.0    2.0    0.0   \n",
      "4348  DoubleWitch     0.0    51.0   17.0          21.0      0.0    2.0    0.0   \n",
      "4352  DoubleWitch     0.0    51.0   18.0          27.0      0.0    2.0    0.0   \n",
      "\n",
      "      PROVINCE  DUCHY  ESTATE  GOLD  SILVER  COPPER  \n",
      "3          0.0    0.0     3.0   0.0     1.0     7.0  \n",
      "7          0.0    0.0     3.0   0.0     2.0     7.0  \n",
      "11         0.0    0.0     3.0   0.0     2.0     7.0  \n",
      "15         0.0    0.0     3.0   0.0     2.0     7.0  \n",
      "19         0.0    0.0     3.0   0.0     2.0     7.0  \n",
      "...        ...    ...     ...   ...     ...     ...  \n",
      "4336       2.0    0.0     3.0   4.0     7.0     7.0  \n",
      "4340       2.0    0.0     3.0   5.0     7.0     7.0  \n",
      "4344       3.0    0.0     3.0   5.0     7.0     7.0  \n",
      "4348       3.0    0.0     3.0   6.0     7.0     7.0  \n",
      "4352       4.0    0.0     3.0   6.0     7.0     7.0  \n",
      "\n",
      "[1075 rows x 14 columns]\n"
     ]
    }
   ],
   "source": [
    "#extract all DoubleWitch play-traces\n",
    "Traces_DoubleWitch = data[data['PlayerName'] == 'DoubleWitch'].loc[:, cols]\n",
    "print(Traces_DoubleWitch)"
   ]
  },
  {
   "cell_type": "code",
   "execution_count": 15,
   "id": "061cfd54",
   "metadata": {},
   "outputs": [
    {
     "name": "stdout",
     "output_type": "stream",
     "text": [
      "               PlayerName  Player  GameID  Round  CurrentScore  GARDENS  \\\n",
      "2     BigMoneyWithGardens     0.0     2.0    0.0           3.0      0.0   \n",
      "3             DoubleWitch     1.0     2.0    0.0           3.0      0.0   \n",
      "6     BigMoneyWithGardens     0.0     2.0    1.0           3.0      0.0   \n",
      "7             DoubleWitch     1.0     2.0    1.0           3.0      0.0   \n",
      "10    BigMoneyWithGardens     0.0     2.0    2.0           3.0      0.0   \n",
      "...                   ...     ...     ...    ...           ...      ...   \n",
      "4345  BigMoneyWithGardens     1.0    51.0   16.0           4.0      0.0   \n",
      "4348          DoubleWitch     0.0    51.0   17.0          21.0      0.0   \n",
      "4349  BigMoneyWithGardens     1.0    51.0   17.0          10.0      0.0   \n",
      "4352          DoubleWitch     0.0    51.0   18.0          27.0      0.0   \n",
      "4353  BigMoneyWithGardens     1.0    51.0   18.0          15.0      0.0   \n",
      "\n",
      "      WITCH  CURSE  PROVINCE  DUCHY  ESTATE  GOLD  SILVER  COPPER  \n",
      "2       0.0    0.0       0.0    0.0     3.0   0.0     1.0     7.0  \n",
      "3       0.0    0.0       0.0    0.0     3.0   0.0     1.0     7.0  \n",
      "6       0.0    0.0       0.0    0.0     3.0   0.0     2.0     7.0  \n",
      "7       0.0    0.0       0.0    0.0     3.0   0.0     2.0     7.0  \n",
      "10      0.0    0.0       0.0    0.0     3.0   0.0     3.0     7.0  \n",
      "...     ...    ...       ...    ...     ...   ...     ...     ...  \n",
      "4345    0.0    5.0       1.0    0.0     3.0   8.0     8.0     7.0  \n",
      "4348    2.0    0.0       3.0    0.0     3.0   6.0     7.0     7.0  \n",
      "4349    0.0    5.0       2.0    0.0     3.0   8.0     8.0     7.0  \n",
      "4352    2.0    0.0       4.0    0.0     3.0   6.0     7.0     7.0  \n",
      "4353    0.0    6.0       3.0    0.0     3.0   8.0     8.0     7.0  \n",
      "\n",
      "[2150 rows x 14 columns]\n"
     ]
    }
   ],
   "source": [
    "#all play taces in a single data frame\n",
    "traces = data.loc[:, cols]\n",
    "print(traces)"
   ]
  },
  {
   "cell_type": "code",
   "execution_count": 16,
   "id": "907bdbd1",
   "metadata": {},
   "outputs": [
    {
     "name": "stdout",
     "output_type": "stream",
     "text": [
      "25\n"
     ]
    }
   ],
   "source": [
    "#we need to make sure all games have the same number of rounds in them\n",
    "gameLengths = traces.groupby(['GameID'])['Round'].max()\n",
    "maxNoOfRounds = int(gameLengths.max()) + 1 #round counter starts at zero\n",
    "print(maxNoOfRounds)"
   ]
  },
  {
   "cell_type": "code",
   "execution_count": 17,
   "id": "d6e32dc8",
   "metadata": {},
   "outputs": [],
   "source": [
    "def copy_final_deck_at_game_end(group, roundMax, noPlayers):\n",
    "    #This function repeatedly copies the final decks of two players at the game end, so that the game is extended to \n",
    "    #have roundMax rounds\n",
    "    final_round = int(group['Round'].max())\n",
    "    if (roundMax-1) == final_round:\n",
    "        #in this case we dont need to extend the play trace\n",
    "        return group\n",
    "    else:\n",
    "        final_row_copy = pd.concat([group.iloc[-noPlayers:]] * ((roundMax-1) - final_round), ignore_index=True)\n",
    "        #we need to update the Round counter so that every other row it increments by one\n",
    "        final_row_copy['Round'] = [final_round + 1 + i // 2 for i in range(((roundMax-1) - final_round)*2)]\n",
    "        return pd.concat([group, final_row_copy], ignore_index=True)"
   ]
  },
  {
   "cell_type": "code",
   "execution_count": 18,
   "id": "7b083c75",
   "metadata": {},
   "outputs": [
    {
     "name": "stdout",
     "output_type": "stream",
     "text": [
      "               PlayerName  Player  GameID  Round  CurrentScore  GARDENS  \\\n",
      "0     BigMoneyWithGardens     0.0     2.0    0.0           3.0      0.0   \n",
      "1             DoubleWitch     1.0     2.0    0.0           3.0      0.0   \n",
      "2     BigMoneyWithGardens     0.0     2.0    1.0           3.0      0.0   \n",
      "3             DoubleWitch     1.0     2.0    1.0           3.0      0.0   \n",
      "4     BigMoneyWithGardens     0.0     2.0    2.0           3.0      0.0   \n",
      "...                   ...     ...     ...    ...           ...      ...   \n",
      "2495  BigMoneyWithGardens     1.0    51.0   22.0          15.0      0.0   \n",
      "2496          DoubleWitch     0.0    51.0   23.0          27.0      0.0   \n",
      "2497  BigMoneyWithGardens     1.0    51.0   23.0          15.0      0.0   \n",
      "2498          DoubleWitch     0.0    51.0   24.0          27.0      0.0   \n",
      "2499  BigMoneyWithGardens     1.0    51.0   24.0          15.0      0.0   \n",
      "\n",
      "      WITCH  CURSE  PROVINCE  DUCHY  ESTATE  GOLD  SILVER  COPPER  \n",
      "0       0.0    0.0       0.0    0.0     3.0   0.0     1.0     7.0  \n",
      "1       0.0    0.0       0.0    0.0     3.0   0.0     1.0     7.0  \n",
      "2       0.0    0.0       0.0    0.0     3.0   0.0     2.0     7.0  \n",
      "3       0.0    0.0       0.0    0.0     3.0   0.0     2.0     7.0  \n",
      "4       0.0    0.0       0.0    0.0     3.0   0.0     3.0     7.0  \n",
      "...     ...    ...       ...    ...     ...   ...     ...     ...  \n",
      "2495    0.0    6.0       3.0    0.0     3.0   8.0     8.0     7.0  \n",
      "2496    2.0    0.0       4.0    0.0     3.0   6.0     7.0     7.0  \n",
      "2497    0.0    6.0       3.0    0.0     3.0   8.0     8.0     7.0  \n",
      "2498    2.0    0.0       4.0    0.0     3.0   6.0     7.0     7.0  \n",
      "2499    0.0    6.0       3.0    0.0     3.0   8.0     8.0     7.0  \n",
      "\n",
      "[2500 rows x 14 columns]\n"
     ]
    }
   ],
   "source": [
    "extended_traces = traces.groupby('GameID').apply(copy_final_deck_at_game_end, maxNoOfRounds, noPlayers = 2).reset_index(drop = True)\n",
    "print(extended_traces)"
   ]
  },
  {
   "cell_type": "code",
   "execution_count": 19,
   "id": "3bf593bf",
   "metadata": {},
   "outputs": [
    {
     "name": "stdout",
     "output_type": "stream",
     "text": [
      "4950\n"
     ]
    }
   ],
   "source": [
    "noOfGames = extended_traces['GameID'].unique().size\n",
    "noOfOffDiagGameCombos = int(noOfGames *(noOfGames -1)/2.0) #for each off diag set of games there are 4 combinations of\n",
    "#player strategies (e.g. for games 2 and 3, we can compare bigmoney vs bigmoney, bigmoney vs singlewitch etc)\n",
    "#for 'diagonal' set of games there is just the one trace comparison available\n",
    "noOfPairWiseDistances = noOfOffDiagGameCombos * 4 + noOfGames\n",
    "print(noOfPairWiseDistances)"
   ]
  },
  {
   "cell_type": "code",
   "execution_count": 20,
   "id": "0a80e1a6",
   "metadata": {},
   "outputs": [],
   "source": [
    "#next we need to collect together all pairwise combinations of traces so that we can compute a distance measure\n",
    "\n",
    "# Step 1: Create a list of DataFrames for each 'off diagonal' combination of games\n",
    "unique_values = extended_traces['GameID'].unique()\n",
    "offdiag_combinations = list(itertools.combinations(unique_values, 2))\n",
    "diag_combos = [(i,i) for i in unique_values]\n",
    "combos = offdiag_combinations + diag_combos\n",
    "\n",
    "list_dfs = []\n",
    "for combination in combos:\n",
    "    #extract traces for each game ID and strategy combination\n",
    "    GameID_1, GameID_2 = combination\n",
    "    keys = []\n",
    "    if GameID_1 != GameID_2:\n",
    "        keys = [((GameID_1, 'BigMoneyWithGardens'), (GameID_2, 'BigMoneyWithGardens')),\n",
    "                ((GameID_1, 'BigMoneyWithGardens'), (GameID_2, 'DoubleWitch')),\n",
    "                ((GameID_1, 'DoubleWitch'), (GameID_2, 'BigMoneyWithGardens')),\n",
    "                ((GameID_1, 'DoubleWitch'), (GameID_2, 'DoubleWitch'))]\n",
    "    else:\n",
    "        keys = [((GameID_1, 'BigMoneyWithGardens'), (GameID_1, 'DoubleWitch'))]\n",
    "             \n",
    "    for key in keys:\n",
    "        key1, key2 = key\n",
    "        game1,player1 = key1\n",
    "        game2,player2 = key2\n",
    "        \n",
    "        #get data for key 1\n",
    "        df_A = extended_traces[(extended_traces['GameID'] == game1) & (extended_traces['PlayerName'] == player1)]\n",
    "        df_1 = df_A.rename(columns={'PlayerName' : 'PlayerName_1', 'Player': 'Player_1', 'GameID': 'GameID_1', \n",
    "                                                     'CurrentScore': 'CurrentScore_1', 'GARDENS': 'GARDENS_1',\n",
    "                                                     'WITCH': 'WITCH_1', 'CURSE': 'CURSE_1','PROVINCE': 'PROVINCE_1',\n",
    "                                                     'DUCHY':'DUCHY_1', 'ESTATE': 'ESTATE_1', 'GOLD': 'GOLD_1', \n",
    "                                                     'SILVER':'SILVER_1', 'COPPER':'COPPER_1'})\n",
    "        #next add opponents name for future reference\n",
    "        playerNo = (int)(df_1['Player_1'].unique()[0])\n",
    "        OpponentNo = 0\n",
    "        if playerNo == 0:\n",
    "            OpponentNo = 1\n",
    "        else:\n",
    "            OpponentNo = 0   \n",
    "        df_1['Opponent_1'] = [OpponentNo] * len(df_1['Player_1']) \n",
    "        df_1['OpponentName_1'] = df_1.apply(lambda df: assignName(df['GameID_1'], df['Opponent_1'], noGamesPerMatchUp), axis = 1)\n",
    "        \n",
    "        #get data for key 2\n",
    "        df_B = extended_traces[(extended_traces['GameID'] == game2) & (extended_traces['PlayerName'] == player2)]\n",
    "        df_2 = df_B.rename(columns={'PlayerName' : 'PlayerName_2', 'Player': 'Player_2', 'GameID': 'GameID_2', \n",
    "                                                     'CurrentScore': 'CurrentScore_2', 'GARDENS': 'GARDENS_2',\n",
    "                                                     'WITCH': 'WITCH_2', 'CURSE': 'CURSE_2','PROVINCE': 'PROVINCE_2',\n",
    "                                                     'DUCHY':'DUCHY_2', 'ESTATE': 'ESTATE_2', 'GOLD': 'GOLD_2', \n",
    "                                                     'SILVER':'SILVER_2', 'COPPER':'COPPER_2'})\n",
    "        \n",
    "        #add opponents name again\n",
    "        playerNo = (int)(df_2['Player_2'].unique()[0])\n",
    "        OpponentNo = 0\n",
    "        if playerNo == 0:\n",
    "            OpponentNo = 1\n",
    "        else:\n",
    "            OpponentNo = 0   \n",
    "        df_2['Opponent_2'] = [OpponentNo] * len(df_2['Player_2']) \n",
    "        df_2['OpponentName_2'] = df_2.apply(lambda df: assignName(df['GameID_2'], df['Opponent_2'], noGamesPerMatchUp), axis = 1)\n",
    "        \n",
    "        #next align play traces by linking the common round column\n",
    "        df_3 = pd.merge(df_1, df_2, on = 'Round')\n",
    "        \n",
    "        #then add to list of dfs\n",
    "        list_dfs.append(df_3)\n",
    "        \n",
    "#finally we need to append togther all the datafarmes in our list\n",
    "sym_trace_combos = pd.concat(list_dfs, ignore_index=True)"
   ]
  },
  {
   "cell_type": "code",
   "execution_count": 21,
   "id": "48fdfec9",
   "metadata": {},
   "outputs": [
    {
     "name": "stdout",
     "output_type": "stream",
     "text": [
      "123750\n"
     ]
    },
    {
     "data": {
      "text/plain": [
       "(123750, 31)"
      ]
     },
     "execution_count": 21,
     "metadata": {},
     "output_type": "execute_result"
    }
   ],
   "source": [
    "#the no of rows in our symmetric trace combos should be given by noOfPairwiseDistances * maxNoRounds\n",
    "print(noOfPairWiseDistances * maxNoOfRounds)\n",
    "sym_trace_combos.shape"
   ]
  },
  {
   "cell_type": "code",
   "execution_count": 22,
   "id": "fd07bedd",
   "metadata": {},
   "outputs": [],
   "source": [
    "#next step is to calculate the distance between the decks at each round for each given pair of play traces\n",
    "def deck_dist_measure(playTracePairForSingleRound, cardTypes):\n",
    "    dist = 0\n",
    "    for card in cardTypes:\n",
    "        col1 = card + \"_1\"\n",
    "        col2 = card + \"_2\"\n",
    "        dist += (playTracePairForSingleRound[col1]-playTracePairForSingleRound[col2])**2\n",
    "    dist = math.sqrt(dist)/math.sqrt(len(cardTypes))\n",
    "    return dist"
   ]
  },
  {
   "cell_type": "code",
   "execution_count": 23,
   "id": "7c5da75e",
   "metadata": {},
   "outputs": [],
   "source": [
    "sym_trace_combos['dist'] = sym_trace_combos.apply(lambda row: deck_dist_measure(row, card_types_BigMoneyWithGardens_vs_DoubleWitch), axis = 1)"
   ]
  },
  {
   "cell_type": "code",
   "execution_count": 24,
   "id": "78dd0e41",
   "metadata": {},
   "outputs": [
    {
     "name": "stdout",
     "output_type": "stream",
     "text": [
      "           PlayerName_1  Player_1  GameID_1  Round  CurrentScore_1  GARDENS_1  \\\n",
      "25  BigMoneyWithGardens       0.0       2.0    0.0             3.0        0.0   \n",
      "26  BigMoneyWithGardens       0.0       2.0    1.0             3.0        0.0   \n",
      "27  BigMoneyWithGardens       0.0       2.0    2.0             3.0        0.0   \n",
      "28  BigMoneyWithGardens       0.0       2.0    3.0             3.0        0.0   \n",
      "29  BigMoneyWithGardens       0.0       2.0    4.0             3.0        0.0   \n",
      "30  BigMoneyWithGardens       0.0       2.0    5.0             2.0        0.0   \n",
      "31  BigMoneyWithGardens       0.0       2.0    6.0             1.0        0.0   \n",
      "32  BigMoneyWithGardens       0.0       2.0    7.0             1.0        0.0   \n",
      "33  BigMoneyWithGardens       0.0       2.0    8.0             0.0        0.0   \n",
      "34  BigMoneyWithGardens       0.0       2.0    9.0             0.0        0.0   \n",
      "35  BigMoneyWithGardens       0.0       2.0   10.0             0.0        0.0   \n",
      "36  BigMoneyWithGardens       0.0       2.0   11.0             0.0        0.0   \n",
      "37  BigMoneyWithGardens       0.0       2.0   12.0            -1.0        0.0   \n",
      "38  BigMoneyWithGardens       0.0       2.0   13.0            -1.0        0.0   \n",
      "39  BigMoneyWithGardens       0.0       2.0   14.0            -1.0        0.0   \n",
      "40  BigMoneyWithGardens       0.0       2.0   15.0            -2.0        0.0   \n",
      "41  BigMoneyWithGardens       0.0       2.0   16.0             1.0        1.0   \n",
      "42  BigMoneyWithGardens       0.0       2.0   17.0             7.0        1.0   \n",
      "43  BigMoneyWithGardens       0.0       2.0   18.0            12.0        1.0   \n",
      "44  BigMoneyWithGardens       0.0       2.0   19.0            15.0        2.0   \n",
      "45  BigMoneyWithGardens       0.0       2.0   20.0            15.0        2.0   \n",
      "46  BigMoneyWithGardens       0.0       2.0   21.0            15.0        2.0   \n",
      "47  BigMoneyWithGardens       0.0       2.0   22.0            15.0        2.0   \n",
      "48  BigMoneyWithGardens       0.0       2.0   23.0            15.0        2.0   \n",
      "49  BigMoneyWithGardens       0.0       2.0   24.0            15.0        2.0   \n",
      "\n",
      "    WITCH_1  CURSE_1  PROVINCE_1  DUCHY_1  ...  CURSE_2  PROVINCE_2  DUCHY_2  \\\n",
      "25      0.0      0.0         0.0      0.0  ...      0.0         0.0      0.0   \n",
      "26      0.0      0.0         0.0      0.0  ...      0.0         0.0      0.0   \n",
      "27      0.0      0.0         0.0      0.0  ...      0.0         0.0      0.0   \n",
      "28      0.0      0.0         0.0      0.0  ...      0.0         0.0      0.0   \n",
      "29      0.0      0.0         0.0      0.0  ...      0.0         0.0      0.0   \n",
      "30      0.0      1.0         0.0      0.0  ...      0.0         0.0      0.0   \n",
      "31      0.0      2.0         0.0      0.0  ...      0.0         0.0      0.0   \n",
      "32      0.0      2.0         0.0      0.0  ...      0.0         0.0      0.0   \n",
      "33      0.0      3.0         0.0      0.0  ...      0.0         0.0      0.0   \n",
      "34      0.0      3.0         0.0      0.0  ...      0.0         0.0      0.0   \n",
      "35      0.0      3.0         0.0      0.0  ...      0.0         0.0      0.0   \n",
      "36      0.0      3.0         0.0      0.0  ...      0.0         0.0      0.0   \n",
      "37      0.0      4.0         0.0      0.0  ...      0.0         1.0      0.0   \n",
      "38      0.0      4.0         0.0      0.0  ...      0.0         1.0      0.0   \n",
      "39      0.0      4.0         0.0      0.0  ...      0.0         2.0      0.0   \n",
      "40      0.0      5.0         0.0      0.0  ...      0.0         3.0      0.0   \n",
      "41      0.0      5.0         0.0      0.0  ...      0.0         4.0      0.0   \n",
      "42      0.0      5.0         1.0      0.0  ...      0.0         4.0      1.0   \n",
      "43      0.0      6.0         2.0      0.0  ...      0.0         4.0      2.0   \n",
      "44      0.0      6.0         2.0      0.0  ...      0.0         5.0      2.0   \n",
      "45      0.0      6.0         2.0      0.0  ...      0.0         5.0      3.0   \n",
      "46      0.0      6.0         2.0      0.0  ...      0.0         5.0      3.0   \n",
      "47      0.0      6.0         2.0      0.0  ...      0.0         5.0      3.0   \n",
      "48      0.0      6.0         2.0      0.0  ...      0.0         5.0      3.0   \n",
      "49      0.0      6.0         2.0      0.0  ...      0.0         5.0      3.0   \n",
      "\n",
      "    ESTATE_2  GOLD_2 SILVER_2 COPPER_2  Opponent_2       OpponentName_2  \\\n",
      "25       3.0     0.0      1.0      7.0           0  BigMoneyWithGardens   \n",
      "26       3.0     0.0      2.0      7.0           0  BigMoneyWithGardens   \n",
      "27       3.0     0.0      2.0      7.0           0  BigMoneyWithGardens   \n",
      "28       3.0     0.0      2.0      7.0           0  BigMoneyWithGardens   \n",
      "29       3.0     0.0      2.0      7.0           0  BigMoneyWithGardens   \n",
      "30       3.0     0.0      2.0      7.0           0  BigMoneyWithGardens   \n",
      "31       3.0     0.0      3.0      7.0           0  BigMoneyWithGardens   \n",
      "32       3.0     0.0      4.0      7.0           0  BigMoneyWithGardens   \n",
      "33       3.0     1.0      4.0      7.0           0  BigMoneyWithGardens   \n",
      "34       3.0     2.0      4.0      7.0           0  BigMoneyWithGardens   \n",
      "35       3.0     3.0      4.0      7.0           0  BigMoneyWithGardens   \n",
      "36       3.0     4.0      4.0      7.0           0  BigMoneyWithGardens   \n",
      "37       3.0     4.0      4.0      7.0           0  BigMoneyWithGardens   \n",
      "38       3.0     4.0      5.0      7.0           0  BigMoneyWithGardens   \n",
      "39       3.0     4.0      5.0      7.0           0  BigMoneyWithGardens   \n",
      "40       3.0     4.0      5.0      7.0           0  BigMoneyWithGardens   \n",
      "41       3.0     4.0      5.0      7.0           0  BigMoneyWithGardens   \n",
      "42       3.0     4.0      5.0      7.0           0  BigMoneyWithGardens   \n",
      "43       3.0     4.0      5.0      7.0           0  BigMoneyWithGardens   \n",
      "44       3.0     4.0      5.0      7.0           0  BigMoneyWithGardens   \n",
      "45       3.0     4.0      5.0      7.0           0  BigMoneyWithGardens   \n",
      "46       4.0     4.0      5.0      7.0           0  BigMoneyWithGardens   \n",
      "47       4.0     4.0      5.0      7.0           0  BigMoneyWithGardens   \n",
      "48       4.0     4.0      5.0      7.0           0  BigMoneyWithGardens   \n",
      "49       4.0     4.0      5.0      7.0           0  BigMoneyWithGardens   \n",
      "\n",
      "        dist  \n",
      "25  0.000000  \n",
      "26  0.000000  \n",
      "27  0.333333  \n",
      "28  0.745356  \n",
      "29  1.201850  \n",
      "30  1.290994  \n",
      "31  1.333333  \n",
      "32  1.414214  \n",
      "33  1.527525  \n",
      "34  1.527525  \n",
      "35  1.527525  \n",
      "36  1.527525  \n",
      "37  1.943651  \n",
      "38  1.943651  \n",
      "39  2.160247  \n",
      "40  2.645751  \n",
      "41  2.808717  \n",
      "42  2.687419  \n",
      "43  2.867442  \n",
      "44  3.018462  \n",
      "45  3.109126  \n",
      "46  3.126944  \n",
      "47  3.126944  \n",
      "48  3.126944  \n",
      "49  3.126944  \n",
      "\n",
      "[25 rows x 32 columns]\n"
     ]
    }
   ],
   "source": [
    "#examine evolution of deck distance in a few examples\n",
    "game1 = 2\n",
    "game2 = 3\n",
    "player1 = 'BigMoneyWithGardens'\n",
    "player2 = 'DoubleWitch'\n",
    "#player2 = 'DoubleWitch'\n",
    "example = sym_trace_combos[(sym_trace_combos['GameID_1'] == game1) & (sym_trace_combos['GameID_2'] == game2) &\n",
    "                           (sym_trace_combos['PlayerName_1'] == player1) & (sym_trace_combos['PlayerName_2'] == player2)]\n",
    "print(example)"
   ]
  },
  {
   "cell_type": "code",
   "execution_count": 25,
   "id": "92b62ddf",
   "metadata": {},
   "outputs": [],
   "source": [
    "#next we need to define the distance between play traces based on the distance between decks at each round\n",
    "def trace_dist_measure(playTracePairForAllRounds, maxRounds):\n",
    "    return playTracePairForAllRounds['dist'].sum()/maxRounds"
   ]
  },
  {
   "cell_type": "code",
   "execution_count": 26,
   "id": "70f118fc",
   "metadata": {},
   "outputs": [],
   "source": [
    "#now compute all the pairwise trace distances\n",
    "pairwiseTraceDistances = sym_trace_combos[['GameID_1','GameID_2','PlayerName_1','PlayerName_2','dist']]\n",
    "pairwiseTraceDistances = pairwiseTraceDistances.groupby(['GameID_1','GameID_2','PlayerName_1','PlayerName_2'])['dist'].sum()\n",
    "df_pairwiseTraceDistances = pairwiseTraceDistances.reset_index()"
   ]
  },
  {
   "cell_type": "code",
   "execution_count": 27,
   "id": "39ccc864",
   "metadata": {},
   "outputs": [
    {
     "name": "stdout",
     "output_type": "stream",
     "text": [
      "      GameID_1  GameID_2         PlayerName_1         PlayerName_2       dist\n",
      "0          2.0       2.0  BigMoneyWithGardens          DoubleWitch  45.932217\n",
      "1          2.0       3.0  BigMoneyWithGardens  BigMoneyWithGardens  10.408512\n",
      "2          2.0       3.0  BigMoneyWithGardens          DoubleWitch  48.121423\n",
      "3          2.0       3.0          DoubleWitch  BigMoneyWithGardens  52.445052\n",
      "4          2.0       3.0          DoubleWitch          DoubleWitch  18.206014\n",
      "...        ...       ...                  ...                  ...        ...\n",
      "4945      50.0      51.0  BigMoneyWithGardens  BigMoneyWithGardens  42.291493\n",
      "4946      50.0      51.0  BigMoneyWithGardens          DoubleWitch  58.899209\n",
      "4947      50.0      51.0          DoubleWitch  BigMoneyWithGardens  43.492235\n",
      "4948      50.0      51.0          DoubleWitch          DoubleWitch  15.680529\n",
      "4949      51.0      51.0  BigMoneyWithGardens          DoubleWitch  34.579398\n",
      "\n",
      "[4950 rows x 5 columns]\n"
     ]
    }
   ],
   "source": [
    "print(df_pairwiseTraceDistances)"
   ]
  },
  {
   "cell_type": "code",
   "execution_count": 28,
   "id": "52d150d6",
   "metadata": {},
   "outputs": [
    {
     "name": "stdout",
     "output_type": "stream",
     "text": [
      "4950\n",
      "Mean BMBM: 24.43\n",
      "Mean DWDW: 18.07\n",
      "Mean BMDW: 50.81\n",
      "Std BMBM: 10.88\n",
      "Std DWDW: 6.35\n",
      "Std BMDW: 6.7\n"
     ]
    }
   ],
   "source": [
    "#next look at average distances between similar and different strategies as an initial sense check\n",
    "BMBM = df_pairwiseTraceDistances['dist'][(df_pairwiseTraceDistances['PlayerName_1'] == 'BigMoneyWithGardens') &\n",
    "                                        (df_pairwiseTraceDistances['PlayerName_2'] == 'BigMoneyWithGardens')]\n",
    "BMDW = df_pairwiseTraceDistances['dist'][(df_pairwiseTraceDistances['PlayerName_1'] == 'BigMoneyWithGardens') &\n",
    "                                        (df_pairwiseTraceDistances['PlayerName_2'] == 'DoubleWitch') |\n",
    "                                        (df_pairwiseTraceDistances['PlayerName_1'] == 'DoubleWitch') &\n",
    "                                        (df_pairwiseTraceDistances['PlayerName_2'] == 'BigMoneyWithGardens')]\n",
    "DWDW = df_pairwiseTraceDistances['dist'][(df_pairwiseTraceDistances['PlayerName_1'] == 'DoubleWitch') &\n",
    "                                        (df_pairwiseTraceDistances['PlayerName_2'] == 'DoubleWitch')]\n",
    "print(len(BMBM) + len(BMDW) + len(DWDW))\n",
    "print(\"Mean BMBM: \" + str(round(BMBM.mean(),2)))\n",
    "print(\"Mean DWDW: \" + str(round(DWDW.mean(),2)))\n",
    "print(\"Mean BMDW: \" + str(round(BMDW.mean(),2)))\n",
    "print(\"Std BMBM: \" + str(round(BMBM.std(),2)))\n",
    "print(\"Std DWDW: \" + str(round(DWDW.std(),2)))\n",
    "print(\"Std BMDW: \" + str(round(BMDW.std(),2)))"
   ]
  },
  {
   "cell_type": "code",
   "execution_count": 29,
   "id": "290ba3f7",
   "metadata": {},
   "outputs": [
    {
     "data": {
      "text/plain": [
       "<matplotlib.legend.Legend at 0x7f82f6192130>"
      ]
     },
     "execution_count": 29,
     "metadata": {},
     "output_type": "execute_result"
    },
    {
     "data": {
      "image/png": "[encoded data removed]",
      "text/plain": [
       "<Figure size 432x288 with 1 Axes>"
      ]
     },
     "metadata": {
      "needs_background": "light"
     },
     "output_type": "display_data"
    }
   ],
   "source": [
    "#plot distances along the real line and colour coded\n",
    "plt.scatter(BMBM, [0] * BMBM.shape[0], s = 2, label = 'Big Money With Gardens - Big Money With Gardens')\n",
    "plt.scatter(DWDW, [0.01] * DWDW.shape[0], s = 2, label = 'Double Witch - Double Witch')\n",
    "plt.scatter(BMDW, [0.02] * BMDW.shape[0], s = 2, label = 'Big Money With Gardens - Double Witch')\n",
    "plt.yticks([])\n",
    "plt.xlabel('Pairwise distances')\n",
    "plt.legend(loc = (1.1,0.77))"
   ]
  },
  {
   "cell_type": "code",
   "execution_count": 30,
   "id": "5bef6fde",
   "metadata": {},
   "outputs": [
    {
     "name": "stdout",
     "output_type": "stream",
     "text": [
      "      GameID_1  GameID_2         PlayerName_1       OpponentName_1  \\\n",
      "0          2.0       2.0  BigMoneyWithGardens          DoubleWitch   \n",
      "1          2.0       3.0  BigMoneyWithGardens          DoubleWitch   \n",
      "2          2.0       3.0  BigMoneyWithGardens          DoubleWitch   \n",
      "3          2.0       3.0          DoubleWitch  BigMoneyWithGardens   \n",
      "4          2.0       3.0          DoubleWitch  BigMoneyWithGardens   \n",
      "...        ...       ...                  ...                  ...   \n",
      "4945      50.0      51.0  BigMoneyWithGardens          DoubleWitch   \n",
      "4946      50.0      51.0  BigMoneyWithGardens          DoubleWitch   \n",
      "4947      50.0      51.0          DoubleWitch  BigMoneyWithGardens   \n",
      "4948      50.0      51.0          DoubleWitch  BigMoneyWithGardens   \n",
      "4949      51.0      51.0  BigMoneyWithGardens          DoubleWitch   \n",
      "\n",
      "             PlayerName_2       OpponentName_2       dist  \n",
      "0             DoubleWitch  BigMoneyWithGardens  45.932217  \n",
      "1     BigMoneyWithGardens          DoubleWitch  10.408512  \n",
      "2             DoubleWitch  BigMoneyWithGardens  48.121423  \n",
      "3     BigMoneyWithGardens          DoubleWitch  52.445052  \n",
      "4             DoubleWitch  BigMoneyWithGardens  18.206014  \n",
      "...                   ...                  ...        ...  \n",
      "4945  BigMoneyWithGardens          DoubleWitch  42.291493  \n",
      "4946          DoubleWitch  BigMoneyWithGardens  58.899209  \n",
      "4947  BigMoneyWithGardens          DoubleWitch  43.492235  \n",
      "4948          DoubleWitch  BigMoneyWithGardens  15.680529  \n",
      "4949          DoubleWitch  BigMoneyWithGardens  34.579398  \n",
      "\n",
      "[4950 rows x 7 columns]\n"
     ]
    }
   ],
   "source": [
    "#compute again our pairwise traces but this time also breakdown by opponent type\n",
    "pairTraceDistsGranular = sym_trace_combos[['GameID_1','GameID_2','PlayerName_1', 'OpponentName_1', 'PlayerName_2', 'OpponentName_2','dist']]\n",
    "pairTraceDistsGranular = sym_trace_combos.groupby(['GameID_1','GameID_2','PlayerName_1', 'OpponentName_1', 'PlayerName_2', 'OpponentName_2'])['dist'].sum()\n",
    "df_pairTraceDistsGranular = pairTraceDistsGranular.reset_index()\n",
    "print(df_pairTraceDistsGranular)"
   ]
  },
  {
   "cell_type": "code",
   "execution_count": 31,
   "id": "ade9149e",
   "metadata": {},
   "outputs": [
    {
     "name": "stdout",
     "output_type": "stream",
     "text": [
      "PlayerName_1         OpponentName_1       PlayerName_2         OpponentName_2     \n",
      "BigMoneyWithGardens  DoubleWitch          BigMoneyWithGardens  DoubleWitch            24.429889\n",
      "                                          DoubleWitch          BigMoneyWithGardens    50.883097\n",
      "DoubleWitch          BigMoneyWithGardens  BigMoneyWithGardens  DoubleWitch            50.728132\n",
      "                                          DoubleWitch          BigMoneyWithGardens    18.072101\n",
      "Name: dist, dtype: float64\n",
      "PlayerName_1         OpponentName_1       PlayerName_2         OpponentName_2     \n",
      "BigMoneyWithGardens  DoubleWitch          BigMoneyWithGardens  DoubleWitch            10.876007\n",
      "                                          DoubleWitch          BigMoneyWithGardens     6.344948\n",
      "DoubleWitch          BigMoneyWithGardens  BigMoneyWithGardens  DoubleWitch             7.054818\n",
      "                                          DoubleWitch          BigMoneyWithGardens     6.352721\n",
      "Name: dist, dtype: float64\n"
     ]
    }
   ],
   "source": [
    "results_means = pairTraceDistsGranular.groupby(['PlayerName_1', 'OpponentName_1', 'PlayerName_2', 'OpponentName_2']).mean()\n",
    "print(results_means)\n",
    "results_std = pairTraceDistsGranular.groupby(['PlayerName_1', 'OpponentName_1', 'PlayerName_2', 'OpponentName_2']).std()\n",
    "print(results_std)"
   ]
  },
  {
   "cell_type": "code",
   "execution_count": 32,
   "id": "4d42f01f",
   "metadata": {},
   "outputs": [
    {
     "name": "stdout",
     "output_type": "stream",
     "text": [
      "GameID_1                       31.0\n",
      "GameID_2                       46.0\n",
      "PlayerName_1    BigMoneyWithGardens\n",
      "PlayerName_2    BigMoneyWithGardens\n",
      "dist                       6.015253\n",
      "Name: 4146, dtype: object\n",
      "GameID_1                       20.0\n",
      "GameID_2                       39.0\n",
      "PlayerName_1    BigMoneyWithGardens\n",
      "PlayerName_2    BigMoneyWithGardens\n",
      "dist                      70.651037\n",
      "Name: 3007, dtype: object\n"
     ]
    }
   ],
   "source": [
    "#what is happening with the large distance value for BM vs BM? i.e. why the large amount of variance?\n",
    "#look at piarwise traces for smallest and largest distance values\n",
    "BMBM_data = df_pairwiseTraceDistances[(df_pairwiseTraceDistances['PlayerName_1'] == 'BigMoneyWithGardens') &\n",
    "                                        (df_pairwiseTraceDistances['PlayerName_2'] == 'BigMoneyWithGardens')]\n",
    "\n",
    "smallest_pairwise = BMBM_data.loc[BMBM_data['dist'].idxmin()]\n",
    "largest_pairwise = BMBM_data.loc[BMBM_data['dist'].idxmax()]\n",
    "print(smallest_pairwise)\n",
    "print(largest_pairwise)"
   ]
  },
  {
   "cell_type": "code",
   "execution_count": 38,
   "id": "ca1536a9",
   "metadata": {},
   "outputs": [],
   "source": [
    "def deck_evol_comparison(pairwise_deck_evols, cardTypes):\n",
    "    #look at evolution of number of cards of each type per round\n",
    "    noCardTypes = len(cardTypes)\n",
    "    noOfSubplotsInXDirection = 3\n",
    "    noOfSubplotsInYDirection = 3\n",
    "    fig, axs = plt.subplots(noOfSubplotsInXDirection, noOfSubplotsInYDirection)\n",
    "    for i in range(0,3):\n",
    "        for j in range(0,3):\n",
    "            cardIndex = 3*j + i\n",
    "            cardType = cardTypes[cardIndex]\n",
    "            card_col_1 = cardType + \"_1\"\n",
    "            card_col_2 = cardType + \"_2\"\n",
    "            axs[i,j].plot(pairwise_deck_evols['Round'], pairwise_deck_evols[card_col_1], label = 'Player_1')\n",
    "            axs[i,j].plot(pairwise_deck_evols['Round'], pairwise_deck_evols[card_col_2], label = 'Player_2')\n",
    "            axs[i,j].set_title(cardType)\n",
    "            axs[i,j].set_xlabel('Round')\n",
    "            fig.tight_layout() "
   ]
  },
  {
   "cell_type": "code",
   "execution_count": 42,
   "id": "7ce7a504",
   "metadata": {},
   "outputs": [
    {
     "name": "stdout",
     "output_type": "stream",
     "text": [
      "70.65103664377304\n",
      "6.015253102184546\n"
     ]
    }
   ],
   "source": [
    "#need to look at deck evolutions for each of these cases\n",
    "largest_pairwise_decks =  sym_trace_combos[(sym_trace_combos['GameID_1'] == largest_pairwise['GameID_1']) \n",
    "                                           & (sym_trace_combos['GameID_2'] == largest_pairwise['GameID_2']) \n",
    "                                           & (sym_trace_combos['PlayerName_1'] == largest_pairwise['PlayerName_1']) \n",
    "                                           & (sym_trace_combos['PlayerName_2'] == largest_pairwise['PlayerName_2'])]\n",
    "smallest_pairwise_decks =  sym_trace_combos[(sym_trace_combos['GameID_1'] == smallest_pairwise['GameID_1']) \n",
    "                                           & (sym_trace_combos['GameID_2'] == smallest_pairwise['GameID_2']) \n",
    "                                           & (sym_trace_combos['PlayerName_1'] == smallest_pairwise['PlayerName_1']) \n",
    "                                           & (sym_trace_combos['PlayerName_2'] == smallest_pairwise['PlayerName_2'])]\n",
    "print(largest_pairwise_decks['dist'].sum())\n",
    "print(smallest_pairwise_decks['dist'].sum())"
   ]
  },
  {
   "cell_type": "code",
   "execution_count": 40,
   "id": "0dc6f37a",
   "metadata": {},
   "outputs": [
    {
     "data": {
      "image/png": "[encoded data removed]",
      "text/plain": [
       "<Figure size 432x288 with 9 Axes>"
      ]
     },
     "metadata": {
      "needs_background": "light"
     },
     "output_type": "display_data"
    }
   ],
   "source": [
    "deck_evol_comparison(largest_pairwise_decks, card_types_BigMoneyWithGardens_vs_DoubleWitch)"
   ]
  },
  {
   "cell_type": "code",
   "execution_count": 43,
   "id": "62813228",
   "metadata": {},
   "outputs": [
    {
     "data": {
      "image/png": "[encoded data removed]",
      "text/plain": [
       "<Figure size 432x288 with 9 Axes>"
      ]
     },
     "metadata": {
      "needs_background": "light"
     },
     "output_type": "display_data"
    }
   ],
   "source": [
    "deck_evol_comparison(smallest_pairwise_decks, card_types_BigMoneyWithGardens_vs_DoubleWitch)"
   ]
  },
  {
   "cell_type": "code",
   "execution_count": 35,
   "id": "e1ad34c1",
   "metadata": {},
   "outputs": [],
   "source": [
    "#note similarity metric is getting artifically inflated by games that last longer? All games last 24 turns, but if\n",
    "#difference in deck is quite large and game ends at round 20,this distance is copied for each of the remaining rounds?\n",
    "#compare samllest and largest differences to see what is driving this.\n",
    "#do games end quicker when the deck difference is bigger? Which then inflates the distance metric?"
   ]
  }
 ],
 "metadata": {
  "kernelspec": {
   "display_name": "Python 3 (ipykernel)",
   "language": "python",
   "name": "python3"
  },
  "language_info": {
   "codemirror_mode": {
    "name": "ipython",
    "version": 3
   },
   "file_extension": ".py",
   "mimetype": "text/x-python",
   "name": "python",
   "nbconvert_exporter": "python",
   "pygments_lexer": "ipython3",
   "version": "3.9.12"
  }
 },
 "nbformat": 4,
 "nbformat_minor": 5
}
