{
 "cells": [
  {
   "cell_type": "code",
   "execution_count": 1,
   "id": "7bcf8797",
   "metadata": {},
   "outputs": [],
   "source": [
    "#assumptions that will break if we use MCTS for play traces in this code\n",
    "#1. Turn wont be either 0 or 1\n",
    "#2. Cant just copy the final two rows to extend round number to maxNoOfRounds\n",
    "\n",
    "#comments: So play traces for a given strategy will change dependent on the opponent's strategy, e.g. evolution of \n",
    "#bigmoney deck is different if it is played vs another bigmoney startegy as opposed to say a witch strategy which will \n",
    "#introduce curse cards into the bigmoney trace"
   ]
  },
  {
   "cell_type": "code",
   "execution_count": 2,
   "id": "203d1a10",
   "metadata": {},
   "outputs": [],
   "source": [
    "import pandas as pd\n",
    "import pdb\n",
    "import math\n",
    "import matplotlib.pyplot as plt\n",
    "#from sklearn.manifold import MDS \n",
    "from sklearn.cluster import KMeans\n",
    "import itertools\n",
    "pd.set_option('display.max_rows', 100)\n",
    "noPlayers = 2"
   ]
  },
  {
   "cell_type": "code",
   "execution_count": 3,
   "id": "f6a2cc71",
   "metadata": {},
   "outputs": [],
   "source": [
    "data  = pd.read_csv(\"data/featureslogfile.txt\", sep = '\\t')"
   ]
  },
  {
   "cell_type": "code",
   "execution_count": 4,
   "id": "5d7d052a",
   "metadata": {},
   "outputs": [
    {
     "name": "stdout",
     "output_type": "stream",
     "text": [
      "Index(['GameID', 'Player', 'Round', 'Turn', 'CurrentScore', 'SCORE',\n",
      "       'SCORE_ADV', 'ORDINAL', 'OUR_TURN', 'HAS_WON', 'FINAL_ORD', 'ROUND',\n",
      "       'CURSE', 'ESTATE', 'DUCHY', 'PROVINCE', 'COPPER', 'SILVER', 'GOLD',\n",
      "       'CELLAR', 'CHAPEL', 'MOAT', 'HARBINGER', 'MERCHANT', 'VASSAL',\n",
      "       'VILLAGE', 'WORKSHOP', 'BUREAUCRAT', 'GARDENS', 'MILITIA',\n",
      "       'MONEYLENDER', 'POACHER', 'REMODEL', 'SMITHY', 'THRONE_ROOM', 'BANDIT',\n",
      "       'COUNCIL_ROOM', 'FESTIVAL', 'LABORATORY', 'LIBRARY', 'MARKET', 'MINE',\n",
      "       'SENTRY', 'WITCH', 'ARTISAN', 'PlayerCount', 'TotalRounds',\n",
      "       'ActionScore', 'Win', 'Ordinal', 'FinalScore'],\n",
      "      dtype='object')\n"
     ]
    }
   ],
   "source": [
    "print(data.columns)"
   ]
  },
  {
   "cell_type": "code",
   "execution_count": 5,
   "id": "8ea18697",
   "metadata": {},
   "outputs": [
    {
     "name": "stdout",
     "output_type": "stream",
     "text": [
      "[ 2.  3.  4.  5.  6.  7.  8.  9. 10. 11. 12. 13. 14. 15. 16. 17. 18. 19.\n",
      " 20. 21. 22. 23. 24. 25. 26. 27. 28. 29. 30. 31. 32. 33. 34. 35. 36. 37.\n",
      " 38. 39. 40. 41. 42. 43. 44. 45. 46. 47. 48. 49. 50. 51.]\n"
     ]
    }
   ],
   "source": [
    "#check number of games\n",
    "print(data['GameID'].unique())"
   ]
  },
  {
   "cell_type": "code",
   "execution_count": 6,
   "id": "68017337",
   "metadata": {},
   "outputs": [],
   "source": [
    "#note that Player field swaps round half way through the tournament when there are two players. Also the GameID starts\n",
    "#at 2 for some reason\n",
    "noGamesPerMatchUp = 25\n",
    "def assignName(gameID, player, noGamesPerMatchUp):\n",
    "    name = \"\"\n",
    "    if gameID < (noGamesPerMatchUp + 2):\n",
    "        if player == 0:\n",
    "            name = 'BigMoneyWithGardens'\n",
    "        else:\n",
    "            name = 'DoubleWitch'\n",
    "    else:\n",
    "        if player == 1:\n",
    "            name = 'BigMoneyWithGardens'\n",
    "        else:\n",
    "            name = 'DoubleWitch'\n",
    "    return name"
   ]
  },
  {
   "cell_type": "code",
   "execution_count": 7,
   "id": "5e6f4169",
   "metadata": {},
   "outputs": [],
   "source": [
    "#add label for player types\n",
    "data['PlayerName'] = data.apply(lambda df: assignName(df['GameID'], df['Player'], noGamesPerMatchUp), axis = 1)"
   ]
  },
  {
   "cell_type": "code",
   "execution_count": 8,
   "id": "e24093be",
   "metadata": {},
   "outputs": [
    {
     "name": "stdout",
     "output_type": "stream",
     "text": [
      "[0. 1.]\n",
      "[1.]\n"
     ]
    }
   ],
   "source": [
    "#we can only record events each turn so we need to use the final turn in each round for each player to determine their\n",
    "#deck at the end of the round\n",
    "print(data['Turn'].unique())\n",
    "data = data[data['Turn'] == 1]\n",
    "print(data['Turn'].unique())"
   ]
  },
  {
   "cell_type": "code",
   "execution_count": 9,
   "id": "113baaf0",
   "metadata": {},
   "outputs": [],
   "source": [
    "#extract columns of interest \n",
    "card_types_in_supply = ['ARTISAN', 'BANDIT', 'BUREAUCRAT', 'CHAPEL', 'FESTIVAL', 'GARDENS', 'SENTRY',\n",
    "                        'THRONE ROOM', 'WITCH', 'CURSE','WORKSHOP','PROVINCE', 'DUCHY', 'ESTATE', 'GOLD', 'SILVER', 'COPPER']\n",
    "card_types_BigMoneyWithGardens_vs_DoubleWitch = ['GARDENS', 'WITCH', 'CURSE', 'PROVINCE', 'DUCHY', 'ESTATE', 'GOLD', 'SILVER', 'COPPER']\n",
    "cols = ['PlayerName', 'Player', 'GameID', 'Round', 'CurrentScore']\n",
    "cols = cols + card_types_BigMoneyWithGardens_vs_DoubleWitch"
   ]
  },
  {
   "cell_type": "code",
   "execution_count": 10,
   "id": "08b1fa6b",
   "metadata": {},
   "outputs": [
    {
     "name": "stdout",
     "output_type": "stream",
     "text": [
      "               PlayerName  Player  GameID  Round  CurrentScore  GARDENS  \\\n",
      "2     BigMoneyWithGardens     0.0     2.0    0.0           3.0      0.0   \n",
      "3             DoubleWitch     1.0     2.0    0.0           3.0      0.0   \n",
      "6     BigMoneyWithGardens     0.0     2.0    1.0           3.0      0.0   \n",
      "7             DoubleWitch     1.0     2.0    1.0           3.0      0.0   \n",
      "10    BigMoneyWithGardens     0.0     2.0    2.0           3.0      0.0   \n",
      "...                   ...     ...     ...    ...           ...      ...   \n",
      "4345  BigMoneyWithGardens     1.0    51.0   16.0           4.0      0.0   \n",
      "4348          DoubleWitch     0.0    51.0   17.0          21.0      0.0   \n",
      "4349  BigMoneyWithGardens     1.0    51.0   17.0          10.0      0.0   \n",
      "4352          DoubleWitch     0.0    51.0   18.0          27.0      0.0   \n",
      "4353  BigMoneyWithGardens     1.0    51.0   18.0          15.0      0.0   \n",
      "\n",
      "      WITCH  CURSE  PROVINCE  DUCHY  ESTATE  GOLD  SILVER  COPPER  \n",
      "2       0.0    0.0       0.0    0.0     3.0   0.0     1.0     7.0  \n",
      "3       0.0    0.0       0.0    0.0     3.0   0.0     1.0     7.0  \n",
      "6       0.0    0.0       0.0    0.0     3.0   0.0     2.0     7.0  \n",
      "7       0.0    0.0       0.0    0.0     3.0   0.0     2.0     7.0  \n",
      "10      0.0    0.0       0.0    0.0     3.0   0.0     3.0     7.0  \n",
      "...     ...    ...       ...    ...     ...   ...     ...     ...  \n",
      "4345    0.0    5.0       1.0    0.0     3.0   8.0     8.0     7.0  \n",
      "4348    2.0    0.0       3.0    0.0     3.0   6.0     7.0     7.0  \n",
      "4349    0.0    5.0       2.0    0.0     3.0   8.0     8.0     7.0  \n",
      "4352    2.0    0.0       4.0    0.0     3.0   6.0     7.0     7.0  \n",
      "4353    0.0    6.0       3.0    0.0     3.0   8.0     8.0     7.0  \n",
      "\n",
      "[2150 rows x 14 columns]\n"
     ]
    }
   ],
   "source": [
    "#all play taces in a single data frame\n",
    "traces = data.loc[:, cols]\n",
    "print(traces)"
   ]
  },
  {
   "cell_type": "code",
   "execution_count": 11,
   "id": "64712c11",
   "metadata": {},
   "outputs": [
    {
     "name": "stdout",
     "output_type": "stream",
     "text": [
      "25\n"
     ]
    }
   ],
   "source": [
    "#we need to make sure all games have the same number of rounds in them\n",
    "gameLengths = traces.groupby(['GameID'])['Round'].max()\n",
    "maxNoOfRounds = int(gameLengths.max()) + 1 #round counter starts at zero\n",
    "print(maxNoOfRounds)"
   ]
  },
  {
   "cell_type": "code",
   "execution_count": 12,
   "id": "298bbb35",
   "metadata": {},
   "outputs": [],
   "source": [
    "def copy_final_deck_at_game_end(group, roundMax, noPlayers):\n",
    "    #This function repeatedly copies the final decks of two players at the game end, so that the game is extended to \n",
    "    #have roundMax rounds\n",
    "    final_round = int(group['Round'].max())\n",
    "    if (roundMax-1) == final_round:\n",
    "        #in this case we dont need to extend the play trace\n",
    "        return group\n",
    "    else:\n",
    "        final_row_copy = pd.concat([group.iloc[-noPlayers:]] * ((roundMax-1) - final_round), ignore_index=True)\n",
    "        #we need to update the Round counter so that every other row it increments by one\n",
    "        final_row_copy['Round'] = [final_round + 1 + i // 2 for i in range(((roundMax-1) - final_round)*2)]\n",
    "        return pd.concat([group, final_row_copy], ignore_index=True)"
   ]
  },
  {
   "cell_type": "code",
   "execution_count": 13,
   "id": "8aba9051",
   "metadata": {},
   "outputs": [
    {
     "name": "stdout",
     "output_type": "stream",
     "text": [
      "               PlayerName  Player  GameID  Round  CurrentScore  GARDENS  \\\n",
      "0     BigMoneyWithGardens     0.0     2.0    0.0           3.0      0.0   \n",
      "1             DoubleWitch     1.0     2.0    0.0           3.0      0.0   \n",
      "2     BigMoneyWithGardens     0.0     2.0    1.0           3.0      0.0   \n",
      "3             DoubleWitch     1.0     2.0    1.0           3.0      0.0   \n",
      "4     BigMoneyWithGardens     0.0     2.0    2.0           3.0      0.0   \n",
      "...                   ...     ...     ...    ...           ...      ...   \n",
      "2495  BigMoneyWithGardens     1.0    51.0   22.0          15.0      0.0   \n",
      "2496          DoubleWitch     0.0    51.0   23.0          27.0      0.0   \n",
      "2497  BigMoneyWithGardens     1.0    51.0   23.0          15.0      0.0   \n",
      "2498          DoubleWitch     0.0    51.0   24.0          27.0      0.0   \n",
      "2499  BigMoneyWithGardens     1.0    51.0   24.0          15.0      0.0   \n",
      "\n",
      "      WITCH  CURSE  PROVINCE  DUCHY  ESTATE  GOLD  SILVER  COPPER  \n",
      "0       0.0    0.0       0.0    0.0     3.0   0.0     1.0     7.0  \n",
      "1       0.0    0.0       0.0    0.0     3.0   0.0     1.0     7.0  \n",
      "2       0.0    0.0       0.0    0.0     3.0   0.0     2.0     7.0  \n",
      "3       0.0    0.0       0.0    0.0     3.0   0.0     2.0     7.0  \n",
      "4       0.0    0.0       0.0    0.0     3.0   0.0     3.0     7.0  \n",
      "...     ...    ...       ...    ...     ...   ...     ...     ...  \n",
      "2495    0.0    6.0       3.0    0.0     3.0   8.0     8.0     7.0  \n",
      "2496    2.0    0.0       4.0    0.0     3.0   6.0     7.0     7.0  \n",
      "2497    0.0    6.0       3.0    0.0     3.0   8.0     8.0     7.0  \n",
      "2498    2.0    0.0       4.0    0.0     3.0   6.0     7.0     7.0  \n",
      "2499    0.0    6.0       3.0    0.0     3.0   8.0     8.0     7.0  \n",
      "\n",
      "[2500 rows x 14 columns]\n"
     ]
    }
   ],
   "source": [
    "extended_traces = traces.groupby('GameID').apply(copy_final_deck_at_game_end, maxNoOfRounds, noPlayers = 2).reset_index(drop = True)\n",
    "print(extended_traces)"
   ]
  },
  {
   "cell_type": "code",
   "execution_count": 14,
   "id": "0a958569",
   "metadata": {},
   "outputs": [
    {
     "name": "stdout",
     "output_type": "stream",
     "text": [
      "             PlayerName  Player  GameID  GARDENS_R0  WITCH_R0  CURSE_R0  \\\n",
      "0   BigMoneyWithGardens     0.0     2.0         0.0       0.0       0.0   \n",
      "1   BigMoneyWithGardens     0.0     3.0         0.0       0.0       0.0   \n",
      "2   BigMoneyWithGardens     0.0     4.0         0.0       0.0       0.0   \n",
      "3   BigMoneyWithGardens     0.0     5.0         0.0       0.0       0.0   \n",
      "4   BigMoneyWithGardens     0.0     6.0         0.0       0.0       0.0   \n",
      "5   BigMoneyWithGardens     0.0     7.0         0.0       0.0       0.0   \n",
      "6   BigMoneyWithGardens     0.0     8.0         0.0       0.0       0.0   \n",
      "7   BigMoneyWithGardens     0.0     9.0         0.0       0.0       0.0   \n",
      "8   BigMoneyWithGardens     0.0    10.0         0.0       0.0       0.0   \n",
      "9   BigMoneyWithGardens     0.0    11.0         0.0       0.0       0.0   \n",
      "10  BigMoneyWithGardens     0.0    12.0         0.0       0.0       0.0   \n",
      "11  BigMoneyWithGardens     0.0    13.0         0.0       0.0       0.0   \n",
      "12  BigMoneyWithGardens     0.0    14.0         0.0       0.0       0.0   \n",
      "13  BigMoneyWithGardens     0.0    15.0         0.0       0.0       0.0   \n",
      "14  BigMoneyWithGardens     0.0    16.0         0.0       0.0       0.0   \n",
      "15  BigMoneyWithGardens     0.0    17.0         0.0       0.0       0.0   \n",
      "16  BigMoneyWithGardens     0.0    18.0         0.0       0.0       0.0   \n",
      "17  BigMoneyWithGardens     0.0    19.0         0.0       0.0       0.0   \n",
      "18  BigMoneyWithGardens     0.0    20.0         0.0       0.0       0.0   \n",
      "19  BigMoneyWithGardens     0.0    21.0         0.0       0.0       0.0   \n",
      "20  BigMoneyWithGardens     0.0    22.0         0.0       0.0       0.0   \n",
      "21  BigMoneyWithGardens     0.0    23.0         0.0       0.0       0.0   \n",
      "22  BigMoneyWithGardens     0.0    24.0         0.0       0.0       0.0   \n",
      "23  BigMoneyWithGardens     0.0    25.0         0.0       0.0       0.0   \n",
      "24  BigMoneyWithGardens     0.0    26.0         0.0       0.0       0.0   \n",
      "25  BigMoneyWithGardens     1.0    27.0         0.0       0.0       0.0   \n",
      "26  BigMoneyWithGardens     1.0    28.0         0.0       0.0       0.0   \n",
      "27  BigMoneyWithGardens     1.0    29.0         0.0       0.0       0.0   \n",
      "28  BigMoneyWithGardens     1.0    30.0         0.0       0.0       0.0   \n",
      "29  BigMoneyWithGardens     1.0    31.0         0.0       0.0       0.0   \n",
      "30  BigMoneyWithGardens     1.0    32.0         0.0       0.0       0.0   \n",
      "31  BigMoneyWithGardens     1.0    33.0         0.0       0.0       0.0   \n",
      "32  BigMoneyWithGardens     1.0    34.0         0.0       0.0       0.0   \n",
      "33  BigMoneyWithGardens     1.0    35.0         0.0       0.0       0.0   \n",
      "34  BigMoneyWithGardens     1.0    36.0         0.0       0.0       0.0   \n",
      "35  BigMoneyWithGardens     1.0    37.0         0.0       0.0       0.0   \n",
      "36  BigMoneyWithGardens     1.0    38.0         0.0       0.0       0.0   \n",
      "37  BigMoneyWithGardens     1.0    39.0         0.0       0.0       0.0   \n",
      "38  BigMoneyWithGardens     1.0    40.0         0.0       0.0       0.0   \n",
      "39  BigMoneyWithGardens     1.0    41.0         0.0       0.0       0.0   \n",
      "40  BigMoneyWithGardens     1.0    42.0         0.0       0.0       0.0   \n",
      "41  BigMoneyWithGardens     1.0    43.0         0.0       0.0       0.0   \n",
      "42  BigMoneyWithGardens     1.0    44.0         0.0       0.0       0.0   \n",
      "43  BigMoneyWithGardens     1.0    45.0         0.0       0.0       0.0   \n",
      "44  BigMoneyWithGardens     1.0    46.0         0.0       0.0       0.0   \n",
      "45  BigMoneyWithGardens     1.0    47.0         0.0       0.0       0.0   \n",
      "46  BigMoneyWithGardens     1.0    48.0         0.0       0.0       0.0   \n",
      "47  BigMoneyWithGardens     1.0    49.0         0.0       0.0       0.0   \n",
      "48  BigMoneyWithGardens     1.0    50.0         0.0       0.0       0.0   \n",
      "49  BigMoneyWithGardens     1.0    51.0         0.0       0.0       0.0   \n",
      "50          DoubleWitch     0.0    27.0         0.0       0.0       0.0   \n",
      "51          DoubleWitch     0.0    28.0         0.0       0.0       0.0   \n",
      "52          DoubleWitch     0.0    29.0         0.0       0.0       0.0   \n",
      "53          DoubleWitch     0.0    30.0         0.0       0.0       0.0   \n",
      "54          DoubleWitch     0.0    31.0         0.0       0.0       0.0   \n",
      "55          DoubleWitch     0.0    32.0         0.0       0.0       0.0   \n",
      "56          DoubleWitch     0.0    33.0         0.0       0.0       0.0   \n",
      "57          DoubleWitch     0.0    34.0         0.0       0.0       0.0   \n",
      "58          DoubleWitch     0.0    35.0         0.0       0.0       0.0   \n",
      "59          DoubleWitch     0.0    36.0         0.0       0.0       0.0   \n",
      "60          DoubleWitch     0.0    37.0         0.0       0.0       0.0   \n",
      "61          DoubleWitch     0.0    38.0         0.0       0.0       0.0   \n",
      "62          DoubleWitch     0.0    39.0         0.0       0.0       0.0   \n",
      "63          DoubleWitch     0.0    40.0         0.0       0.0       0.0   \n",
      "64          DoubleWitch     0.0    41.0         0.0       0.0       0.0   \n",
      "65          DoubleWitch     0.0    42.0         0.0       0.0       0.0   \n",
      "66          DoubleWitch     0.0    43.0         0.0       0.0       0.0   \n",
      "67          DoubleWitch     0.0    44.0         0.0       0.0       0.0   \n",
      "68          DoubleWitch     0.0    45.0         0.0       0.0       0.0   \n",
      "69          DoubleWitch     0.0    46.0         0.0       0.0       0.0   \n",
      "70          DoubleWitch     0.0    47.0         0.0       0.0       0.0   \n",
      "71          DoubleWitch     0.0    48.0         0.0       0.0       0.0   \n",
      "72          DoubleWitch     0.0    49.0         0.0       0.0       0.0   \n",
      "73          DoubleWitch     0.0    50.0         0.0       1.0       0.0   \n",
      "74          DoubleWitch     0.0    51.0         0.0       0.0       0.0   \n",
      "75          DoubleWitch     1.0     2.0         0.0       0.0       0.0   \n",
      "76          DoubleWitch     1.0     3.0         0.0       0.0       0.0   \n",
      "77          DoubleWitch     1.0     4.0         0.0       0.0       0.0   \n",
      "78          DoubleWitch     1.0     5.0         0.0       0.0       0.0   \n",
      "79          DoubleWitch     1.0     6.0         0.0       0.0       0.0   \n",
      "80          DoubleWitch     1.0     7.0         0.0       0.0       0.0   \n",
      "81          DoubleWitch     1.0     8.0         0.0       0.0       0.0   \n",
      "82          DoubleWitch     1.0     9.0         0.0       0.0       0.0   \n",
      "83          DoubleWitch     1.0    10.0         0.0       0.0       0.0   \n",
      "84          DoubleWitch     1.0    11.0         0.0       0.0       0.0   \n",
      "85          DoubleWitch     1.0    12.0         0.0       0.0       0.0   \n",
      "86          DoubleWitch     1.0    13.0         0.0       1.0       0.0   \n",
      "87          DoubleWitch     1.0    14.0         0.0       0.0       0.0   \n",
      "88          DoubleWitch     1.0    15.0         0.0       0.0       0.0   \n",
      "89          DoubleWitch     1.0    16.0         0.0       0.0       0.0   \n",
      "90          DoubleWitch     1.0    17.0         0.0       0.0       0.0   \n",
      "91          DoubleWitch     1.0    18.0         0.0       0.0       0.0   \n",
      "92          DoubleWitch     1.0    19.0         0.0       0.0       0.0   \n",
      "93          DoubleWitch     1.0    20.0         0.0       0.0       0.0   \n",
      "94          DoubleWitch     1.0    21.0         0.0       0.0       0.0   \n",
      "95          DoubleWitch     1.0    22.0         0.0       0.0       0.0   \n",
      "96          DoubleWitch     1.0    23.0         0.0       0.0       0.0   \n",
      "97          DoubleWitch     1.0    24.0         0.0       0.0       0.0   \n",
      "98          DoubleWitch     1.0    25.0         0.0       0.0       0.0   \n",
      "99          DoubleWitch     1.0    26.0         0.0       0.0       0.0   \n",
      "\n",
      "    PROVINCE_R0  DUCHY_R0  ESTATE_R0  GOLD_R0  ...  COPPER_R23  GARDENS_R24  \\\n",
      "0           0.0       0.0        3.0      0.0  ...         7.0          2.0   \n",
      "1           0.0       0.0        3.0      0.0  ...         7.0          3.0   \n",
      "2           0.0       0.0        3.0      0.0  ...         7.0          1.0   \n",
      "3           0.0       0.0        3.0      0.0  ...         7.0          2.0   \n",
      "4           0.0       0.0        3.0      0.0  ...         7.0          1.0   \n",
      "5           0.0       0.0        3.0      0.0  ...         7.0          6.0   \n",
      "6           0.0       0.0        3.0      0.0  ...         7.0          4.0   \n",
      "7           0.0       0.0        3.0      0.0  ...         7.0          4.0   \n",
      "8           0.0       0.0        3.0      0.0  ...         7.0          4.0   \n",
      "9           0.0       0.0        3.0      0.0  ...         7.0          5.0   \n",
      "10          0.0       0.0        3.0      0.0  ...         7.0          1.0   \n",
      "11          0.0       0.0        3.0      0.0  ...         7.0          3.0   \n",
      "12          0.0       0.0        3.0      0.0  ...         7.0          2.0   \n",
      "13          0.0       0.0        3.0      0.0  ...         7.0          3.0   \n",
      "14          0.0       0.0        3.0      0.0  ...         7.0          4.0   \n",
      "15          0.0       0.0        3.0      0.0  ...         7.0          2.0   \n",
      "16          0.0       0.0        3.0      0.0  ...         7.0          5.0   \n",
      "17          0.0       0.0        3.0      0.0  ...         7.0          1.0   \n",
      "18          0.0       0.0        3.0      0.0  ...         7.0          3.0   \n",
      "19          0.0       0.0        3.0      0.0  ...         7.0          4.0   \n",
      "20          0.0       0.0        3.0      0.0  ...         7.0          2.0   \n",
      "21          0.0       0.0        3.0      0.0  ...         7.0          0.0   \n",
      "22          0.0       0.0        3.0      0.0  ...         7.0          4.0   \n",
      "23          0.0       0.0        3.0      0.0  ...         7.0          3.0   \n",
      "24          0.0       0.0        3.0      0.0  ...         7.0          4.0   \n",
      "25          0.0       0.0        3.0      0.0  ...         7.0          1.0   \n",
      "26          0.0       0.0        3.0      0.0  ...         7.0          6.0   \n",
      "27          0.0       0.0        3.0      0.0  ...         7.0          3.0   \n",
      "28          0.0       0.0        3.0      0.0  ...         7.0          5.0   \n",
      "29          0.0       0.0        3.0      0.0  ...         7.0          1.0   \n",
      "30          0.0       0.0        3.0      0.0  ...         7.0          4.0   \n",
      "31          0.0       0.0        3.0      0.0  ...         7.0          3.0   \n",
      "32          0.0       0.0        3.0      0.0  ...         7.0          1.0   \n",
      "33          0.0       0.0        3.0      0.0  ...         7.0          5.0   \n",
      "34          0.0       0.0        3.0      0.0  ...         7.0          3.0   \n",
      "35          0.0       0.0        3.0      0.0  ...         7.0          7.0   \n",
      "36          0.0       0.0        3.0      0.0  ...         7.0          4.0   \n",
      "37          0.0       0.0        3.0      0.0  ...         7.0          3.0   \n",
      "38          0.0       0.0        3.0      0.0  ...         7.0          4.0   \n",
      "39          0.0       0.0        3.0      0.0  ...         7.0          1.0   \n",
      "40          0.0       0.0        3.0      0.0  ...         7.0          3.0   \n",
      "41          0.0       0.0        3.0      0.0  ...         7.0          5.0   \n",
      "42          0.0       0.0        3.0      0.0  ...         7.0          3.0   \n",
      "43          0.0       0.0        3.0      0.0  ...         7.0          4.0   \n",
      "44          0.0       0.0        3.0      0.0  ...         7.0          1.0   \n",
      "45          0.0       0.0        3.0      0.0  ...         7.0          2.0   \n",
      "46          0.0       0.0        3.0      0.0  ...         7.0          1.0   \n",
      "47          0.0       0.0        3.0      0.0  ...         7.0          4.0   \n",
      "48          0.0       0.0        3.0      0.0  ...         7.0          2.0   \n",
      "49          0.0       0.0        3.0      0.0  ...         7.0          0.0   \n",
      "50          0.0       0.0        3.0      0.0  ...         7.0          0.0   \n",
      "51          0.0       0.0        3.0      0.0  ...         7.0          0.0   \n",
      "52          0.0       0.0        3.0      0.0  ...         7.0          0.0   \n",
      "53          0.0       0.0        3.0      0.0  ...         7.0          0.0   \n",
      "54          0.0       0.0        3.0      0.0  ...         7.0          0.0   \n",
      "55          0.0       0.0        3.0      0.0  ...         7.0          0.0   \n",
      "56          0.0       0.0        3.0      0.0  ...         7.0          0.0   \n",
      "57          0.0       0.0        3.0      0.0  ...         7.0          0.0   \n",
      "58          0.0       0.0        3.0      0.0  ...         7.0          0.0   \n",
      "59          0.0       0.0        3.0      0.0  ...         7.0          0.0   \n",
      "60          0.0       0.0        3.0      0.0  ...         7.0          0.0   \n",
      "61          0.0       0.0        3.0      0.0  ...         7.0          0.0   \n",
      "62          0.0       0.0        3.0      0.0  ...         7.0          0.0   \n",
      "63          0.0       0.0        3.0      0.0  ...         7.0          0.0   \n",
      "64          0.0       0.0        3.0      0.0  ...         7.0          0.0   \n",
      "65          0.0       0.0        3.0      0.0  ...         7.0          0.0   \n",
      "66          0.0       0.0        3.0      0.0  ...         7.0          0.0   \n",
      "67          0.0       0.0        3.0      0.0  ...         7.0          0.0   \n",
      "68          0.0       0.0        3.0      0.0  ...         7.0          0.0   \n",
      "69          0.0       0.0        3.0      0.0  ...         7.0          0.0   \n",
      "70          0.0       0.0        3.0      0.0  ...         7.0          0.0   \n",
      "71          0.0       0.0        3.0      0.0  ...         7.0          0.0   \n",
      "72          0.0       0.0        3.0      0.0  ...         7.0          0.0   \n",
      "73          0.0       0.0        3.0      0.0  ...         7.0          0.0   \n",
      "74          0.0       0.0        3.0      0.0  ...         7.0          0.0   \n",
      "75          0.0       0.0        3.0      0.0  ...         7.0          0.0   \n",
      "76          0.0       0.0        3.0      0.0  ...         7.0          0.0   \n",
      "77          0.0       0.0        3.0      0.0  ...         7.0          0.0   \n",
      "78          0.0       0.0        3.0      0.0  ...         7.0          0.0   \n",
      "79          0.0       0.0        3.0      0.0  ...         7.0          0.0   \n",
      "80          0.0       0.0        3.0      0.0  ...         7.0          0.0   \n",
      "81          0.0       0.0        3.0      0.0  ...         7.0          0.0   \n",
      "82          0.0       0.0        3.0      0.0  ...         7.0          0.0   \n",
      "83          0.0       0.0        3.0      0.0  ...         7.0          0.0   \n",
      "84          0.0       0.0        3.0      0.0  ...         7.0          0.0   \n",
      "85          0.0       0.0        3.0      0.0  ...         7.0          0.0   \n",
      "86          0.0       0.0        3.0      0.0  ...         7.0          0.0   \n",
      "87          0.0       0.0        3.0      0.0  ...         7.0          0.0   \n",
      "88          0.0       0.0        3.0      0.0  ...         7.0          0.0   \n",
      "89          0.0       0.0        3.0      0.0  ...         7.0          0.0   \n",
      "90          0.0       0.0        3.0      0.0  ...         7.0          0.0   \n",
      "91          0.0       0.0        3.0      0.0  ...         7.0          0.0   \n",
      "92          0.0       0.0        3.0      0.0  ...         7.0          0.0   \n",
      "93          0.0       0.0        3.0      0.0  ...         7.0          0.0   \n",
      "94          0.0       0.0        3.0      0.0  ...         7.0          0.0   \n",
      "95          0.0       0.0        3.0      0.0  ...         7.0          0.0   \n",
      "96          0.0       0.0        3.0      0.0  ...         7.0          0.0   \n",
      "97          0.0       0.0        3.0      0.0  ...         7.0          0.0   \n",
      "98          0.0       0.0        3.0      0.0  ...         7.0          0.0   \n",
      "99          0.0       0.0        3.0      0.0  ...         7.0          0.0   \n",
      "\n",
      "    WITCH_R24  CURSE_R24  PROVINCE_R24  DUCHY_R24  ESTATE_R24  GOLD_R24  \\\n",
      "0         0.0        6.0           2.0        0.0         3.0       8.0   \n",
      "1         0.0        8.0           2.0        0.0         4.0       8.0   \n",
      "2         0.0        7.0           2.0        0.0         3.0       9.0   \n",
      "3         0.0        5.0           3.0        0.0         3.0      10.0   \n",
      "4         0.0        6.0           2.0        0.0         4.0      10.0   \n",
      "5         0.0       10.0           2.0        0.0         3.0       8.0   \n",
      "6         0.0       10.0           2.0        0.0         3.0       8.0   \n",
      "7         0.0        8.0           2.0        0.0         3.0       8.0   \n",
      "8         0.0        8.0           2.0        0.0         3.0       5.0   \n",
      "9         0.0        6.0           2.0        0.0         3.0      10.0   \n",
      "10        0.0        7.0           3.0        0.0         3.0      11.0   \n",
      "11        0.0        8.0           2.0        0.0         4.0       5.0   \n",
      "12        0.0        8.0           2.0        0.0         3.0       3.0   \n",
      "13        0.0        6.0           2.0        0.0         4.0       9.0   \n",
      "14        0.0        7.0           1.0        0.0         4.0       7.0   \n",
      "15        0.0        9.0           1.0        0.0         3.0      10.0   \n",
      "16        0.0       10.0           1.0        0.0         3.0       9.0   \n",
      "17        0.0        7.0           2.0        0.0         3.0      11.0   \n",
      "18        0.0        6.0           2.0        0.0         3.0      10.0   \n",
      "19        0.0        8.0           2.0        0.0         4.0       8.0   \n",
      "20        0.0        8.0           3.0        0.0         4.0      10.0   \n",
      "21        0.0        6.0           2.0        0.0         3.0       8.0   \n",
      "22        0.0        8.0           2.0        0.0         3.0       8.0   \n",
      "23        0.0        6.0           3.0        0.0         3.0       8.0   \n",
      "24        0.0       10.0           3.0        0.0         3.0       7.0   \n",
      "25        0.0        7.0           2.0        0.0         3.0       8.0   \n",
      "26        0.0        9.0           2.0        0.0         4.0       6.0   \n",
      "27        0.0        8.0           2.0        0.0         3.0       7.0   \n",
      "28        0.0       10.0           3.0        0.0         4.0       6.0   \n",
      "29        0.0        7.0           1.0        0.0         3.0       9.0   \n",
      "30        0.0        7.0           3.0        0.0         3.0       7.0   \n",
      "31        0.0        8.0           2.0        0.0         3.0      11.0   \n",
      "32        0.0        5.0           4.0        0.0         3.0      10.0   \n",
      "33        0.0        8.0           3.0        0.0         4.0       6.0   \n",
      "34        0.0        8.0           2.0        0.0         3.0       7.0   \n",
      "35        0.0        8.0           1.0        0.0         3.0       7.0   \n",
      "36        0.0        7.0           2.0        0.0         3.0       8.0   \n",
      "37        0.0       10.0           3.0        0.0         3.0       4.0   \n",
      "38        0.0        6.0           2.0        0.0         3.0       8.0   \n",
      "39        0.0        5.0           3.0        0.0         4.0       9.0   \n",
      "40        0.0        6.0           2.0        0.0         3.0       7.0   \n",
      "41        0.0        8.0           2.0        0.0         3.0       7.0   \n",
      "42        0.0        7.0           3.0        0.0         4.0       6.0   \n",
      "43        0.0        8.0           2.0        0.0         3.0       6.0   \n",
      "44        0.0        7.0           2.0        0.0         4.0       9.0   \n",
      "45        0.0        8.0           1.0        0.0         4.0       9.0   \n",
      "46        0.0        5.0           3.0        0.0         3.0      10.0   \n",
      "47        0.0        6.0           3.0        0.0         3.0      12.0   \n",
      "48        0.0        9.0           2.0        0.0         4.0       3.0   \n",
      "49        0.0        6.0           3.0        0.0         3.0       8.0   \n",
      "50        2.0        0.0           6.0        0.0         3.0       6.0   \n",
      "51        2.0        0.0           6.0        4.0         3.0       6.0   \n",
      "52        2.0        0.0           6.0        1.0         4.0       4.0   \n",
      "53        2.0        0.0           5.0        4.0         3.0       5.0   \n",
      "54        2.0        0.0           6.0        0.0         3.0       2.0   \n",
      "55        2.0        0.0           5.0        2.0         3.0       6.0   \n",
      "56        2.0        0.0           5.0        2.0         3.0       4.0   \n",
      "57        2.0        0.0           4.0        2.0         3.0       4.0   \n",
      "58        2.0        0.0           4.0        7.0         3.0       4.0   \n",
      "59        2.0        0.0           5.0        2.0         3.0       6.0   \n",
      "60        2.0        0.0           7.0        3.0         3.0       3.0   \n",
      "61        2.0        0.0           5.0        4.0         3.0       6.0   \n",
      "62        2.0        0.0           5.0        1.0         3.0       6.0   \n",
      "63        2.0        0.0           5.0        1.0         3.0       6.0   \n",
      "64        2.0        0.0           4.0        1.0         3.0       5.0   \n",
      "65        2.0        0.0           5.0        2.0         4.0       4.0   \n",
      "66        2.0        0.0           6.0        2.0         3.0       6.0   \n",
      "67        2.0        0.0           4.0        1.0         3.0      10.0   \n",
      "68        2.0        0.0           6.0        2.0         3.0       4.0   \n",
      "69        2.0        0.0           5.0        1.0         3.0       4.0   \n",
      "70        2.0        0.0           6.0        1.0         3.0       4.0   \n",
      "71        2.0        0.0           4.0        1.0         3.0       5.0   \n",
      "72        2.0        0.0           5.0        3.0         3.0       6.0   \n",
      "73        2.0        0.0           5.0        0.0         3.0       6.0   \n",
      "74        2.0        0.0           4.0        0.0         3.0       6.0   \n",
      "75        2.0        0.0           5.0        0.0         4.0       6.0   \n",
      "76        2.0        0.0           5.0        3.0         4.0       4.0   \n",
      "77        2.0        0.0           5.0        0.0         3.0       6.0   \n",
      "78        2.0        0.0           5.0        1.0         3.0       7.0   \n",
      "79        2.0        0.0           5.0        1.0         3.0       4.0   \n",
      "80        2.0        0.0           5.0        4.0         4.0       7.0   \n",
      "81        2.0        0.0           5.0        3.0         3.0       4.0   \n",
      "82        1.0        0.0           6.0        0.0         3.0      10.0   \n",
      "83        2.0        0.0           6.0        1.0         3.0       3.0   \n",
      "84        2.0        0.0           5.0        1.0         3.0       7.0   \n",
      "85        1.0        0.0           5.0        1.0         3.0       4.0   \n",
      "86        2.0        0.0           5.0        2.0         3.0       3.0   \n",
      "87        2.0        0.0           6.0        2.0         3.0       7.0   \n",
      "88        2.0        0.0           6.0        1.0         4.0       7.0   \n",
      "89        2.0        0.0           6.0        1.0         5.0       2.0   \n",
      "90        2.0        0.0           6.0        2.0         3.0       4.0   \n",
      "91        2.0        0.0           6.0        2.0         3.0       4.0   \n",
      "92        2.0        0.0           5.0        2.0         3.0       6.0   \n",
      "93        2.0        0.0           6.0        0.0         3.0       7.0   \n",
      "94        2.0        0.0           6.0        3.0         4.0       5.0   \n",
      "95        2.0        0.0           5.0        1.0         3.0       5.0   \n",
      "96        2.0        0.0           5.0        0.0         3.0       6.0   \n",
      "97        2.0        0.0           5.0        5.0         3.0       4.0   \n",
      "98        1.0        0.0           5.0        2.0         3.0       5.0   \n",
      "99        1.0        0.0           5.0        4.0         3.0       5.0   \n",
      "\n",
      "    SILVER_R24  COPPER_R24  \n",
      "0          8.0         7.0  \n",
      "1          8.0         7.0  \n",
      "2          7.0         7.0  \n",
      "3          6.0         7.0  \n",
      "4          6.0         7.0  \n",
      "5          8.0         7.0  \n",
      "6          8.0         7.0  \n",
      "7          8.0         7.0  \n",
      "8         10.0         7.0  \n",
      "9          6.0         7.0  \n",
      "10         5.0         7.0  \n",
      "11        10.0         7.0  \n",
      "12        12.0         7.0  \n",
      "13         6.0         7.0  \n",
      "14         8.0         7.0  \n",
      "15         5.0         7.0  \n",
      "16         6.0         7.0  \n",
      "17         5.0         7.0  \n",
      "18         3.0         7.0  \n",
      "19         7.0         7.0  \n",
      "20         6.0         7.0  \n",
      "21         6.0         7.0  \n",
      "22         8.0         7.0  \n",
      "23         7.0         7.0  \n",
      "24         9.0         7.0  \n",
      "25         6.0         7.0  \n",
      "26         7.0         7.0  \n",
      "27         9.0         7.0  \n",
      "28         8.0         7.0  \n",
      "29         7.0         7.0  \n",
      "30         9.0         7.0  \n",
      "31         4.0         7.0  \n",
      "32         6.0         7.0  \n",
      "33         8.0         7.0  \n",
      "34         9.0         7.0  \n",
      "35         9.0         7.0  \n",
      "36         7.0         7.0  \n",
      "37        12.0         7.0  \n",
      "38         8.0         7.0  \n",
      "39         7.0         7.0  \n",
      "40         9.0         7.0  \n",
      "41         9.0         7.0  \n",
      "42         8.0         7.0  \n",
      "43        10.0         7.0  \n",
      "44         7.0         7.0  \n",
      "45         7.0         7.0  \n",
      "46         6.0         7.0  \n",
      "47         4.0         7.0  \n",
      "48        12.0         7.0  \n",
      "49         8.0         7.0  \n",
      "50         5.0         7.0  \n",
      "51         7.0         7.0  \n",
      "52         7.0         7.0  \n",
      "53         8.0         7.0  \n",
      "54         8.0         7.0  \n",
      "55         8.0         7.0  \n",
      "56         7.0         7.0  \n",
      "57         8.0         7.0  \n",
      "58         8.0         7.0  \n",
      "59         6.0         7.0  \n",
      "60         9.0         7.0  \n",
      "61         5.0         7.0  \n",
      "62         7.0         7.0  \n",
      "63         8.0         7.0  \n",
      "64         9.0         7.0  \n",
      "65         7.0         7.0  \n",
      "66         7.0         7.0  \n",
      "67         6.0         7.0  \n",
      "68         8.0         7.0  \n",
      "69         7.0         7.0  \n",
      "70         5.0         7.0  \n",
      "71         8.0         7.0  \n",
      "72         7.0         7.0  \n",
      "73         7.0         7.0  \n",
      "74         7.0         7.0  \n",
      "75         5.0         7.0  \n",
      "76         5.0         7.0  \n",
      "77         6.0         7.0  \n",
      "78         6.0         7.0  \n",
      "79         6.0         7.0  \n",
      "80         5.0         7.0  \n",
      "81         7.0         7.0  \n",
      "82         4.0         7.0  \n",
      "83        10.0         7.0  \n",
      "84         8.0         7.0  \n",
      "85         8.0         7.0  \n",
      "86         9.0         7.0  \n",
      "87         3.0         7.0  \n",
      "88         4.0         7.0  \n",
      "89         9.0         7.0  \n",
      "90         5.0         7.0  \n",
      "91         8.0         7.0  \n",
      "92         4.0         7.0  \n",
      "93         6.0         7.0  \n",
      "94         6.0         7.0  \n",
      "95         9.0         7.0  \n",
      "96         5.0         7.0  \n",
      "97         6.0         7.0  \n",
      "98         8.0         7.0  \n",
      "99         8.0         7.0  \n",
      "\n",
      "[100 rows x 228 columns]\n"
     ]
    }
   ],
   "source": [
    "#next we need to flatten this dataframe so that each trace is a single row.\n",
    "#Note we drop the current score as we dont need it for now. We also drop the round label as it is redundant\n",
    "#and it will get reintroduced when flattening through the revised column names\n",
    "traces_tmp = extended_traces.drop(['CurrentScore', 'Round'], axis = 1)\n",
    "cols = [card_types_BigMoneyWithGardens_vs_DoubleWitch[i] + \"_R\" + str(r) \n",
    "        for r in range(0, maxNoOfRounds) for i in range(0, len(card_types_BigMoneyWithGardens_vs_DoubleWitch))] \n",
    "\n",
    "extended_traces_flat = traces_tmp.groupby(['PlayerName', 'Player', 'GameID']).apply(lambda df: df[card_types_BigMoneyWithGardens_vs_DoubleWitch].values.flatten())\n",
    "extended_traces_flat = pd.DataFrame(extended_traces_flat, columns = ['Trace']).reset_index()\n",
    "extended_traces_flat = pd.concat([extended_traces_flat[['PlayerName', 'Player', 'GameID']], extended_traces_flat['Trace'].apply(pd.Series)], axis=1)\n",
    "extended_traces_flat.columns = ['PlayerName', 'Player', 'GameID'] + cols\n",
    "print(extended_traces_flat)"
   ]
  },
  {
   "cell_type": "code",
   "execution_count": 15,
   "id": "8da5eb74",
   "metadata": {},
   "outputs": [
    {
     "name": "stdout",
     "output_type": "stream",
     "text": [
      "2301    0.0\n",
      "2303    0.0\n",
      "2305    0.0\n",
      "2307    0.0\n",
      "2309    0.0\n",
      "2311    0.0\n",
      "2313    0.0\n",
      "2315    0.0\n",
      "2317    0.0\n",
      "2319    0.0\n",
      "2321    0.0\n",
      "2323    0.0\n",
      "2325    0.0\n",
      "2327    0.0\n",
      "2329    0.0\n",
      "2331    0.0\n",
      "2333    0.0\n",
      "2335    0.0\n",
      "2337    1.0\n",
      "2339    1.0\n",
      "2341    1.0\n",
      "2343    1.0\n",
      "2345    1.0\n",
      "2347    1.0\n",
      "2349    1.0\n",
      "Name: GARDENS, dtype: float64\n",
      "    GARDENS_R0  GARDENS_R1  GARDENS_R2  GARDENS_R3  GARDENS_R4  GARDENS_R5  \\\n",
      "46         0.0         0.0         0.0         0.0         0.0         0.0   \n",
      "\n",
      "    GARDENS_R6  GARDENS_R7  GARDENS_R8  GARDENS_R9  ...  GARDENS_R15  \\\n",
      "46         0.0         0.0         0.0         0.0  ...          0.0   \n",
      "\n",
      "    GARDENS_R16  GARDENS_R17  GARDENS_R18  GARDENS_R19  GARDENS_R20  \\\n",
      "46          0.0          0.0          1.0          1.0          1.0   \n",
      "\n",
      "    GARDENS_R21  GARDENS_R22  GARDENS_R23  GARDENS_R24  \n",
      "46          1.0          1.0          1.0          1.0  \n",
      "\n",
      "[1 rows x 25 columns]\n"
     ]
    }
   ],
   "source": [
    "#check a couple of traces to make sure flattened and extended trace dataframes agree\n",
    "player = 1\n",
    "game = 48\n",
    "card = 'GARDENS'\n",
    "card_cols = [card + \"_R\" + str(r) for r in range(0, maxNoOfRounds)]\n",
    "trace_1 = extended_traces[(extended_traces['Player'] == player) & (extended_traces['GameID'] == game)]\n",
    "print(trace_1[card])\n",
    "trace_2 = extended_traces_flat[(extended_traces_flat['Player'] == player) & (extended_traces_flat['GameID'] == game)]\n",
    "print(trace_2[card_cols])"
   ]
  },
  {
   "cell_type": "code",
   "execution_count": 16,
   "id": "a997bb10",
   "metadata": {},
   "outputs": [
    {
     "name": "stdout",
     "output_type": "stream",
     "text": [
      "4950\n"
     ]
    }
   ],
   "source": [
    "noOfGames = extended_traces_flat['GameID'].unique().size\n",
    "noOfOffDiagGameCombos = int(noOfGames *(noOfGames -1)/2.0) #for each off diag set of games there are 4 combinations of\n",
    "#player strategies (e.g. for games 2 and 3, we can compare bigmoney vs bigmoney, bigmoney vs singlewitch etc)\n",
    "#for 'diagonal' set of games there is just the one trace comparison available\n",
    "noOfPairWiseDistances = noOfOffDiagGameCombos * 4 + noOfGames\n",
    "print(noOfPairWiseDistances)"
   ]
  },
  {
   "cell_type": "code",
   "execution_count": 17,
   "id": "84a1fbec",
   "metadata": {},
   "outputs": [],
   "source": [
    "#next we need to collect together all pairwise combinations of traces so that we can compute all distance measure pairs\n",
    "\n",
    "# Step 1: Create a list of DataFrames for each 'off diagonal' combination of games\n",
    "unique_values = extended_traces_flat['GameID'].unique()\n",
    "offdiag_combinations = list(itertools.combinations(unique_values, 2))\n",
    "diag_combos = [(i,i) for i in unique_values]\n",
    "combos = offdiag_combinations + diag_combos\n",
    "\n",
    "list_dfs = []\n",
    "for combination in combos:\n",
    "    #extract traces for each game ID and strategy combination\n",
    "    GameID_1, GameID_2 = combination\n",
    "    keys = []\n",
    "    if GameID_1 != GameID_2:\n",
    "        keys = [((GameID_1, 'BigMoneyWithGardens'), (GameID_2, 'BigMoneyWithGardens')),\n",
    "                ((GameID_1, 'BigMoneyWithGardens'), (GameID_2, 'DoubleWitch')),\n",
    "                ((GameID_1, 'DoubleWitch'), (GameID_2, 'BigMoneyWithGardens')),\n",
    "                ((GameID_1, 'DoubleWitch'), (GameID_2, 'DoubleWitch'))]\n",
    "    else:\n",
    "        keys = [((GameID_1, 'BigMoneyWithGardens'), (GameID_1, 'DoubleWitch'))]\n",
    "             \n",
    "    for key in keys:\n",
    "        key1, key2 = key\n",
    "        game1,player1 = key1\n",
    "        game2,player2 = key2\n",
    "        \n",
    "        #get data for key 1\n",
    "        df_A = extended_traces_flat[(extended_traces_flat['GameID'] == game1) & (extended_traces_flat['PlayerName'] == player1)]\n",
    "        new_col_names = {old_col: old_col + \"_P1\" for old_col in extended_traces_flat.columns}\n",
    "        df_1 = df_A.rename(columns=new_col_names)\n",
    "        \n",
    "        #next add opponents name for future reference\n",
    "        playerNo = (int)(df_1['Player_P1'].unique()[0])\n",
    "        OpponentNo = 0\n",
    "        if playerNo == 0:\n",
    "            OpponentNo = 1\n",
    "        else:\n",
    "            OpponentNo = 0   \n",
    "        df_1['Opponent_P1'] = [OpponentNo] * len(df_1['Player_P1']) \n",
    "        df_1['OpponentName_P1'] = df_1.apply(lambda df: assignName(df['GameID_P1'], df['Opponent_P1'], noGamesPerMatchUp), axis = 1)\n",
    "        \n",
    "        #get data for key 2\n",
    "        df_B = extended_traces_flat[(extended_traces_flat['GameID'] == game2) & (extended_traces_flat['PlayerName'] == player2)]\n",
    "        new_col_names = {old_col: old_col + \"_P2\" for old_col in extended_traces_flat.columns}\n",
    "        df_2 = df_B.rename(columns=new_col_names)\n",
    "        \n",
    "        #add opponents name again\n",
    "        playerNo = (int)(df_2['Player_P2'].unique()[0])\n",
    "        OpponentNo = 0\n",
    "        if playerNo == 0:\n",
    "            OpponentNo = 1\n",
    "        else:\n",
    "            OpponentNo = 0   \n",
    "        df_2['Opponent_P2'] = [OpponentNo] * len(df_2['Player_P2']) \n",
    "        df_2['OpponentName_P2'] = df_2.apply(lambda df: assignName(df['GameID_P2'], df['Opponent_P2'], noGamesPerMatchUp), axis = 1)\n",
    "        \n",
    "        #next align play traces by concatenating along columns\n",
    "        df_1 = df_1.reset_index().drop('index', axis = 1)\n",
    "        df_2 = df_2.reset_index().drop('index', axis = 1)\n",
    "        df_3 = pd.concat([df_1, df_2], axis = 1)\n",
    "        \n",
    "        #then add to list of dfs\n",
    "        list_dfs.append(df_3)\n",
    "        \n",
    "#finally we need to append togther all the datafarmes in our list\n",
    "sym_trace_combos_flat = pd.concat(list_dfs, ignore_index=True)"
   ]
  },
  {
   "cell_type": "code",
   "execution_count": 18,
   "id": "cdf11316",
   "metadata": {},
   "outputs": [
    {
     "name": "stdout",
     "output_type": "stream",
     "text": [
      "Expected no rows: 4950\n",
      "Expected no of cols: 460\n"
     ]
    },
    {
     "data": {
      "text/plain": [
       "(4950, 460)"
      ]
     },
     "execution_count": 18,
     "metadata": {},
     "output_type": "execute_result"
    }
   ],
   "source": [
    "#the no of rows in our symmetric trace combos should be given by noOfPairwiseDistances \n",
    "#and no columns should be given by the card types * no of rounds plus 5 (for player, player name, gameID, opponent and\n",
    "#opponent name) all mulitplied by two, for the two players\n",
    "print(\"Expected no rows: \" + str(noOfPairWiseDistances))\n",
    "print(\"Expected no of cols: \" + str((len(card_types_BigMoneyWithGardens_vs_DoubleWitch)*maxNoOfRounds +5)*2))\n",
    "sym_trace_combos_flat.shape"
   ]
  },
  {
   "cell_type": "code",
   "execution_count": 19,
   "id": "75969b16",
   "metadata": {},
   "outputs": [],
   "source": [
    "#next step is to calculate the distance between each pairwise play trace\n",
    "def dist_measure(playTracePair, cardTypes, maxRounds, tag1, tag2):\n",
    "    dist = 0\n",
    "    for r in range(0, maxRounds):\n",
    "        for card in cardTypes:\n",
    "            col1 = card + \"_R\" + str(r) + tag1\n",
    "            col2 = card + \"_R\" + str(r) + tag2\n",
    "            dist += (playTracePair[col1]-playTracePair[col2])**2\n",
    "    dist = math.sqrt(dist)\n",
    "    return dist"
   ]
  },
  {
   "cell_type": "code",
   "execution_count": 20,
   "id": "54593fb3",
   "metadata": {},
   "outputs": [
    {
     "name": "stdout",
     "output_type": "stream",
     "text": [
      "            PlayerName_P1  Player_P1  GameID_P1  GARDENS_R0_P1  WITCH_R0_P1  \\\n",
      "0     BigMoneyWithGardens        0.0        2.0            0.0          0.0   \n",
      "1     BigMoneyWithGardens        0.0        2.0            0.0          0.0   \n",
      "2             DoubleWitch        1.0        2.0            0.0          0.0   \n",
      "3             DoubleWitch        1.0        2.0            0.0          0.0   \n",
      "4     BigMoneyWithGardens        0.0        2.0            0.0          0.0   \n",
      "...                   ...        ...        ...            ...          ...   \n",
      "4945  BigMoneyWithGardens        1.0       47.0            0.0          0.0   \n",
      "4946  BigMoneyWithGardens        1.0       48.0            0.0          0.0   \n",
      "4947  BigMoneyWithGardens        1.0       49.0            0.0          0.0   \n",
      "4948  BigMoneyWithGardens        1.0       50.0            0.0          0.0   \n",
      "4949  BigMoneyWithGardens        1.0       51.0            0.0          0.0   \n",
      "\n",
      "      CURSE_R0_P1  PROVINCE_R0_P1  DUCHY_R0_P1  ESTATE_R0_P1  GOLD_R0_P1  ...  \\\n",
      "0             0.0             0.0          0.0           3.0         0.0  ...   \n",
      "1             0.0             0.0          0.0           3.0         0.0  ...   \n",
      "2             0.0             0.0          0.0           3.0         0.0  ...   \n",
      "3             0.0             0.0          0.0           3.0         0.0  ...   \n",
      "4             0.0             0.0          0.0           3.0         0.0  ...   \n",
      "...           ...             ...          ...           ...         ...  ...   \n",
      "4945          0.0             0.0          0.0           3.0         0.0  ...   \n",
      "4946          0.0             0.0          0.0           3.0         0.0  ...   \n",
      "4947          0.0             0.0          0.0           3.0         0.0  ...   \n",
      "4948          0.0             0.0          0.0           3.0         0.0  ...   \n",
      "4949          0.0             0.0          0.0           3.0         0.0  ...   \n",
      "\n",
      "      CURSE_R24_P2  PROVINCE_R24_P2  DUCHY_R24_P2  ESTATE_R24_P2  GOLD_R24_P2  \\\n",
      "0              8.0              2.0           0.0            4.0          8.0   \n",
      "1              0.0              5.0           3.0            4.0          4.0   \n",
      "2              8.0              2.0           0.0            4.0          8.0   \n",
      "3              0.0              5.0           3.0            4.0          4.0   \n",
      "4              7.0              2.0           0.0            3.0          9.0   \n",
      "...            ...              ...           ...            ...          ...   \n",
      "4945           0.0              6.0           1.0            3.0          4.0   \n",
      "4946           0.0              4.0           1.0            3.0          5.0   \n",
      "4947           0.0              5.0           3.0            3.0          6.0   \n",
      "4948           0.0              5.0           0.0            3.0          6.0   \n",
      "4949           0.0              4.0           0.0            3.0          6.0   \n",
      "\n",
      "      SILVER_R24_P2  COPPER_R24_P2  Opponent_P2      OpponentName_P2  \\\n",
      "0               8.0            7.0            1          DoubleWitch   \n",
      "1               5.0            7.0            0  BigMoneyWithGardens   \n",
      "2               8.0            7.0            1          DoubleWitch   \n",
      "3               5.0            7.0            0  BigMoneyWithGardens   \n",
      "4               7.0            7.0            1          DoubleWitch   \n",
      "...             ...            ...          ...                  ...   \n",
      "4945            5.0            7.0            1  BigMoneyWithGardens   \n",
      "4946            8.0            7.0            1  BigMoneyWithGardens   \n",
      "4947            7.0            7.0            1  BigMoneyWithGardens   \n",
      "4948            7.0            7.0            1  BigMoneyWithGardens   \n",
      "4949            7.0            7.0            1  BigMoneyWithGardens   \n",
      "\n",
      "           dist  \n",
      "0      7.937254  \n",
      "1     32.496154  \n",
      "2     35.185224  \n",
      "3     12.369317  \n",
      "4      7.615773  \n",
      "...         ...  \n",
      "4945  40.286474  \n",
      "4946  29.916551  \n",
      "4947  36.783148  \n",
      "4948  43.220366  \n",
      "4949  24.331050  \n",
      "\n",
      "[4950 rows x 461 columns]\n"
     ]
    }
   ],
   "source": [
    "#now compute all the pairwise trace distances\n",
    "sym_trace_combos_flat['dist'] = sym_trace_combos_flat.apply(lambda row: dist_measure(row, card_types_BigMoneyWithGardens_vs_DoubleWitch,\n",
    "                                                                                    maxNoOfRounds, \"_P1\", \"_P2\"), axis = 1)\n",
    "print(sym_trace_combos_flat)"
   ]
  },
  {
   "cell_type": "code",
   "execution_count": 21,
   "id": "78d945f4",
   "metadata": {},
   "outputs": [
    {
     "name": "stdout",
     "output_type": "stream",
     "text": [
      "4950\n",
      "Mean BMBM: 16.69\n",
      "Mean DWDW: 12.8\n",
      "Mean BMDW: 34.96\n",
      "Std BMBM: 7.32\n",
      "Std DWDW: 4.43\n",
      "Std BMDW: 4.76\n"
     ]
    }
   ],
   "source": [
    "#next look at average distances between similar and different strategies as an initial sense check\n",
    "BMBM = sym_trace_combos_flat['dist'][(sym_trace_combos_flat['PlayerName_P1'] == 'BigMoneyWithGardens') &\n",
    "                                        (sym_trace_combos_flat['PlayerName_P2'] == 'BigMoneyWithGardens')]\n",
    "BMDW = sym_trace_combos_flat['dist'][(sym_trace_combos_flat['PlayerName_P1'] == 'BigMoneyWithGardens') &\n",
    "                                        (sym_trace_combos_flat['PlayerName_P2'] == 'DoubleWitch') |\n",
    "                                        (sym_trace_combos_flat['PlayerName_P1'] == 'DoubleWitch') &\n",
    "                                        (sym_trace_combos_flat['PlayerName_P2'] == 'BigMoneyWithGardens')]\n",
    "DWDW = sym_trace_combos_flat['dist'][(sym_trace_combos_flat['PlayerName_P1'] == 'DoubleWitch') &\n",
    "                                        (sym_trace_combos_flat['PlayerName_P2'] == 'DoubleWitch')]\n",
    "print(len(BMBM) + len(BMDW) + len(DWDW))\n",
    "print(\"Mean BMBM: \" + str(round(BMBM.mean(),2)))\n",
    "print(\"Mean DWDW: \" + str(round(DWDW.mean(),2)))\n",
    "print(\"Mean BMDW: \" + str(round(BMDW.mean(),2)))\n",
    "print(\"Std BMBM: \" + str(round(BMBM.std(),2)))\n",
    "print(\"Std DWDW: \" + str(round(DWDW.std(),2)))\n",
    "print(\"Std BMDW: \" + str(round(BMDW.std(),2)))"
   ]
  },
  {
   "cell_type": "code",
   "execution_count": 22,
   "id": "d960c9ca",
   "metadata": {},
   "outputs": [
    {
     "data": {
      "text/plain": [
       "<matplotlib.legend.Legend at 0x7fe4a1ac0580>"
      ]
     },
     "execution_count": 22,
     "metadata": {},
     "output_type": "execute_result"
    },
    {
     "data": {
      "image/png": "[encoded data removed]",
      "text/plain": [
       "<Figure size 432x288 with 1 Axes>"
      ]
     },
     "metadata": {
      "needs_background": "light"
     },
     "output_type": "display_data"
    }
   ],
   "source": [
    "#plot distances along the real line and colour coded\n",
    "plt.scatter(BMBM, [0] * BMBM.shape[0], s = 2, label = 'BMWG - BMWG')\n",
    "plt.scatter(DWDW, [0.01] * DWDW.shape[0], s = 2, label = 'DW - DW')\n",
    "plt.scatter(BMDW, [0.02] * BMDW.shape[0], s = 2, label = 'BMWG - DW')\n",
    "plt.yticks([])\n",
    "plt.xlabel('Pairwise distances')\n",
    "plt.legend(loc = (1.1,0.77))"
   ]
  },
  {
   "cell_type": "code",
   "execution_count": 23,
   "id": "74568510",
   "metadata": {},
   "outputs": [
    {
     "name": "stdout",
     "output_type": "stream",
     "text": [
      "  AverageTraceForStrategy  GARDENS_R0_avg  WITCH_R0_avg  CURSE_R0_avg  \\\n",
      "0     BigMoneyWithGardens             0.0           0.0           0.0   \n",
      "1             DoubleWitch             0.0           0.0           0.0   \n",
      "\n",
      "   PROVINCE_R0_avg  DUCHY_R0_avg  ESTATE_R0_avg  GOLD_R0_avg  SILVER_R0_avg  \\\n",
      "0              0.0           0.0            3.0          0.0            1.0   \n",
      "1              0.0           0.0            3.0          0.0            1.0   \n",
      "\n",
      "   COPPER_R0_avg  ...  COPPER_R23_avg  GARDENS_R24_avg  WITCH_R24_avg  \\\n",
      "0            7.0  ...             7.0              3.0            0.0   \n",
      "1            7.0  ...             7.0              0.0            2.0   \n",
      "\n",
      "   CURSE_R24_avg  PROVINCE_R24_avg  DUCHY_R24_avg  ESTATE_R24_avg  \\\n",
      "0            7.0               2.0            0.0             3.0   \n",
      "1            0.0               5.0            2.0             3.0   \n",
      "\n",
      "   GOLD_R24_avg  SILVER_R24_avg  COPPER_R24_avg  \n",
      "0           8.0             7.0             7.0  \n",
      "1           5.0             7.0             7.0  \n",
      "\n",
      "[2 rows x 226 columns]\n"
     ]
    },
    {
     "name": "stderr",
     "output_type": "stream",
     "text": [
      "/var/folders/60/sk8yhxb56ld6twrcnr2njl3h0000gn/T/ipykernel_99887/2688685309.py:3: FutureWarning: Dropping of nuisance columns in DataFrame reductions (with 'numeric_only=None') is deprecated; in a future version this will raise TypeError.  Select only valid columns before calling the reduction.\n",
      "  average_traces = flat_trace_tmp.groupby('PlayerName').apply(lambda row: round(row.mean())).reset_index()\n"
     ]
    }
   ],
   "source": [
    "#compute the average trace for Big Money With Gardens and Double Witch Strategies\n",
    "flat_trace_tmp = extended_traces_flat.drop(['Player', 'GameID'], axis = 1)\n",
    "average_traces = flat_trace_tmp.groupby('PlayerName').apply(lambda row: round(row.mean())).reset_index()\n",
    "new_col_names = {old_col: old_col + '_avg' for old_col in average_traces.columns[1:]}\n",
    "new_col_names['PlayerName'] = 'AverageTraceForStrategy'\n",
    "average_traces.rename(columns = new_col_names, inplace = True)\n",
    "print(average_traces)"
   ]
  },
  {
   "cell_type": "code",
   "execution_count": 24,
   "id": "0829250b",
   "metadata": {},
   "outputs": [
    {
     "name": "stdout",
     "output_type": "stream",
     "text": [
      "Results when average trace is from BigMoneyWithGardens:\n",
      "                         dist\n",
      "PlayerName                   \n",
      "BigMoneyWithGardens  12.02897\n",
      "DoubleWitch          32.43445\n",
      "                         dist\n",
      "PlayerName                   \n",
      "BigMoneyWithGardens  5.202421\n",
      "DoubleWitch          2.163342\n",
      "Results when average trace is from DoubleWitch:\n",
      "                          dist\n",
      "PlayerName                    \n",
      "BigMoneyWithGardens  33.883902\n",
      "DoubleWitch           9.296274\n",
      "                         dist\n",
      "PlayerName                   \n",
      "BigMoneyWithGardens  4.063426\n",
      "DoubleWitch          3.063825\n"
     ]
    }
   ],
   "source": [
    "#next calculate the distance between every play trace and the two average traces\n",
    "dist_to_averages = {}\n",
    "for player in ['BigMoneyWithGardens','DoubleWitch']:\n",
    "    avg_trace = average_traces[average_traces['AverageTraceForStrategy'] == player].drop('AverageTraceForStrategy', axis = 1)\n",
    "    avg_trace = pd.concat([avg_trace]*len(extended_traces_flat), ignore_index = True)\n",
    "    avg_trace.reset_index()\n",
    "    extended_traces_flat.reset_index()\n",
    "    trace_pairs_to_avg = pd.concat([extended_traces_flat, avg_trace], axis = 1)\n",
    "\n",
    "    #now we can compute the distance\n",
    "    trace_pairs_to_avg['dist'] = trace_pairs_to_avg.apply(lambda row: dist_measure(row, card_types_BigMoneyWithGardens_vs_DoubleWitch,\n",
    "                                                                                        maxNoOfRounds, \"\", \"_avg\"), axis = 1)\n",
    "    #calculate averages and standard deviations\n",
    "    trace_pairs_to_avg = trace_pairs_to_avg[['PlayerName','dist']]\n",
    "    averages = trace_pairs_to_avg.groupby('PlayerName').mean()\n",
    "    stds = trace_pairs_to_avg.groupby('PlayerName').std()\n",
    "    \n",
    "    print(\"Results when average trace is from \" + player + \":\")\n",
    "    print(averages)\n",
    "    print(stds)\n",
    "    \n",
    "    dist_to_averages[player] = trace_pairs_to_avg"
   ]
  },
  {
   "cell_type": "code",
   "execution_count": 25,
   "id": "ef17ee93",
   "metadata": {},
   "outputs": [
    {
     "data": {
      "text/plain": [
       "<matplotlib.legend.Legend at 0x7fe4929e5a90>"
      ]
     },
     "execution_count": 25,
     "metadata": {},
     "output_type": "execute_result"
    },
    {
     "data": {
      "image/png": "[encoded data removed]",
      "text/plain": [
       "<Figure size 432x288 with 1 Axes>"
      ]
     },
     "metadata": {
      "needs_background": "light"
     },
     "output_type": "display_data"
    }
   ],
   "source": [
    "#plot distances to average traces along the real line and colour coded\n",
    "dists_BMWG_AvgBMWG = dist_to_averages['BigMoneyWithGardens'][dist_to_averages['BigMoneyWithGardens']['PlayerName'] == 'BigMoneyWithGardens']\n",
    "dists_DW_AvgBMWG = dist_to_averages['BigMoneyWithGardens'][dist_to_averages['BigMoneyWithGardens']['PlayerName'] == 'DoubleWitch']\n",
    "dists_BMWG_AvgDW = dist_to_averages['DoubleWitch'][dist_to_averages['BigMoneyWithGardens']['PlayerName'] == 'BigMoneyWithGardens']\n",
    "dists_DW_AvgDW = dist_to_averages['DoubleWitch'][dist_to_averages['BigMoneyWithGardens']['PlayerName'] == 'DoubleWitch']\n",
    "plt.scatter(dists_BMWG_AvgBMWG['dist'], [0] * dists_BMWG_AvgBMWG.shape[0], s = 2, label = 'BMWG - Avg. BMWG')\n",
    "plt.scatter(dists_DW_AvgBMWG['dist'], [0.01] * dists_DW_AvgBMWG.shape[0], s = 2, label = 'DW - Avg. BMWG')\n",
    "plt.scatter(dists_BMWG_AvgDW['dist'], [0.02] * dists_BMWG_AvgDW.shape[0], s = 2, label = 'BMWG - Avg. DW')\n",
    "plt.scatter(dists_DW_AvgDW['dist'], [0.03] * dists_DW_AvgDW.shape[0], s = 2, label = 'DW - Avg. DW')\n",
    "plt.yticks([])\n",
    "plt.xlabel('Pairwise distances')\n",
    "plt.legend(loc = (1.1,0.77))"
   ]
  },
  {
   "cell_type": "code",
   "execution_count": 26,
   "id": "6bc84362",
   "metadata": {},
   "outputs": [
    {
     "name": "stderr",
     "output_type": "stream",
     "text": [
      "/Users/anthonyowen/opt/anaconda3/lib/python3.9/site-packages/sklearn/cluster/_kmeans.py:1416: FutureWarning: The default value of `n_init` will change from 10 to 'auto' in 1.4. Set the value of `n_init` explicitly to suppress the warning\n",
      "  super()._check_params_vs_input(X, default_n_init=10)\n"
     ]
    }
   ],
   "source": [
    "#next we want to apply k-means clustering with (euclidean distance measure) on our set of traces to see if we can \n",
    "#identify BM and DW strategies without apriori knowledge of their existence. \n",
    "trace_X = extended_traces_flat.drop(['PlayerName','Player','GameID'], axis = 1)\n",
    "kmeans = KMeans(n_clusters=2, init='k-means++', n_init= 'warn', max_iter=300, tol=0.0001, verbose=0, random_state=None, copy_x=True, algorithm='lloyd').fit(trace_X)"
   ]
  },
  {
   "cell_type": "code",
   "execution_count": 41,
   "id": "4d129d09",
   "metadata": {},
   "outputs": [
    {
     "name": "stdout",
     "output_type": "stream",
     "text": [
      "             PlayerName  ClusterID\n",
      "0   BigMoneyWithGardens          1\n",
      "50          DoubleWitch          0\n"
     ]
    }
   ],
   "source": [
    "#add kmeans cluster classifications of traces to dataframe and see how that aligns with AI agent strategies\n",
    "extended_traces_flat['ClusterID'] = kmeans.labels_\n",
    "strat_vs_clusterid = extended_traces_flat[['PlayerName','ClusterID']].drop_duplicates()\n",
    "print(strat_vs_clusterid)"
   ]
  },
  {
   "cell_type": "code",
   "execution_count": 99,
   "id": "63546984",
   "metadata": {},
   "outputs": [
    {
     "name": "stdout",
     "output_type": "stream",
     "text": [
      "   GARDENS_R0  WITCH_R0  CURSE_R0  PROVINCE_R0  DUCHY_R0  ESTATE_R0  GOLD_R0  \\\n",
      "0         0.0       0.0       0.0          0.0       0.0        3.0      0.0   \n",
      "1         0.0      -0.0       0.0          0.0       0.0        3.0      0.0   \n",
      "\n",
      "   SILVER_R0  COPPER_R0  GARDENS_R1  ...  COPPER_R23  GARDENS_R24  WITCH_R24  \\\n",
      "0        1.0        7.0         0.0  ...         7.0          0.0        2.0   \n",
      "1        1.0        7.0         0.0  ...         7.0          3.0       -0.0   \n",
      "\n",
      "   CURSE_R24  PROVINCE_R24  DUCHY_R24  ESTATE_R24  GOLD_R24  SILVER_R24  \\\n",
      "0       -0.0           5.0        2.0         3.0       5.0         7.0   \n",
      "1        7.0           2.0       -0.0         3.0       8.0         7.0   \n",
      "\n",
      "   COPPER_R24  \n",
      "0         7.0  \n",
      "1         7.0  \n",
      "\n",
      "[2 rows x 225 columns]\n"
     ]
    }
   ],
   "source": [
    "#look at how the cluster centers compare to our average traces\n",
    "df_cluster_centres = pd.DataFrame(kmeans.cluster_centers_)\n",
    "cols = [card_types_BigMoneyWithGardens_vs_DoubleWitch[i] + \"_R\" + str(r) for r in range(0, maxNoOfRounds) \n",
    "        for i in range(0, len(card_types_BigMoneyWithGardens_vs_DoubleWitch))]\n",
    "df_cluster_centres.columns = cols\n",
    "#round entires to nearest integer (inline with how we define our average traces)\n",
    "df_cluster_centres = df_cluster_centres.round(0)\n",
    "print(df_cluster_centres)"
   ]
  },
  {
   "cell_type": "code",
   "execution_count": 96,
   "id": "0aea8129",
   "metadata": {},
   "outputs": [],
   "source": [
    "def deck_evol_comparison(trace1, trace2, tag1, tag2, cardTypes, maxRounds):\n",
    "    #look at evolution of number of cards of each type per round\n",
    "    noCardTypes = len(cardTypes)\n",
    "    noOfSubplotsInXDirection = 3\n",
    "    noOfSubplotsInYDirection = 3\n",
    "    fig, axs = plt.subplots(noOfSubplotsInXDirection, noOfSubplotsInYDirection)\n",
    "    for i in range(0,3):\n",
    "        for j in range(0,3):\n",
    "            cardIndex = 3*j + i\n",
    "            cardType = cardTypes[cardIndex]\n",
    "            card_col_1 = [cardType + \"_R\" + str(r) + tag1 for r in range(0,maxRounds)]\n",
    "            card_col_2 = [cardType + \"_R\" + str(r) + tag2 for r in range(0,maxRounds)]\n",
    "            axs[i,j].plot(range(0,maxRounds), trace1[card_col_1].iloc[0], label = 'Trace_1')\n",
    "            axs[i,j].plot(range(0,maxRounds), trace2[card_col_2].iloc[0], label = 'Trace_2')\n",
    "            axs[i,j].set_title(cardType)\n",
    "            axs[i,j].set_xlabel('Round')\n",
    "            fig.tight_layout() "
   ]
  },
  {
   "cell_type": "code",
   "execution_count": 100,
   "id": "74edf9c1",
   "metadata": {},
   "outputs": [
    {
     "data": {
      "image/png": "[encoded data removed]",
      "text/plain": [
       "<Figure size 432x288 with 9 Axes>"
      ]
     },
     "metadata": {
      "needs_background": "light"
     },
     "output_type": "display_data"
    }
   ],
   "source": [
    "#compare centre with ClusterID zero which I am assuming corresponds to first row in outputted cluster centres\n",
    "#with double witch average trace\n",
    "cluster0centre = pd.DataFrame(df_cluster_centres.iloc[0]).transpose()\n",
    "DW_avg_trace = average_traces[average_traces['AverageTraceForStrategy'] == 'DoubleWitch'].drop('AverageTraceForStrategy', axis =1)\n",
    "\n",
    "deck_evol_comparison(cluster0centre, DW_avg_trace, \"\", \"_avg\", card_types_BigMoneyWithGardens_vs_DoubleWitch\n",
    "                    ,maxNoOfRounds)"
   ]
  },
  {
   "cell_type": "code",
   "execution_count": 101,
   "id": "a1ba046c",
   "metadata": {},
   "outputs": [
    {
     "data": {
      "image/png": "[encoded data removed]",
      "text/plain": [
       "<Figure size 432x288 with 9 Axes>"
      ]
     },
     "metadata": {
      "needs_background": "light"
     },
     "output_type": "display_data"
    }
   ],
   "source": [
    "#compare centre with ClusterID one which I am assuming corresponds to the second row in outputted cluster centres\n",
    "#with BM average trace\n",
    "cluster1centre = pd.DataFrame(df_cluster_centres.iloc[1]).transpose()\n",
    "BMWG_avg_trace = average_traces[average_traces['AverageTraceForStrategy'] == 'BigMoneyWithGardens'].drop('AverageTraceForStrategy', axis =1)\n",
    "\n",
    "deck_evol_comparison(cluster1centre, BMWG_avg_trace, \"\", \"_avg\", card_types_BigMoneyWithGardens_vs_DoubleWitch\n",
    "                    ,maxNoOfRounds)"
   ]
  },
  {
   "cell_type": "code",
   "execution_count": 30,
   "id": "07586343",
   "metadata": {},
   "outputs": [],
   "source": [
    "#TODO:code not updated below this point"
   ]
  },
  {
   "cell_type": "code",
   "execution_count": 31,
   "id": "0772a516",
   "metadata": {},
   "outputs": [],
   "source": [
    "#compute again our pairwise traces but this time also breakdown by opponent type\n",
    "#pairTraceDistsGranular = sym_trace_combos[['GameID_1','GameID_2','PlayerName_1', 'OpponentName_1', 'PlayerName_2', 'OpponentName_2','dist']]\n",
    "#pairTraceDistsGranular = sym_trace_combos.groupby(['GameID_1','GameID_2','PlayerName_1', 'OpponentName_1', 'PlayerName_2', 'OpponentName_2'])['dist'].sum()\n",
    "#df_pairTraceDistsGranular = pairTraceDistsGranular.reset_index()\n",
    "#print(df_pairTraceDistsGranular)"
   ]
  },
  {
   "cell_type": "code",
   "execution_count": 32,
   "id": "c5c58ad4",
   "metadata": {},
   "outputs": [],
   "source": [
    "#esults_means = pairTraceDistsGranular.groupby(['PlayerName_1', 'OpponentName_1', 'PlayerName_2', 'OpponentName_2']).mean()\n",
    "#print(results_means)\n",
    "#results_std = pairTraceDistsGranular.groupby(['PlayerName_1', 'OpponentName_1', 'PlayerName_2', 'OpponentName_2']).std()\n",
    "#print(results_std)"
   ]
  },
  {
   "cell_type": "code",
   "execution_count": 33,
   "id": "d74bcfd9",
   "metadata": {},
   "outputs": [],
   "source": [
    "#what is happening with the large distance value for BM vs BM? i.e. why the large amount of variance?\n",
    "#look at piarwise traces for smallest and largest distance values\n",
    "#BMBM_data = df_pairwiseTraceDistances[(df_pairwiseTraceDistances['PlayerName_1'] == 'BigMoneyWithGardens') &\n",
    "#                                        (df_pairwiseTraceDistances['PlayerName_2'] == 'BigMoneyWithGardens')]\n",
    "\n",
    "#smallest_pairwise = BMBM_data.loc[BMBM_data['dist'].idxmin()]\n",
    "#largest_pairwise = BMBM_data.loc[BMBM_data['dist'].idxmax()]\n",
    "#print(smallest_pairwise)\n",
    "#print(largest_pairwise)"
   ]
  },
  {
   "cell_type": "code",
   "execution_count": 34,
   "id": "e8884b41",
   "metadata": {},
   "outputs": [],
   "source": [
    "#def deck_evol_comparison(pairwise_deck_evols, cardTypes):\n",
    "#    #look at evolution of number of cards of each type per round\n",
    "#    noCardTypes = len(cardTypes)\n",
    "#    noOfSubplotsInXDirection = 3\n",
    "#    noOfSubplotsInYDirection = 3\n",
    "#    fig, axs = plt.subplots(noOfSubplotsInXDirection, noOfSubplotsInYDirection)\n",
    "#    for i in range(0,3):\n",
    "#        for j in range(0,3):\n",
    "#            cardIndex = 3*j + i\n",
    "#            cardType = cardTypes[cardIndex]\n",
    "#            card_col_1 = cardType + \"_1\"\n",
    "#            card_col_2 = cardType + \"_2\"\n",
    "#            axs[i,j].plot(pairwise_deck_evols['Round'], pairwise_deck_evols[card_col_1], label = 'Player_1')\n",
    "#            axs[i,j].plot(pairwise_deck_evols['Round'], pairwise_deck_evols[card_col_2], label = 'Player_2')\n",
    "#            axs[i,j].set_title(cardType)\n",
    "#            axs[i,j].set_xlabel('Round')\n",
    "#            fig.tight_layout() "
   ]
  },
  {
   "cell_type": "code",
   "execution_count": 35,
   "id": "9974f113",
   "metadata": {},
   "outputs": [],
   "source": [
    "#need to look at deck evolutions for each of these cases\n",
    "#largest_pairwise_decks =  sym_trace_combos[(sym_trace_combos['GameID_1'] == largest_pairwise['GameID_1']) \n",
    "#                                           & (sym_trace_combos['GameID_2'] == largest_pairwise['GameID_2']) \n",
    "#                                           & (sym_trace_combos['PlayerName_1'] == largest_pairwise['PlayerName_1']) \n",
    "#                                           & (sym_trace_combos['PlayerName_2'] == largest_pairwise['PlayerName_2'])]\n",
    "#smallest_pairwise_decks =  sym_trace_combos[(sym_trace_combos['GameID_1'] == smallest_pairwise['GameID_1']) \n",
    "#                                           & (sym_trace_combos['GameID_2'] == smallest_pairwise['GameID_2']) \n",
    "#                                           & (sym_trace_combos['PlayerName_1'] == smallest_pairwise['PlayerName_1']) \n",
    "#                                           & (sym_trace_combos['PlayerName_2'] == smallest_pairwise['PlayerName_2'])]\n",
    "#print(largest_pairwise_decks['dist'].sum())\n",
    "#print(smallest_pairwise_decks['dist'].sum())"
   ]
  }
 ],
 "metadata": {
  "kernelspec": {
   "display_name": "Python 3 (ipykernel)",
   "language": "python",
   "name": "python3"
  },
  "language_info": {
   "codemirror_mode": {
    "name": "ipython",
    "version": 3
   },
   "file_extension": ".py",
   "mimetype": "text/x-python",
   "name": "python",
   "nbconvert_exporter": "python",
   "pygments_lexer": "ipython3",
   "version": "3.9.12"
  }
 },
 "nbformat": 4,
 "nbformat_minor": 5
}
